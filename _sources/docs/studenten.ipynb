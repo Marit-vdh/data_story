{
 "cells": [
  {
   "attachments": {},
   "cell_type": "markdown",
   "metadata": {},
   "source": [
    "# De Studenten\n",
    "\n",
    "Dit data story is gemaakt door de volgende studenten (Groep L1):\n",
    "\n",
    "\n",
    "### Hugo Eskes\n",
    "14023164 \n",
    "\n",
    "Hugo was verantwoordelijk voor de volgende grafieken:\n",
    "- Voting blocks heatmap\n",
    "- Taal en naburigheid\n",
    "- Geslacht en queerness\n",
    "\n",
    "Verder heeft hij het samenvoegen van de datasets en andere preprocessing gedaan\n",
    "\n",
    "### Marit van den Helder\n",
    "13970097 \n",
    "\n",
    "Marit was verantwoordelijk voor de grafiek met de wereldkaart en ontwikkeling van het gemiddelde aantal punten. Verder heeft ze het samenvoegen van alle bestanden beheerd, de connectie gemaakt met git en GitHub pages opgezet.\n",
    "\n",
    "### Fédérique Lalieu\n",
    "14115905 \n",
    "\n",
    "Frédérique was verantwoordelijk voor de volgende grafieken:\n",
    "- Voting blocks heatmap\n",
    "- Exposure effect\n",
    "- Running place \n",
    "\n",
    "Verder heeft ze gewerkt aan het schrijven van de inleiding, argumentatie, conclusie en taakverdeling.\n",
    "\n",
    "### Emma Schuurman\n",
    "13223372 \n",
    "\n",
    "Emma was verantwoordelijk voor het Oostblok lijndiagram. Verder heeft ze gewerkt aan het schrijven van de inleiding, argumentatie, conclusie en de reflectie. Ook heeft ze voor alle grafieken de titels en captions bedacht."
   ]
  }
 ],
 "metadata": {
  "kernelspec": {
   "display_name": "Python 3 (ipykernel)",
   "language": "python",
   "name": "python3"
  },
  "language_info": {
   "codemirror_mode": {
    "name": "ipython",
    "version": 3
   },
   "file_extension": ".py",
   "mimetype": "text/x-python",
   "name": "python",
   "nbconvert_exporter": "python",
   "pygments_lexer": "ipython3",
   "version": "3.10.6"
  }
 },
 "nbformat": 4,
 "nbformat_minor": 2
}
