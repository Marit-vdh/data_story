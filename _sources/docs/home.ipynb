{
 "cells": [
  {
   "cell_type": "markdown",
   "id": "13d64bc3",
   "metadata": {},
   "source": [
    "<!-- # Home\n",
    "\n",
    "\n",
    "(Last updated: June 26, 2023)\n",
    "\n",
    "Welkom bij de Jupyter Notebook van de data story van groep L1! Via het zijmenu kun je naar de informatie van de studenten uit groep L1, informatie over de gebruikte databases, de referentielijst en natuurlijk de data story zelf.\n",
    "\n",
    ":::{note}\n",
    "Onze data story staat dus niet op deze pagina, maar op een andere pagina op deze website.\n",
    "::: -->\n",
    "\n",
    "# My simple notebook\n",
    "\n",
    "Some **intro Markdown**!"
   ]
  },
  {
   "cell_type": "code",
   "execution_count": 1,
   "id": "4b53c783",
   "metadata": {
    "tags": [
     "mytag"
    ]
   },
   "outputs": [
    {
     "name": "stdout",
     "output_type": "stream",
     "text": [
      "A python cell\n"
     ]
    }
   ],
   "source": [
    "print(\"A python cell\")"
   ]
  },
  {
   "cell_type": "markdown",
   "id": "fff103c9",
   "metadata": {},
   "source": [
    "## A section\n",
    "\n",
    "And some more Markdown..."
   ]
  }
 ],
 "metadata": {
  "jupytext": {
   "formats": "md:myst",
   "text_representation": {
    "extension": ".md",
    "format_name": "myst"
   }
  },
  "kernelspec": {
   "display_name": "Python 3",
   "language": "python",
   "name": "python3"
  },
  "language_info": {
   "codemirror_mode": {
    "name": "ipython",
    "version": 3
   },
   "file_extension": ".py",
   "mimetype": "text/x-python",
   "name": "python",
   "nbconvert_exporter": "python",
   "pygments_lexer": "ipython3",
   "version": "3.11.3"
  },
  "source_map": [
   11,
   28,
   32
  ]
 },
 "nbformat": 4,
 "nbformat_minor": 5
}