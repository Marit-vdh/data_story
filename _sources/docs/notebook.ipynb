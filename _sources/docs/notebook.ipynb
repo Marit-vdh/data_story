{
 "cells": [
  {
   "attachments": {},
   "cell_type": "markdown",
   "metadata": {},
   "source": [
    "## Stemmen voor alles behalve de stem\n",
    "### Een visuele analyse van het stemgedrag bij het Eurovisie Songfestival\n",
    "\n",
    "Ieder jaar, zo halverwege mei, verbindt het Eurovisie Songfestival muziekliefhebbers van over heel Europa. Het festival werd voor het eerst gehouden in 1956 met slechts zeven deelnemende landen. Vandaag de dag doen er elk jaar rond de veertig landen mee. Ieder land treedt op met een zelfgeschreven nummer, waarna er via stemming van een jury en televoting een winnaar wordt bepaald. \n",
    "Het land dat wint krijgt de eer om het jaar daarop het Eurovisie Songfestival te organiseren. Dat is voor een land een mooi moment van nation building, en het kan financiële voordelen bieden op de korte en lange termijn. Het winnen van het Eurovisie Songfestival is dus een gewichtige zaak. Daarom is het interessant om te weten welke factoren het meeste effect hebben op het stemgedrag tijdens het Eurovisie Songfestival.\n",
    "In de eerste instantie zou je verwachten dat stemmen uitsluitend worden uitgedeeld op basis van muzikale voorkeur. Maar het lijkt alsof er meer meespeelt dan alleen dat. Door sommigen wordt opgemerkt dat stemgedrag tijdens het Eurovisie Songfestival meer afhankelijk is van culturele, politieke of willekeurige factoren dan van pure muzikale voorkeur. Opvallend is bijvoorbeeld dat sommige landen gemiddeld een stuk meer punten halen dan andere landen, zoals te zien is in figuur 1. En in 2022 heeft Oekraïne volgens sommigen enkel gewonnen door 'sympathy votes', vanwege de Russische invasie (Gilbert, 2022). Om dit soort biases te voorkomen, stemt elk land ook via een vakjury. Die is echter ook gevoelig gebleken voor dezelfde biases. De vraag is wat voor biases dit zijn. \n",
    "\n",
    " Ieder land reikt punten uit waarbij 50 procent via televoting en 50 procent via een jury bepaald worden. Tot 2016 gaf een land 1 tot en met 8, 10 en 12 punten aan andere landen. Vanaf 2016 werden dit twee sets, één namens de jury en één namens televoting. In onderstaand figuur is te zien hoe de jury votes die een land per jaar krijgt gemiddeld ontwikkelen. Soms krijgt een land eenmalig meer punten, soms zit er een stijgende of dalende lijn in. In dit data story proberen we te achterhalen waar dat door komt, anders dan dat de liedjes goed zijn.\n"
   ]
  },
  {
   "cell_type": "code",
   "execution_count": 1,
   "metadata": {
    "tags": [
     "hide-input"
    ]
   },
   "outputs": [],
   "source": [
    "import pandas as pd\n",
    "import plotly.express as px\n",
    "import plotly.graph_objects as go\n",
    "import csv\n",
    "import numpy as np\n",
    "\n",
    "color_blind_red, color_blind_green, color_blind_blue = '#d95f02', '#1b9e77', '#7570b3'"
   ]
  },
  {
   "cell_type": "code",
   "execution_count": 2,
   "metadata": {
    "tags": [
     "hide-input",
     "remove-output"
    ]
   },
   "outputs": [
    {
     "name": "stderr",
     "output_type": "stream",
     "text": [
      "/tmp/ipykernel_59068/1388124699.py:59: SettingWithCopyWarning: \n",
      "A value is trying to be set on a copy of a slice from a DataFrame\n",
      "\n",
      "See the caveats in the documentation: https://pandas.pydata.org/pandas-docs/stable/user_guide/indexing.html#returning-a-view-versus-a-copy\n",
      "  taal_gender_sexuality_votes_df['Sexuality'].loc[(taal_gender_sexuality_votes_df['Sexuality'].isnull() == False)] = 'Queer'\n"
     ]
    }
   ],
   "source": [
    "# Importeer het dataframe met de punten die gegeven zijn per songfestival\n",
    "votes_df = pd.read_csv('eurovision_song_contest_1975_2019.csv')\n",
    "votes_df.columns=[column.strip() for column in votes_df.columns] \n",
    "votes_df = votes_df.loc[votes_df['Jury or Televoting'] == 'J']\n",
    "votes_df = votes_df.drop(columns=['Edition', 'Duplicate', 'Jury or Televoting'])\n",
    "votes_df.replace({'The Netherands': 'The Netherlands', 'F.Y.R. Macedonia':'North Macedonia', 'Macedonia':'North Macedonia'}, inplace=True)\n",
    "\n",
    "# Seksualiteit dataframe inladen en opschonen\n",
    "sexuality_df = pd.read_csv(\"Seksualiteit.csv\", encoding= 'unicode_escape', header=None)\n",
    "sexuality_header = ['Name', 'Country', 'Year', 'Song title', 'Sexuality', 'Points', 'Place']\n",
    "sexuality_df.columns = sexuality_header  # Header toevoegen\n",
    "sexuality_df['Country'] = sexuality_df['Country'].apply(str.strip)\n",
    "sexuality_df = sexuality_df.drop(columns=['Name', 'Song title', 'Points', 'Place'])\n",
    "sexuality_df.replace({'Netherlands': 'The Netherlands', 'Bosnia and Herzegovina': 'Bosnia & Herzegovina'}, inplace=True)\n",
    "\n",
    "# gender database uitlezen en opschonen\n",
    "gender_df = pd.read_csv('song_data.csv', sep=',', encoding= 'unicode_escape')\n",
    "gender_df = gender_df.drop(columns=['race','host_10','age','semi_draw_position', 'final_draw_position', 'artist_name', 'song_name', 'language', 'style', 'direct_qualifier_10', 'main_singers', 'selection', 'key', 'BPM', 'energy', 'danceability', 'happiness', 'loudness', 'acousticness', 'instrumentalness', 'liveness', 'speechiness', 'release_date', 'key_change_10', 'backing_dancers', 'backing_singers', 'backing_instruments', 'instrument_10', 'qualified', 'final_televote_points', 'final_jury_points', 'final_televote_votes', 'final_jury_votes', 'final_place', 'final_total_points', 'semi_place', 'semi_televote_points', 'semi_jury_points', 'semi_total_points', 'favourite_10']) # onnodige kolommen verwijderen\n",
    "gender_df.replace({'Netherlands': 'The Netherlands', 'Bosnia and Herzegovina':'Bosnia & Herzegovina'}, inplace=True)\n",
    "gender_df['gender'] = gender_df['gender'].replace(\"Female\", 'Vrouw')\n",
    "gender_df['gender'] = gender_df['gender'].replace(\"Male\", 'Man')\n",
    "\n",
    "# oostblok landen dataframe uitlezen en opschonen\n",
    "oostblok_df = pd.read_csv(\"oostblok.csv\")\n",
    "oostblok_df.replace({'Czechia': 'Czech Republic', 'Türkiye':'Turkey'}, inplace=True)\n",
    "\n",
    "# lijst met landen die ooit mee hebben gedaan inladen\n",
    "with open('landen_die_ooit_meededen.txt') as landen_file:\n",
    "    landen = landen_file.readlines()\n",
    "    landen = [land.strip('\\n') for land in landen]\n",
    "    landen = [land.strip('\\ufeff') for land in landen]\n",
    "\n",
    "# iso codes vertalen naar normale namen doormiddel van een csv bestand\n",
    "iso_to_country_name = {}\n",
    "with open('cc3_cn.csv', 'r', newline='') as iso_to_country_name_file:\n",
    "    reader = csv.reader(iso_to_country_name_file)\n",
    "    next(reader)\n",
    "    for row in reader:\n",
    "        iso_code, country_name = row\n",
    "        iso_to_country_name[iso_code] = country_name\n",
    "\n",
    "# land info database inladen\n",
    "info_land_df = pd.read_csv('dist_cepii.csv', sep=';')\n",
    "info_land_df = info_land_df.replace({\"iso_o\": iso_to_country_name} | {\"iso_d\": iso_to_country_name}) # vertalen van iso codes naar normale namen\n",
    "info_land_df = info_land_df[info_land_df['iso_o'].isin(landen)] # filteren op landen die mee hebben gedaan met eurovision\n",
    "info_land_df = info_land_df[info_land_df['iso_d'].isin(landen)]\n",
    "info_land_df['contig'] = info_land_df['contig'].replace({1:True, 0:False})\n",
    "info_land_df['comlang_off'] = info_land_df['comlang_off'].replace({1:True, 0:False})\n",
    "info_land_df = info_land_df.drop(columns=['colony', 'comcol', 'curcol', 'col45', 'smctry', 'distcap', 'distw', 'distwces', 'comlang_ethno', 'dist'])\n",
    "\n",
    "# voeg de dataframes samen gebaseerd op de kolommen die de landen en jaren aangeven\n",
    "taal_votes_df = pd.merge(votes_df, info_land_df, left_on=['From country', 'To country'], right_on=['iso_o', 'iso_d'], how='left')\n",
    "taal_votes_df = taal_votes_df.drop(columns=['iso_o', 'iso_d'])\n",
    "\n",
    "taal_gender_votes_df = pd.merge(taal_votes_df, gender_df, left_on=['Year', 'To country'], right_on=['year', 'country'], how='left')\n",
    "taal_gender_votes_df = taal_gender_votes_df.drop(columns=['year', 'country'])\n",
    "\n",
    "taal_gender_sexuality_votes_df = pd.merge(taal_gender_votes_df, sexuality_df, left_on=['Year', 'To country'], right_on=['Year', 'Country'], how='left')\n",
    "taal_gender_sexuality_votes_df['Sexuality'].loc[(taal_gender_sexuality_votes_df['Sexuality'].isnull() == False)] = 'Queer' \n",
    "taal_gender_sexuality_votes_df['Sexuality'].fillna('Hetero', inplace=True)\n",
    "taal_gender_sexuality_votes_df = taal_gender_sexuality_votes_df.drop(columns=['Country'])\n",
    "\n",
    "taal_gender_sexuality_oostblok_votes_df = pd.merge(taal_gender_sexuality_votes_df, oostblok_df, left_on=['From country'], right_on=['Land'], how='left')\n",
    "taal_gender_sexuality_oostblok_votes_df.rename(columns={'Oostblok': 'From-oostblok'}, inplace=True)\n",
    "taal_gender_sexuality_oostblok_votes_df = taal_gender_sexuality_oostblok_votes_df.drop(columns=['Land'])\n",
    "taal_gender_sexuality_oostblok_votes_df = pd.merge(taal_gender_sexuality_oostblok_votes_df, oostblok_df, left_on=['To country'], right_on=['Land'], how='left')\n",
    "taal_gender_sexuality_oostblok_votes_df.rename(columns={'Oostblok': 'To-oostblok'}, inplace=True)\n",
    "taal_gender_sexuality_oostblok_votes_df = taal_gender_sexuality_oostblok_votes_df.drop(columns=['Land'])\n",
    "\n",
    "new_header = ['Year', '(semi-) final', 'From country', 'To country', 'Points', 'Contigent', 'Common language', 'Gender', 'Sexuality',  'From-oostblok', 'To-oostblok']\n",
    "taal_gender_sexuality_oostblok_votes_df.columns = new_header\n",
    "\n",
    "deelnemer_info_df = pd.read_csv('contestants.csv')\n",
    "\n",
    "# Bereken het gemiddeld aantal punten voor plek 1 tot en met 25 in de finale\n",
    "deelnemer_info_df = deelnemer_info_df[deelnemer_info_df['running_final'] < 26]\n",
    "running_place_points_df = deelnemer_info_df.groupby('running_final')['place_final'].mean()\n",
    "\n",
    "eurovision_points_df = taal_gender_sexuality_oostblok_votes_df"
   ]
  },
  {
   "cell_type": "code",
   "execution_count": 3,
   "metadata": {
    "tags": [
     "hide-input"
    ]
   },
   "outputs": [
    {
     "data": {
      "application/vnd.plotly.v1+json": {
       "config": {
        "plotlyServerURL": "https://plot.ly"
       },
       "data": [
        {
         "coloraxis": "coloraxis",
         "geo": "geo",
         "hovertemplate": "Jaar=1975<br>Land=%{location}<br>Gemiddeld aantal punten=%{z}<extra></extra>",
         "locationmode": "country names",
         "locations": [
          "Belgium",
          "Finland",
          "France",
          "Germany",
          "Ireland",
          "Israel",
          "Italy",
          "Luxembourg",
          "Malta",
          "Monaco",
          "Norway",
          "Portugal",
          "Spain",
          "Sweden",
          "Switzerland",
          "The Netherlands",
          "Turkey",
          "United Kingdom",
          "Yugoslavia"
         ],
         "name": "",
         "type": "choropleth",
         "z": [
          17,
          74,
          91,
          15,
          68,
          40,
          115,
          84,
          32,
          22,
          11,
          16,
          53,
          72,
          77,
          152,
          3,
          138,
          22
         ]
        }
       ],
       "frames": [
        {
         "data": [
          {
           "coloraxis": "coloraxis",
           "geo": "geo",
           "hovertemplate": "Jaar=1975<br>Land=%{location}<br>Gemiddeld aantal punten=%{z}<extra></extra>",
           "locationmode": "country names",
           "locations": [
            "Belgium",
            "Finland",
            "France",
            "Germany",
            "Ireland",
            "Israel",
            "Italy",
            "Luxembourg",
            "Malta",
            "Monaco",
            "Norway",
            "Portugal",
            "Spain",
            "Sweden",
            "Switzerland",
            "The Netherlands",
            "Turkey",
            "United Kingdom",
            "Yugoslavia"
           ],
           "name": "",
           "type": "choropleth",
           "z": [
            17,
            74,
            91,
            15,
            68,
            40,
            115,
            84,
            32,
            22,
            11,
            16,
            53,
            72,
            77,
            152,
            3,
            138,
            22
           ]
          }
         ],
         "name": "1975"
        },
        {
         "data": [
          {
           "coloraxis": "coloraxis",
           "geo": "geo",
           "hovertemplate": "Jaar=1976<br>Land=%{location}<br>Gemiddeld aantal punten=%{z}<extra></extra>",
           "locationmode": "country names",
           "locations": [
            "Austria",
            "Belgium",
            "Finland",
            "France",
            "Germany",
            "Greece",
            "Ireland",
            "Israel",
            "Italy",
            "Luxembourg",
            "Malta",
            "Monaco",
            "Norway",
            "Portugal",
            "Spain",
            "Sweden",
            "Switzerland",
            "The Netherlands",
            "Turkey",
            "United Kingdom",
            "Yugoslavia"
           ],
           "name": "",
           "type": "choropleth",
           "z": [
            80,
            42.5,
            59,
            119,
            13.5,
            20,
            61,
            58.5,
            92,
            50.5,
            32,
            57.5,
            9,
            20,
            32,
            72,
            84,
            104,
            3,
            151,
            16
           ]
          }
         ],
         "name": "1976"
        },
        {
         "data": [
          {
           "coloraxis": "coloraxis",
           "geo": "geo",
           "hovertemplate": "Jaar=1977<br>Land=%{location}<br>Gemiddeld aantal punten=%{z}<extra></extra>",
           "locationmode": "country names",
           "locations": [
            "Austria",
            "Belgium",
            "Finland",
            "France",
            "Germany",
            "Greece",
            "Ireland",
            "Israel",
            "Italy",
            "Luxembourg",
            "Malta",
            "Monaco",
            "Norway",
            "Portugal",
            "Spain",
            "Sweden",
            "Switzerland",
            "The Netherlands",
            "Turkey",
            "United Kingdom",
            "Yugoslavia"
           ],
           "name": "",
           "type": "choropleth",
           "z": [
            45.5,
            51.333333333333336,
            56,
            124.66666666666667,
            27.333333333333332,
            56,
            80.33333333333333,
            55.333333333333336,
            72.33333333333333,
            39.333333333333336,
            32,
            70.33333333333333,
            12,
            19.333333333333332,
            38.666666666666664,
            37,
            79.66666666666667,
            81,
            3,
            141,
            16
           ]
          }
         ],
         "name": "1977"
        },
        {
         "data": [
          {
           "coloraxis": "coloraxis",
           "geo": "geo",
           "hovertemplate": "Jaar=1978<br>Land=%{location}<br>Gemiddeld aantal punten=%{z}<extra></extra>",
           "locationmode": "country names",
           "locations": [
            "Austria",
            "Belgium",
            "Denmark",
            "Finland",
            "France",
            "Germany",
            "Greece",
            "Ireland",
            "Israel",
            "Italy",
            "Luxembourg",
            "Malta",
            "Monaco",
            "Norway",
            "Portugal",
            "Spain",
            "Sweden",
            "Switzerland",
            "The Netherlands",
            "Turkey",
            "United Kingdom",
            "Yugoslavia"
           ],
           "name": "",
           "type": "choropleth",
           "z": [
            35,
            69.75,
            13,
            42.5,
            123.25,
            41.5,
            59.333333333333336,
            81.75,
            80.75,
            67.5,
            47.75,
            32,
            79.5,
            9,
            15.75,
            45.25,
            33.333333333333336,
            76,
            70,
            2.5,
            121,
            16
           ]
          }
         ],
         "name": "1978"
        },
        {
         "data": [
          {
           "coloraxis": "coloraxis",
           "geo": "geo",
           "hovertemplate": "Jaar=1979<br>Land=%{location}<br>Gemiddeld aantal punten=%{z}<extra></extra>",
           "locationmode": "country names",
           "locations": [
            "Austria",
            "Belgium",
            "Denmark",
            "Finland",
            "France",
            "Germany",
            "Greece",
            "Ireland",
            "Israel",
            "Italy",
            "Luxembourg",
            "Malta",
            "Monaco",
            "Norway",
            "Portugal",
            "Spain",
            "Sweden",
            "Switzerland",
            "The Netherlands",
            "Turkey",
            "United Kingdom",
            "Yugoslavia"
           ],
           "name": "",
           "type": "choropleth",
           "z": [
            27.5,
            56.8,
            44.5,
            41.6,
            119.8,
            50.4,
            61.75,
            81.4,
            89.6,
            59.4,
            47,
            32,
            66,
            18.6,
            25.4,
            59.4,
            27,
            72.8,
            66.2,
            2.5,
            111.4,
            16
           ]
          }
         ],
         "name": "1979"
        },
        {
         "data": [
          {
           "coloraxis": "coloraxis",
           "geo": "geo",
           "hovertemplate": "Jaar=1980<br>Land=%{location}<br>Gemiddeld aantal punten=%{z}<extra></extra>",
           "locationmode": "country names",
           "locations": [
            "Austria",
            "Belgium",
            "Denmark",
            "Finland",
            "France",
            "Germany",
            "Greece",
            "Ireland",
            "Israel",
            "Italy",
            "Luxembourg",
            "Malta",
            "Monaco",
            "Morocco",
            "Norway",
            "Portugal",
            "Spain",
            "Sweden",
            "Switzerland",
            "The Netherlands",
            "Turkey",
            "United Kingdom",
            "Yugoslavia"
           ],
           "name": "",
           "type": "choropleth",
           "z": [
            34.8,
            49.666666666666664,
            38,
            35.666666666666664,
            107.33333333333333,
            63.333333333333336,
            55.4,
            91.66666666666667,
            89.6,
            64,
            48.5,
            32,
            66,
            7,
            18,
            33,
            55.833333333333336,
            31,
            78,
            70.66666666666667,
            9.333333333333334,
            110.5,
            16
           ]
          }
         ],
         "name": "1980"
        },
        {
         "data": [
          {
           "coloraxis": "coloraxis",
           "geo": "geo",
           "hovertemplate": "Jaar=1981<br>Land=%{location}<br>Gemiddeld aantal punten=%{z}<extra></extra>",
           "locationmode": "country names",
           "locations": [
            "Austria",
            "Belgium",
            "Cyprus",
            "Denmark",
            "Finland",
            "France",
            "Germany",
            "Greece",
            "Ireland",
            "Israel",
            "Italy",
            "Luxembourg",
            "Malta",
            "Monaco",
            "Morocco",
            "Norway",
            "Portugal",
            "Spain",
            "Sweden",
            "Switzerland",
            "The Netherlands",
            "Turkey",
            "United Kingdom",
            "Yugoslavia"
           ],
           "name": "",
           "type": "choropleth",
           "z": [
            32.333333333333336,
            48.285714285714285,
            69,
            38.75,
            34.42857142857143,
            109.85714285714286,
            73.14285714285714,
            55.333333333333336,
            93.57142857142857,
            84,
            64,
            47.42857142857143,
            32,
            66,
            7,
            15.428571428571429,
            29.571428571428573,
            53.285714285714285,
            34.166666666666664,
            84.14285714285714,
            67.85714285714286,
            9.25,
            114.14285714285714,
            22.333333333333332
           ]
          }
         ],
         "name": "1981"
        },
        {
         "data": [
          {
           "coloraxis": "coloraxis",
           "geo": "geo",
           "hovertemplate": "Jaar=1982<br>Land=%{location}<br>Gemiddeld aantal punten=%{z}<extra></extra>",
           "locationmode": "country names",
           "locations": [
            "Austria",
            "Belgium",
            "Cyprus",
            "Denmark",
            "Finland",
            "France",
            "Germany",
            "Greece",
            "Ireland",
            "Israel",
            "Italy",
            "Luxembourg",
            "Malta",
            "Monaco",
            "Morocco",
            "Norway",
            "Portugal",
            "Spain",
            "Sweden",
            "Switzerland",
            "The Netherlands",
            "Turkey",
            "United Kingdom",
            "Yugoslavia"
           ],
           "name": "",
           "type": "choropleth",
           "z": [
            35.857142857142854,
            54.25,
            77,
            32,
            30.125,
            109.85714285714286,
            84.125,
            55.333333333333336,
            88,
            86.28571428571429,
            64,
            51.25,
            32,
            66,
            7,
            18.5,
            29.875,
            53.125,
            38.857142857142854,
            85.75,
            60.375,
            11.4,
            109.375,
            22
           ]
          }
         ],
         "name": "1982"
        },
        {
         "data": [
          {
           "coloraxis": "coloraxis",
           "geo": "geo",
           "hovertemplate": "Jaar=1983<br>Land=%{location}<br>Gemiddeld aantal punten=%{z}<extra></extra>",
           "locationmode": "country names",
           "locations": [
            "Austria",
            "Belgium",
            "Cyprus",
            "Denmark",
            "Finland",
            "France",
            "Germany",
            "Greece",
            "Ireland",
            "Israel",
            "Italy",
            "Luxembourg",
            "Malta",
            "Monaco",
            "Morocco",
            "Norway",
            "Portugal",
            "Spain",
            "Sweden",
            "Switzerland",
            "The Netherlands",
            "Turkey",
            "United Kingdom",
            "Yugoslavia"
           ],
           "name": "",
           "type": "choropleth",
           "z": [
            38,
            49.666666666666664,
            60,
            29.333333333333332,
            31.333333333333332,
            103.125,
            85.22222222222223,
            52,
            88,
            92.5,
            60.714285714285715,
            61.333333333333336,
            32,
            66,
            7,
            22.333333333333332,
            30.22222222222222,
            47.22222222222222,
            49.75,
            79.33333333333333,
            61,
            9.5,
            106,
            42.6
           ]
          }
         ],
         "name": "1983"
        },
        {
         "data": [
          {
           "coloraxis": "coloraxis",
           "geo": "geo",
           "hovertemplate": "Jaar=1984<br>Land=%{location}<br>Gemiddeld aantal punten=%{z}<extra></extra>",
           "locationmode": "country names",
           "locations": [
            "Austria",
            "Belgium",
            "Cyprus",
            "Denmark",
            "Finland",
            "France",
            "Germany",
            "Greece",
            "Ireland",
            "Israel",
            "Italy",
            "Luxembourg",
            "Malta",
            "Monaco",
            "Morocco",
            "Norway",
            "Portugal",
            "Spain",
            "Sweden",
            "Switzerland",
            "The Netherlands",
            "Turkey",
            "United Kingdom",
            "Yugoslavia"
           ],
           "name": "",
           "type": "choropleth",
           "z": [
            34.333333333333336,
            51.7,
            52.75,
            39.57142857142857,
            32.8,
            98.44444444444444,
            80.1,
            52,
            93.44444444444444,
            92.5,
            61.875,
            59.1,
            32,
            66,
            7,
            23,
            31,
            53.1,
            60.333333333333336,
            74.4,
            58.3,
            13.428571428571429,
            101.7,
            39.833333333333336
           ]
          }
         ],
         "name": "1984"
        },
        {
         "data": [
          {
           "coloraxis": "coloraxis",
           "geo": "geo",
           "hovertemplate": "Jaar=1985<br>Land=%{location}<br>Gemiddeld aantal punten=%{z}<extra></extra>",
           "locationmode": "country names",
           "locations": [
            "Austria",
            "Belgium",
            "Cyprus",
            "Denmark",
            "Finland",
            "France",
            "Germany",
            "Greece",
            "Ireland",
            "Israel",
            "Italy",
            "Luxembourg",
            "Malta",
            "Monaco",
            "Morocco",
            "Norway",
            "Portugal",
            "Spain",
            "Sweden",
            "Switzerland",
            "The Netherlands",
            "Turkey",
            "United Kingdom",
            "Yugoslavia"
           ],
           "name": "",
           "type": "choropleth",
           "z": [
            36.9,
            47.63636363636363,
            45.2,
            39.75,
            35.09090909090909,
            94.2,
            82.36363636363636,
            47.375,
            93.2,
            92.55555555555556,
            63.666666666666664,
            57.09090909090909,
            32,
            66,
            7,
            32.09090909090909,
            29,
            51.54545454545455,
            64.6,
            71.18181818181819,
            58.3,
            16.25,
            101.54545454545455,
            39.833333333333336
           ]
          }
         ],
         "name": "1985"
        },
        {
         "data": [
          {
           "coloraxis": "coloraxis",
           "geo": "geo",
           "hovertemplate": "Jaar=1986<br>Land=%{location}<br>Gemiddeld aantal punten=%{z}<extra></extra>",
           "locationmode": "country names",
           "locations": [
            "Austria",
            "Belgium",
            "Cyprus",
            "Denmark",
            "Finland",
            "France",
            "Germany",
            "Greece",
            "Iceland",
            "Ireland",
            "Israel",
            "Italy",
            "Luxembourg",
            "Malta",
            "Monaco",
            "Morocco",
            "Norway",
            "Portugal",
            "Spain",
            "Sweden",
            "Switzerland",
            "The Netherlands",
            "Turkey",
            "United Kingdom",
            "Yugoslavia"
           ],
           "name": "",
           "type": "choropleth",
           "z": [
            34.63636363636363,
            58.333333333333336,
            38.333333333333336,
            43.888888888888886,
            34,
            86.81818181818181,
            80.66666666666667,
            47.375,
            19,
            93.45454545454545,
            84,
            63.666666666666664,
            62.083333333333336,
            32,
            66,
            7,
            33.083333333333336,
            28.916666666666668,
            51.5,
            65.81818181818181,
            76.91666666666667,
            56.63636363636363,
            20.333333333333332,
            99.08333333333333,
            41.142857142857146
           ]
          }
         ],
         "name": "1986"
        },
        {
         "data": [
          {
           "coloraxis": "coloraxis",
           "geo": "geo",
           "hovertemplate": "Jaar=1987<br>Land=%{location}<br>Gemiddeld aantal punten=%{z}<extra></extra>",
           "locationmode": "country names",
           "locations": [
            "Austria",
            "Belgium",
            "Cyprus",
            "Denmark",
            "Finland",
            "France",
            "Germany",
            "Greece",
            "Iceland",
            "Ireland",
            "Israel",
            "Italy",
            "Luxembourg",
            "Malta",
            "Monaco",
            "Morocco",
            "Norway",
            "Portugal",
            "Spain",
            "Sweden",
            "Switzerland",
            "The Netherlands",
            "Turkey",
            "United Kingdom",
            "Yugoslavia"
           ],
           "name": "",
           "type": "choropleth",
           "z": [
            32.416666666666664,
            58.15384615384615,
            44.285714285714285,
            47.8,
            33.84615384615385,
            83.25,
            85.3076923076923,
            49.22222222222222,
            23.5,
            100,
            83,
            67.6,
            57.61538461538461,
            32,
            66,
            7,
            35.53846153846154,
            27.846153846153847,
            48.30769230769231,
            64.5,
            73,
            58.833333333333336,
            18.3,
            95.07692307692308,
            47.5
           ]
          }
         ],
         "name": "1987"
        },
        {
         "data": [
          {
           "coloraxis": "coloraxis",
           "geo": "geo",
           "hovertemplate": "Jaar=1988<br>Land=%{location}<br>Gemiddeld aantal punten=%{z}<extra></extra>",
           "locationmode": "country names",
           "locations": [
            "Austria",
            "Belgium",
            "Cyprus",
            "Denmark",
            "Finland",
            "France",
            "Germany",
            "Greece",
            "Iceland",
            "Ireland",
            "Israel",
            "Italy",
            "Luxembourg",
            "Malta",
            "Monaco",
            "Morocco",
            "Norway",
            "Portugal",
            "Spain",
            "Sweden",
            "Switzerland",
            "The Netherlands",
            "Turkey",
            "United Kingdom",
            "Yugoslavia"
           ],
           "name": "",
           "type": "choropleth",
           "z": [
            29.923076923076923,
            54.357142857142854,
            44.285714285714285,
            51.81818181818182,
            31.642857142857142,
            81.76923076923077,
            82.64285714285714,
            45.3,
            22.333333333333332,
            98.38461538461539,
            83.16666666666667,
            66.18181818181819,
            59.92857142857143,
            32,
            66,
            7,
            39.285714285714285,
            26.214285714285715,
            49,
            63.53846153846154,
            77.57142857142857,
            59.69230769230769,
            20,
            98,
            51.888888888888886
           ]
          }
         ],
         "name": "1988"
        },
        {
         "data": [
          {
           "coloraxis": "coloraxis",
           "geo": "geo",
           "hovertemplate": "Jaar=1989<br>Land=%{location}<br>Gemiddeld aantal punten=%{z}<extra></extra>",
           "locationmode": "country names",
           "locations": [
            "Austria",
            "Belgium",
            "Cyprus",
            "Denmark",
            "Finland",
            "France",
            "Germany",
            "Greece",
            "Iceland",
            "Ireland",
            "Israel",
            "Italy",
            "Luxembourg",
            "Malta",
            "Monaco",
            "Morocco",
            "Norway",
            "Portugal",
            "Spain",
            "Sweden",
            "Switzerland",
            "The Netherlands",
            "Turkey",
            "United Kingdom",
            "Yugoslavia"
           ],
           "name": "",
           "type": "choropleth",
           "z": [
            34.714285714285715,
            51.6,
            45.125,
            56.75,
            34.6,
            80.21428571428571,
            80.2,
            46.27272727272727,
            16.75,
            92.85714285714286,
            80.61538461538461,
            65.33333333333333,
            56.46666666666667,
            32,
            66,
            7,
            38.666666666666664,
            27.066666666666666,
            51.6,
            66.85714285714286,
            75.53333333333333,
            58.642857142857146,
            18.75,
            100.13333333333334,
            60.4
           ]
          }
         ],
         "name": "1989"
        },
        {
         "data": [
          {
           "coloraxis": "coloraxis",
           "geo": "geo",
           "hovertemplate": "Jaar=1990<br>Land=%{location}<br>Gemiddeld aantal punten=%{z}<extra></extra>",
           "locationmode": "country names",
           "locations": [
            "Austria",
            "Belgium",
            "Cyprus",
            "Denmark",
            "Finland",
            "France",
            "Germany",
            "Greece",
            "Iceland",
            "Ireland",
            "Israel",
            "Italy",
            "Luxembourg",
            "Malta",
            "Monaco",
            "Morocco",
            "Norway",
            "Portugal",
            "Spain",
            "Sweden",
            "Switzerland",
            "The Netherlands",
            "Turkey",
            "United Kingdom",
            "Yugoslavia"
           ],
           "name": "",
           "type": "choropleth",
           "z": [
            36.266666666666666,
            51.25,
            44.111111111111114,
            57.30769230769231,
            32.9375,
            83.66666666666667,
            78.9375,
            43.333333333333336,
            38.2,
            95.46666666666667,
            76,
            71.76923076923077,
            55.3125,
            32,
            66,
            7,
            36.75,
            25.9375,
            54.375,
            64,
            74,
            56.4,
            18.923076923076923,
            99.3125,
            62.27272727272727
           ]
          }
         ],
         "name": "1990"
        },
        {
         "data": [
          {
           "coloraxis": "coloraxis",
           "geo": "geo",
           "hovertemplate": "Jaar=1991<br>Land=%{location}<br>Gemiddeld aantal punten=%{z}<extra></extra>",
           "locationmode": "country names",
           "locations": [
            "Austria",
            "Belgium",
            "Cyprus",
            "Denmark",
            "Finland",
            "France",
            "Germany",
            "Greece",
            "Iceland",
            "Ireland",
            "Israel",
            "Italy",
            "Luxembourg",
            "Malta",
            "Monaco",
            "Morocco",
            "Norway",
            "Portugal",
            "Spain",
            "Sweden",
            "Switzerland",
            "The Netherlands",
            "Turkey",
            "United Kingdom",
            "Yugoslavia"
           ],
           "name": "",
           "type": "choropleth",
           "z": [
            34,
            49.588235294117645,
            45.7,
            53.785714285714285,
            31.352941176470587,
            87.5625,
            74.88235294117646,
            42.76923076923077,
            36.166666666666664,
            92.4375,
            80.2,
            73,
            53.76470588235294,
            69,
            66,
            7,
            35.411764705882355,
            28.058823529411764,
            58.1764705882353,
            69.125,
            76.58823529411765,
            56.4,
            20.714285714285715,
            96.23529411764706,
            57.166666666666664
           ]
          }
         ],
         "name": "1991"
        },
        {
         "data": [
          {
           "coloraxis": "coloraxis",
           "geo": "geo",
           "hovertemplate": "Jaar=1992<br>Land=%{location}<br>Gemiddeld aantal punten=%{z}<extra></extra>",
           "locationmode": "country names",
           "locations": [
            "Austria",
            "Belgium",
            "Cyprus",
            "Denmark",
            "Finland",
            "France",
            "Germany",
            "Greece",
            "Iceland",
            "Ireland",
            "Israel",
            "Italy",
            "Luxembourg",
            "Malta",
            "Monaco",
            "Morocco",
            "Norway",
            "Portugal",
            "Spain",
            "Sweden",
            "Switzerland",
            "The Netherlands",
            "Turkey",
            "United Kingdom",
            "Yugoslavia"
           ],
           "name": "",
           "type": "choropleth",
           "z": [
            35.705882352941174,
            47.44444444444444,
            46.72727272727273,
            53.333333333333336,
            29.833333333333332,
            86.70588235294117,
            72.22222222222223,
            46.42857142857143,
            42.42857142857143,
            96.11764705882354,
            80.5,
            75.53333333333333,
            51.333333333333336,
            87,
            66,
            7,
            34.72222222222222,
            27.944444444444443,
            57,
            65.58823529411765,
            74.11111111111111,
            57.0625,
            20.466666666666665,
            98.61111111111111,
            56.15384615384615
           ]
          }
         ],
         "name": "1992"
        },
        {
         "data": [
          {
           "coloraxis": "coloraxis",
           "geo": "geo",
           "hovertemplate": "Jaar=1993<br>Land=%{location}<br>Gemiddeld aantal punten=%{z}<extra></extra>",
           "locationmode": "country names",
           "locations": [
            "Austria",
            "Belgium",
            "Bosnia & Herzegovina",
            "Croatia",
            "Cyprus",
            "Denmark",
            "Finland",
            "France",
            "Germany",
            "Greece",
            "Iceland",
            "Ireland",
            "Israel",
            "Italy",
            "Luxembourg",
            "Malta",
            "Monaco",
            "Morocco",
            "Norway",
            "Portugal",
            "Slovenia",
            "Spain",
            "Sweden",
            "Switzerland",
            "The Netherlands",
            "Turkey",
            "United Kingdom"
           ],
           "name": "",
           "type": "choropleth",
           "z": [
            35.5,
            45.10526315789474,
            27,
            31,
            44.25,
            50.5625,
            29.31578947368421,
            88.61111111111111,
            69.36842105263158,
            47.6,
            42.375,
            101.16666666666667,
            76,
            73.625,
            49.21052631578947,
            82.5,
            66,
            7,
            39.21052631578947,
            29.63157894736842,
            9,
            57.05263157894737,
            66.88888888888889,
            78,
            59.11764705882353,
            19.8125,
            102.05263157894737
           ]
          }
         ],
         "name": "1993"
        },
        {
         "data": [
          {
           "coloraxis": "coloraxis",
           "geo": "geo",
           "hovertemplate": "Jaar=1994<br>Land=%{location}<br>Gemiddeld aantal punten=%{z}<extra></extra>",
           "locationmode": "country names",
           "locations": [
            "Austria",
            "Belgium",
            "Bosnia & Herzegovina",
            "Croatia",
            "Cyprus",
            "Denmark",
            "Estonia",
            "Finland",
            "France",
            "Germany",
            "Greece",
            "Hungary",
            "Iceland",
            "Ireland",
            "Israel",
            "Italy",
            "Lithuania",
            "Luxembourg",
            "Malta",
            "Monaco",
            "Morocco",
            "Norway",
            "Poland",
            "Portugal",
            "Romania",
            "Russia",
            "Slovakia",
            "Slovenia",
            "Spain",
            "Sweden",
            "Switzerland",
            "The Netherlands",
            "Turkey",
            "United Kingdom"
           ],
           "name": "",
           "type": "choropleth",
           "z": [
            34.63157894736842,
            45.10526315789474,
            33,
            29,
            44.76923076923077,
            50.5625,
            2,
            28.4,
            87.84210526315789,
            72.3,
            47.375,
            122,
            43.111111111111114,
            107.73684210526316,
            76,
            73.625,
            0,
            49.21052631578947,
            85.4,
            66,
            7,
            41.05,
            166,
            31.8,
            14,
            70,
            15,
            9,
            55.05,
            65.89473684210526,
            74.85,
            56.05555555555556,
            19.8125,
            100.1
           ]
          }
         ],
         "name": "1994"
        },
        {
         "data": [
          {
           "coloraxis": "coloraxis",
           "geo": "geo",
           "hovertemplate": "Jaar=1995<br>Land=%{location}<br>Gemiddeld aantal punten=%{z}<extra></extra>",
           "locationmode": "country names",
           "locations": [
            "Austria",
            "Belgium",
            "Bosnia & Herzegovina",
            "Croatia",
            "Cyprus",
            "Denmark",
            "Estonia",
            "Finland",
            "France",
            "Germany",
            "Greece",
            "Hungary",
            "Iceland",
            "Ireland",
            "Israel",
            "Italy",
            "Lithuania",
            "Luxembourg",
            "Malta",
            "Monaco",
            "Morocco",
            "Norway",
            "Poland",
            "Portugal",
            "Romania",
            "Russia",
            "Slovakia",
            "Slovenia",
            "Spain",
            "Sweden",
            "Switzerland",
            "The Netherlands",
            "Turkey",
            "United Kingdom"
           ],
           "name": "",
           "type": "choropleth",
           "z": [
            36.25,
            43.25,
            26.666666666666668,
            49.666666666666664,
            47.214285714285715,
            53,
            2,
            28.4,
            88.15,
            68.9047619047619,
            48.588235294117645,
            62.5,
            41.9,
            104.55,
            76.27777777777777,
            73.625,
            0,
            49.21052631578947,
            83.83333333333333,
            66,
            7,
            46.142857142857146,
            90.5,
            30.523809523809526,
            14,
            43.5,
            15,
            46.5,
            58.095238095238095,
            67.6,
            74.85,
            56.05555555555556,
            19.88235294117647,
            98.95238095238095
           ]
          }
         ],
         "name": "1995"
        },
        {
         "data": [
          {
           "coloraxis": "coloraxis",
           "geo": "geo",
           "hovertemplate": "Jaar=1996<br>Land=%{location}<br>Gemiddeld aantal punten=%{z}<extra></extra>",
           "locationmode": "country names",
           "locations": [
            "Austria",
            "Belgium",
            "Bosnia & Herzegovina",
            "Croatia",
            "Cyprus",
            "Denmark",
            "Estonia",
            "Finland",
            "France",
            "Germany",
            "Greece",
            "Hungary",
            "Iceland",
            "Ireland",
            "Israel",
            "Italy",
            "Lithuania",
            "Luxembourg",
            "Malta",
            "Monaco",
            "Morocco",
            "Norway",
            "Poland",
            "Portugal",
            "Romania",
            "Russia",
            "Slovakia",
            "Slovenia",
            "Spain",
            "Sweden",
            "Switzerland",
            "The Netherlands",
            "Turkey",
            "United Kingdom"
           ],
           "name": "",
           "type": "choropleth",
           "z": [
            37.76190476190476,
            42.23809523809524,
            23.25,
            61.75,
            48.86666666666667,
            53,
            48,
            27.476190476190474,
            84.80952380952381,
            68.9047619047619,
            47.888888888888886,
            62.5,
            42.72727272727273,
            107.28571428571429,
            76.27777777777777,
            73.625,
            0,
            49.21052631578947,
            81.57142857142857,
            66,
            7,
            49.22727272727273,
            70.66666666666667,
            33.31818181818182,
            14,
            43.5,
            17,
            36.333333333333336,
            56.22727272727273,
            69.14285714285714,
            72.33333333333333,
            57.21052631578947,
            21.944444444444443,
            97.95454545454545
           ]
          }
         ],
         "name": "1996"
        },
        {
         "data": [
          {
           "coloraxis": "coloraxis",
           "geo": "geo",
           "hovertemplate": "Jaar=1997<br>Land=%{location}<br>Gemiddeld aantal punten=%{z}<extra></extra>",
           "locationmode": "country names",
           "locations": [
            "Austria",
            "Belgium",
            "Bosnia & Herzegovina",
            "Croatia",
            "Cyprus",
            "Denmark",
            "Estonia",
            "Finland",
            "France",
            "Germany",
            "Greece",
            "Hungary",
            "Iceland",
            "Ireland",
            "Israel",
            "Italy",
            "Lithuania",
            "Luxembourg",
            "Malta",
            "Monaco",
            "Morocco",
            "Norway",
            "Poland",
            "Portugal",
            "Romania",
            "Russia",
            "Slovakia",
            "Slovenia",
            "Spain",
            "Sweden",
            "Switzerland",
            "The Netherlands",
            "Turkey",
            "United Kingdom"
           ],
           "name": "",
           "type": "choropleth",
           "z": [
            36.59090909090909,
            42.23809523809524,
            23,
            54.2,
            51.9375,
            51.44444444444444,
            59.333333333333336,
            27.476190476190474,
            85.27272727272727,
            66.77272727272727,
            47.421052631578945,
            54.666666666666664,
            40.666666666666664,
            109.54545454545455,
            76.27777777777777,
            76,
            0,
            49.21052631578947,
            79.625,
            66,
            7,
            47.08695652173913,
            66.5,
            31.869565217391305,
            14,
            40,
            17,
            42.25,
            57.95652173913044,
            67.63636363636364,
            69.27272727272727,
            54.6,
            27.157894736842106,
            103.56521739130434
           ]
          }
         ],
         "name": "1997"
        },
        {
         "data": [
          {
           "coloraxis": "coloraxis",
           "geo": "geo",
           "hovertemplate": "Jaar=1998<br>Land=%{location}<br>Gemiddeld aantal punten=%{z}<extra></extra>",
           "locationmode": "country names",
           "locations": [
            "Austria",
            "Belgium",
            "Bosnia & Herzegovina",
            "Croatia",
            "Cyprus",
            "Denmark",
            "Estonia",
            "Finland",
            "France",
            "Germany",
            "Greece",
            "Hungary",
            "Iceland",
            "Ireland",
            "Israel",
            "Italy",
            "Lithuania",
            "Luxembourg",
            "Malta",
            "Monaco",
            "Morocco",
            "North Macedonia",
            "Norway",
            "Poland",
            "Portugal",
            "Romania",
            "Russia",
            "Slovakia",
            "Slovenia",
            "Spain",
            "Sweden",
            "Switzerland",
            "The Netherlands",
            "Turkey",
            "United Kingdom"
           ],
           "name": "",
           "type": "choropleth",
           "z": [
            36.59090909090909,
            45.86363636363637,
            23,
            67,
            51.05882352941177,
            51.44444444444444,
            53.5,
            27.227272727272727,
            81.69565217391305,
            67.6086956521739,
            45.65,
            42,
            40.666666666666664,
            107.56521739130434,
            81.3157894736842,
            76,
            0,
            49.21052631578947,
            89.11111111111111,
            66,
            7,
            16,
            48.416666666666664,
            57,
            32.041666666666664,
            10,
            40,
            14,
            37.2,
            56.416666666666664,
            67,
            66.26086956521739,
            59.142857142857146,
            27.05,
            106.16666666666667
           ]
          }
         ],
         "name": "1998"
        },
        {
         "data": [
          {
           "coloraxis": "coloraxis",
           "geo": "geo",
           "hovertemplate": "Jaar=1999<br>Land=%{location}<br>Gemiddeld aantal punten=%{z}<extra></extra>",
           "locationmode": "country names",
           "locations": [
            "Austria",
            "Belgium",
            "Bosnia & Herzegovina",
            "Croatia",
            "Cyprus",
            "Denmark",
            "Estonia",
            "Finland",
            "France",
            "Germany",
            "Greece",
            "Hungary",
            "Iceland",
            "Ireland",
            "Israel",
            "Italy",
            "Lithuania",
            "Luxembourg",
            "Malta",
            "Monaco",
            "Morocco",
            "North Macedonia",
            "Norway",
            "Poland",
            "Portugal",
            "Romania",
            "Russia",
            "Slovakia",
            "Slovenia",
            "Spain",
            "Sweden",
            "Switzerland",
            "The Netherlands",
            "Turkey",
            "United Kingdom"
           ],
           "name": "",
           "type": "choropleth",
           "z": [
            37.82608695652174,
            45.52173913043478,
            33.5,
            74.28571428571429,
            48.333333333333336,
            52.473684210526315,
            60.8,
            27.227272727272727,
            78.875,
            70.625,
            45.65,
            42,
            48.76923076923077,
            103.83333333333333,
            81.9,
            76,
            6.5,
            49.21052631578947,
            83.4,
            66,
            7,
            16,
            47.88,
            50.333333333333336,
            31.24,
            10,
            40,
            14,
            39.333333333333336,
            54.2,
            71,
            66.26086956521739,
            59.68181818181818,
            26.761904761904763,
            103.44
           ]
          }
         ],
         "name": "1999"
        },
        {
         "data": [
          {
           "coloraxis": "coloraxis",
           "geo": "geo",
           "hovertemplate": "Jaar=2000<br>Land=%{location}<br>Gemiddeld aantal punten=%{z}<extra></extra>",
           "locationmode": "country names",
           "locations": [
            "Austria",
            "Belgium",
            "Bosnia & Herzegovina",
            "Croatia",
            "Cyprus",
            "Denmark",
            "Estonia",
            "Finland",
            "France",
            "Germany",
            "Greece",
            "Hungary",
            "Iceland",
            "Ireland",
            "Israel",
            "Italy",
            "Latvia",
            "Lithuania",
            "Luxembourg",
            "Malta",
            "Monaco",
            "Morocco",
            "North Macedonia",
            "Norway",
            "Poland",
            "Portugal",
            "Romania",
            "Russia",
            "Slovakia",
            "Slovenia",
            "Spain",
            "Sweden",
            "Switzerland",
            "The Netherlands",
            "Turkey",
            "United Kingdom"
           ],
           "name": "",
           "type": "choropleth",
           "z": [
            37.666666666666664,
            43.708333333333336,
            33.5,
            73.75,
            46.21052631578947,
            59.6,
            67,
            26.82608695652174,
            75.92,
            71.64,
            45.65,
            42,
            48.5,
            103.36,
            78.33333333333333,
            76,
            136,
            6.5,
            49.21052631578947,
            82.45454545454545,
            66,
            7,
            22.5,
            48.23076923076923,
            50.333333333333336,
            31.24,
            15,
            68.75,
            14,
            39.333333333333336,
            52.80769230769231,
            71.68,
            64.08333333333333,
            58.82608695652174,
            28.227272727272727,
            100.53846153846153
           ]
          }
         ],
         "name": "2000"
        },
        {
         "data": [
          {
           "coloraxis": "coloraxis",
           "geo": "geo",
           "hovertemplate": "Jaar=2001<br>Land=%{location}<br>Gemiddeld aantal punten=%{z}<extra></extra>",
           "locationmode": "country names",
           "locations": [
            "Austria",
            "Belgium",
            "Bosnia & Herzegovina",
            "Croatia",
            "Cyprus",
            "Denmark",
            "Estonia",
            "Finland",
            "France",
            "Germany",
            "Greece",
            "Hungary",
            "Iceland",
            "Ireland",
            "Israel",
            "Italy",
            "Latvia",
            "Lithuania",
            "Luxembourg",
            "Malta",
            "Monaco",
            "Morocco",
            "North Macedonia",
            "Norway",
            "Poland",
            "Portugal",
            "Romania",
            "Russia",
            "Slovakia",
            "Slovenia",
            "Spain",
            "Sweden",
            "Switzerland",
            "The Netherlands",
            "Turkey",
            "United Kingdom"
           ],
           "name": "",
           "type": "choropleth",
           "z": [
            37.666666666666664,
            43.708333333333336,
            32.857142857142854,
            70.22222222222223,
            46.21052631578947,
            65.19047619047619,
            85.71428571428571,
            26.82608695652174,
            78.46153846153847,
            71.42307692307692,
            50.476190476190474,
            42,
            45.46666666666667,
            99.61538461538461,
            75.9090909090909,
            76,
            76,
            16,
            49.21052631578947,
            79.58333333333333,
            66,
            7,
            22.5,
            46.55555555555556,
            44.714285714285715,
            30.73076923076923,
            15,
            62.4,
            14,
            43.714285714285715,
            53.666666666666664,
            72.76923076923077,
            64.08333333333333,
            57.041666666666664,
            28.782608695652176,
            97.85185185185185
           ]
          }
         ],
         "name": "2001"
        },
        {
         "data": [
          {
           "coloraxis": "coloraxis",
           "geo": "geo",
           "hovertemplate": "Jaar=2002<br>Land=%{location}<br>Gemiddeld aantal punten=%{z}<extra></extra>",
           "locationmode": "country names",
           "locations": [
            "Austria",
            "Belgium",
            "Bosnia & Herzegovina",
            "Croatia",
            "Cyprus",
            "Denmark",
            "Estonia",
            "Finland",
            "France",
            "Germany",
            "Greece",
            "Hungary",
            "Iceland",
            "Ireland",
            "Israel",
            "Italy",
            "Latvia",
            "Lithuania",
            "Luxembourg",
            "Malta",
            "Monaco",
            "Morocco",
            "North Macedonia",
            "Norway",
            "Poland",
            "Portugal",
            "Romania",
            "Russia",
            "Slovakia",
            "Slovenia",
            "Spain",
            "Sweden",
            "Switzerland",
            "The Netherlands",
            "Turkey",
            "United Kingdom"
           ],
           "name": "",
           "type": "choropleth",
           "z": [
            37.2,
            43.28,
            32.875,
            67.6,
            48.15,
            62.54545454545455,
            88.875,
            26.708333333333332,
            79.4074074074074,
            69.4074074074074,
            49.40909090909091,
            42,
            45.46666666666667,
            99.61538461538461,
            74.21739130434783,
            76,
            109.33333333333333,
            15,
            49.21052631578947,
            86.07692307692308,
            66,
            7,
            23.333333333333332,
            46.55555555555556,
            44.714285714285715,
            30.73076923076923,
            29,
            61.166666666666664,
            14,
            42.375,
            54.642857142857146,
            72.74074074074075,
            62.12,
            57.041666666666664,
            28.791666666666668,
            98.32142857142857
           ]
          }
         ],
         "name": "2002"
        },
        {
         "data": [
          {
           "coloraxis": "coloraxis",
           "geo": "geo",
           "hovertemplate": "Jaar=2003<br>Land=%{location}<br>Gemiddeld aantal punten=%{z}<extra></extra>",
           "locationmode": "country names",
           "locations": [
            "Austria",
            "Belgium",
            "Bosnia & Herzegovina",
            "Croatia",
            "Cyprus",
            "Denmark",
            "Estonia",
            "Finland",
            "France",
            "Germany",
            "Greece",
            "Hungary",
            "Iceland",
            "Ireland",
            "Israel",
            "Italy",
            "Latvia",
            "Lithuania",
            "Luxembourg",
            "Malta",
            "Monaco",
            "Morocco",
            "North Macedonia",
            "Norway",
            "Poland",
            "Portugal",
            "Romania",
            "Russia",
            "Slovakia",
            "Slovenia",
            "Spain",
            "Sweden",
            "Switzerland",
            "The Netherlands",
            "Turkey",
            "Ukraine",
            "United Kingdom"
           ],
           "name": "",
           "type": "choropleth",
           "z": [
            39.65384615384615,
            47.96153846153846,
            32.22222222222222,
            64.0909090909091,
            46.57142857142857,
            62.54545454545455,
            80.55555555555556,
            26.708333333333332,
            77.25,
            68.82142857142857,
            48.34782608695652,
            42,
            47.6875,
            97.88888888888889,
            71.83333333333333,
            76,
            109.33333333333333,
            13,
            49.21052631578947,
            80.21428571428571,
            66,
            7,
            23.333333333333332,
            49.285714285714285,
            50.375,
            30.074074074074073,
            37.8,
            75.85714285714286,
            14,
            38.44444444444444,
            55.55172413793103,
            73.96428571428571,
            62.12,
            56.56,
            34.32,
            30,
            94.93103448275862
           ]
          }
         ],
         "name": "2003"
        },
        {
         "data": [
          {
           "coloraxis": "coloraxis",
           "geo": "geo",
           "hovertemplate": "Jaar=2004<br>Land=%{location}<br>Gemiddeld aantal punten=%{z}<extra></extra>",
           "locationmode": "country names",
           "locations": [
            "Albania",
            "Austria",
            "Belgium",
            "Bosnia & Herzegovina",
            "Croatia",
            "Cyprus",
            "Denmark",
            "Estonia",
            "Finland",
            "France",
            "Germany",
            "Greece",
            "Hungary",
            "Iceland",
            "Ireland",
            "Israel",
            "Italy",
            "Latvia",
            "Lithuania",
            "Luxembourg",
            "Malta",
            "Monaco",
            "Morocco",
            "North Macedonia",
            "Norway",
            "Poland",
            "Portugal",
            "Romania",
            "Russia",
            "Serbia & Montenegro",
            "Slovakia",
            "Slovenia",
            "Spain",
            "Sweden",
            "Switzerland",
            "The Netherlands",
            "Turkey",
            "Ukraine",
            "United Kingdom"
           ],
           "name": "",
           "type": "choropleth",
           "z": [
            106,
            38.51851851851852,
            46.44444444444444,
            38.1,
            62.916666666666664,
            52.18181818181818,
            62.54545454545455,
            80.55555555555556,
            26.708333333333332,
            75.96551724137932,
            69.65517241379311,
            56.833333333333336,
            42,
            45.8235294117647,
            94.64285714285714,
            71.83333333333333,
            76,
            109.33333333333333,
            13,
            49.21052631578947,
            78.2,
            66,
            7,
            29.25,
            47.689655172413794,
            47.77777777777778,
            30.074074074074073,
            34.5,
            74.75,
            263,
            14,
            38.44444444444444,
            56.6,
            77.27586206896552,
            62.12,
            54.80769230769231,
            40.5,
            155,
            92.73333333333333
           ]
          }
         ],
         "name": "2004"
        },
        {
         "data": [
          {
           "coloraxis": "coloraxis",
           "geo": "geo",
           "hovertemplate": "Jaar=2005<br>Land=%{location}<br>Gemiddeld aantal punten=%{z}<extra></extra>",
           "locationmode": "country names",
           "locations": [
            "Albania",
            "Austria",
            "Belgium",
            "Bosnia & Herzegovina",
            "Croatia",
            "Cyprus",
            "Denmark",
            "Estonia",
            "Finland",
            "France",
            "Germany",
            "Greece",
            "Hungary",
            "Iceland",
            "Ireland",
            "Israel",
            "Italy",
            "Latvia",
            "Lithuania",
            "Luxembourg",
            "Malta",
            "Moldova",
            "Monaco",
            "Morocco",
            "North Macedonia",
            "Norway",
            "Poland",
            "Portugal",
            "Romania",
            "Russia",
            "Serbia & Montenegro",
            "Slovakia",
            "Slovenia",
            "Spain",
            "Sweden",
            "Switzerland",
            "The Netherlands",
            "Turkey",
            "Ukraine",
            "United Kingdom"
           ],
           "name": "",
           "type": "choropleth",
           "z": [
            159,
            38.51851851851852,
            46.44444444444444,
            41.81818181818182,
            66.92307692307692,
            51.91304347826087,
            65.26086956521739,
            80.55555555555556,
            26.708333333333332,
            73.8,
            67.46666666666667,
            63.76,
            53,
            45.8235294117647,
            94.64285714285714,
            75.12,
            76,
            120.25,
            13,
            49.21052631578947,
            85.3125,
            148,
            66,
            7,
            33.8,
            50.266666666666666,
            47.77777777777778,
            30.074074074074073,
            52.142857142857146,
            72.77777777777777,
            200,
            14,
            38.44444444444444,
            55.67741935483871,
            75.7,
            64.65384615384616,
            54.80769230769231,
            42.407407407407405,
            113.33333333333333,
            90.3225806451613
           ]
          }
         ],
         "name": "2005"
        },
        {
         "data": [
          {
           "coloraxis": "coloraxis",
           "geo": "geo",
           "hovertemplate": "Jaar=2006<br>Land=%{location}<br>Gemiddeld aantal punten=%{z}<extra></extra>",
           "locationmode": "country names",
           "locations": [
            "Albania",
            "Armenia",
            "Austria",
            "Belgium",
            "Bosnia & Herzegovina",
            "Croatia",
            "Cyprus",
            "Denmark",
            "Estonia",
            "Finland",
            "France",
            "Germany",
            "Greece",
            "Hungary",
            "Iceland",
            "Ireland",
            "Israel",
            "Italy",
            "Latvia",
            "Lithuania",
            "Luxembourg",
            "Malta",
            "Moldova",
            "Monaco",
            "Morocco",
            "North Macedonia",
            "Norway",
            "Poland",
            "Portugal",
            "Romania",
            "Russia",
            "Serbia & Montenegro",
            "Slovakia",
            "Slovenia",
            "Spain",
            "Sweden",
            "Switzerland",
            "The Netherlands",
            "Turkey",
            "Ukraine",
            "United Kingdom"
           ],
           "name": "",
           "type": "choropleth",
           "z": [
            159,
            129,
            38.51851851851852,
            46.44444444444444,
            57.416666666666664,
            66.14285714285714,
            51.91304347826087,
            63.625,
            80.55555555555556,
            37.32,
            71.58064516129032,
            66.45161290322581,
            66.23076923076923,
            53,
            45.8235294117647,
            94.58620689655173,
            72.38461538461539,
            76,
            102.2,
            37.833333333333336,
            49.21052631578947,
            80.3529411764706,
            85,
            66,
            7,
            37.5,
            49.806451612903224,
            47.77777777777778,
            30.074074074074073,
            67.125,
            90.3,
            200,
            14,
            38.44444444444444,
            54.5,
            78.74193548387096,
            63.370370370370374,
            54.80769230769231,
            44.142857142857146,
            121.25,
            88.28125
           ]
          }
         ],
         "name": "2006"
        },
        {
         "data": [
          {
           "coloraxis": "coloraxis",
           "geo": "geo",
           "hovertemplate": "Jaar=2007<br>Land=%{location}<br>Gemiddeld aantal punten=%{z}<extra></extra>",
           "locationmode": "country names",
           "locations": [
            "Albania",
            "Armenia",
            "Austria",
            "Belarus",
            "Belgium",
            "Bosnia & Herzegovina",
            "Bulgaria",
            "Croatia",
            "Cyprus",
            "Denmark",
            "Estonia",
            "Finland",
            "France",
            "Georgia",
            "Germany",
            "Greece",
            "Hungary",
            "Iceland",
            "Ireland",
            "Israel",
            "Italy",
            "Latvia",
            "Lithuania",
            "Luxembourg",
            "Malta",
            "Moldova",
            "Monaco",
            "Morocco",
            "North Macedonia",
            "Norway",
            "Poland",
            "Portugal",
            "Romania",
            "Russia",
            "Serbia",
            "Serbia & Montenegro",
            "Slovakia",
            "Slovenia",
            "Spain",
            "Sweden",
            "Switzerland",
            "The Netherlands",
            "Turkey",
            "Ukraine",
            "United Kingdom"
           ],
           "name": "",
           "type": "choropleth",
           "z": [
            159,
            133.5,
            38.51851851851852,
            145,
            46.44444444444444,
            61.15384615384615,
            157,
            66.14285714285714,
            51.91304347826087,
            63.625,
            80.55555555555556,
            37.92307692307692,
            69.9375,
            97,
            65.90625,
            68.92592592592592,
            65.5,
            45.8235294117647,
            91.6,
            72.38461538461539,
            76,
            94.16666666666667,
            36.42857142857143,
            49.21052631578947,
            80.3529411764706,
            93,
            66,
            7,
            42.57142857142857,
            49.806451612903224,
            47.77777777777778,
            30.074074074074073,
            69,
            100.9090909090909,
            268,
            200,
            14,
            41.2,
            54.15151515151515,
            77.875,
            63.370370370370374,
            54.80769230769231,
            48.241379310344826,
            144,
            86.18181818181819
           ]
          }
         ],
         "name": "2007"
        },
        {
         "data": [
          {
           "coloraxis": "coloraxis",
           "geo": "geo",
           "hovertemplate": "Jaar=2008<br>Land=%{location}<br>Gemiddeld aantal punten=%{z}<extra></extra>",
           "locationmode": "country names",
           "locations": [
            "Albania",
            "Armenia",
            "Austria",
            "Azerbaijan",
            "Belarus",
            "Belgium",
            "Bosnia & Herzegovina",
            "Bulgaria",
            "Croatia",
            "Cyprus",
            "Denmark",
            "Estonia",
            "Finland",
            "France",
            "Georgia",
            "Germany",
            "Greece",
            "Hungary",
            "Iceland",
            "Ireland",
            "Israel",
            "Italy",
            "Latvia",
            "Lithuania",
            "Luxembourg",
            "Malta",
            "Moldova",
            "Monaco",
            "Morocco",
            "North Macedonia",
            "Norway",
            "Poland",
            "Portugal",
            "Romania",
            "Russia",
            "Serbia",
            "Serbia & Montenegro",
            "Slovakia",
            "Slovenia",
            "Spain",
            "Sweden",
            "Switzerland",
            "The Netherlands",
            "Turkey",
            "Ukraine",
            "United Kingdom"
           ],
           "name": "",
           "type": "choropleth",
           "z": [
            107,
            155.33333333333334,
            38.51851851851852,
            132,
            145,
            46.44444444444444,
            64.64285714285714,
            157,
            64.66666666666667,
            51.91304347826087,
            63.48,
            80.55555555555556,
            37.81481481481482,
            69.24242424242425,
            90,
            64.33333333333333,
            74.25,
            65.5,
            46.833333333333336,
            91.6,
            74.29629629629629,
            76,
            92.57142857142857,
            36.42857142857143,
            49.21052631578947,
            80.3529411764706,
            93,
            66,
            7,
            42.57142857142857,
            53.9375,
            44.4,
            31.464285714285715,
            66.6,
            115.16666666666667,
            214,
            200,
            14,
            41.2,
            54.1764705882353,
            76.93939393939394,
            63.370370370370374,
            54.80769230769231,
            51.233333333333334,
            158.33333333333334,
            84.05882352941177
           ]
          }
         ],
         "name": "2008"
        },
        {
         "data": [
          {
           "coloraxis": "coloraxis",
           "geo": "geo",
           "hovertemplate": "Jaar=2009<br>Land=%{location}<br>Gemiddeld aantal punten=%{z}<extra></extra>",
           "locationmode": "country names",
           "locations": [
            "Albania",
            "Armenia",
            "Austria",
            "Azerbaijan",
            "Belarus",
            "Belgium",
            "Bosnia & Herzegovina",
            "Bulgaria",
            "Croatia",
            "Cyprus",
            "Denmark",
            "Estonia",
            "Finland",
            "France",
            "Georgia",
            "Germany",
            "Greece",
            "Hungary",
            "Iceland",
            "Ireland",
            "Israel",
            "Italy",
            "Latvia",
            "Lithuania",
            "Luxembourg",
            "Malta",
            "Moldova",
            "Monaco",
            "Morocco",
            "North Macedonia",
            "Norway",
            "Poland",
            "Portugal",
            "Romania",
            "Russia",
            "Serbia",
            "Serbia & Montenegro",
            "Slovakia",
            "Slovenia",
            "Spain",
            "Sweden",
            "Switzerland",
            "The Netherlands",
            "Turkey",
            "Ukraine",
            "United Kingdom"
           ],
           "name": "",
           "type": "choropleth",
           "z": [
            87.33333333333333,
            139.5,
            38.51851851851852,
            169.5,
            145,
            46.44444444444444,
            67.4,
            157,
            63.4375,
            51.91304347826087,
            63.88461538461539,
            85.4,
            37.25,
            70.3529411764706,
            90,
            63.470588235294116,
            75.82758620689656,
            65.5,
            55.8421052631579,
            91.6,
            73.53571428571429,
            76,
            92.57142857142857,
            34.75,
            49.21052631578947,
            77.61111111111111,
            87,
            66,
            7,
            42.57142857142857,
            64.03030303030303,
            44.4,
            32.3448275862069,
            64.18181818181819,
            113.3076923076923,
            214,
            200,
            14,
            41.2,
            53.285714285714285,
            75.6470588235294,
            63.370370370370374,
            54.80769230769231,
            55.29032258064516,
            146.57142857142858,
            86.6
           ]
          }
         ],
         "name": "2009"
        },
        {
         "data": [
          {
           "coloraxis": "coloraxis",
           "geo": "geo",
           "hovertemplate": "Jaar=2010<br>Land=%{location}<br>Gemiddeld aantal punten=%{z}<extra></extra>",
           "locationmode": "country names",
           "locations": [
            "Albania",
            "Armenia",
            "Austria",
            "Azerbaijan",
            "Belarus",
            "Belgium",
            "Bosnia & Herzegovina",
            "Bulgaria",
            "Croatia",
            "Cyprus",
            "Denmark",
            "Estonia",
            "Finland",
            "France",
            "Georgia",
            "Germany",
            "Greece",
            "Hungary",
            "Iceland",
            "Ireland",
            "Israel",
            "Italy",
            "Latvia",
            "Lithuania",
            "Luxembourg",
            "Malta",
            "Moldova",
            "Monaco",
            "Morocco",
            "North Macedonia",
            "Norway",
            "Poland",
            "Portugal",
            "Romania",
            "Russia",
            "Serbia",
            "Serbia & Montenegro",
            "Slovakia",
            "Slovenia",
            "Spain",
            "Sweden",
            "Switzerland",
            "The Netherlands",
            "Turkey",
            "Ukraine",
            "United Kingdom"
           ],
           "name": "",
           "type": "choropleth",
           "z": [
            81,
            139.8,
            38.51851851851852,
            161.33333333333334,
            81.5,
            49.892857142857146,
            66.375,
            157,
            63.4375,
            50.875,
            67.03703703703704,
            85.4,
            37.25,
            70.68571428571428,
            105.33333333333333,
            68.68571428571428,
            77.96666666666667,
            65.5,
            55.1,
            89.45161290322581,
            73.44827586206897,
            76,
            92.57142857142857,
            34.75,
            49.21052631578947,
            77.61111111111111,
            75,
            66,
            7,
            42.57142857142857,
            63.1764705882353,
            44.4,
            32.7,
            72.33333333333333,
            111.64285714285714,
            166.66666666666666,
            200,
            14,
            41.2,
            53.69444444444444,
            75.6470588235294,
            63.370370370370374,
            54.80769230769231,
            58.875,
            141.75,
            84.47222222222223
           ]
          }
         ],
         "name": "2010"
        },
        {
         "data": [
          {
           "coloraxis": "coloraxis",
           "geo": "geo",
           "hovertemplate": "Jaar=2011<br>Land=%{location}<br>Gemiddeld aantal punten=%{z}<extra></extra>",
           "locationmode": "country names",
           "locations": [
            "Albania",
            "Armenia",
            "Austria",
            "Azerbaijan",
            "Belarus",
            "Belgium",
            "Bosnia & Herzegovina",
            "Bulgaria",
            "Croatia",
            "Cyprus",
            "Denmark",
            "Estonia",
            "Finland",
            "France",
            "Georgia",
            "Germany",
            "Greece",
            "Hungary",
            "Iceland",
            "Ireland",
            "Israel",
            "Italy",
            "Latvia",
            "Lithuania",
            "Luxembourg",
            "Malta",
            "Moldova",
            "Monaco",
            "Morocco",
            "North Macedonia",
            "Norway",
            "Poland",
            "Portugal",
            "Romania",
            "Russia",
            "Serbia",
            "Serbia & Montenegro",
            "Slovakia",
            "Slovenia",
            "Spain",
            "Sweden",
            "Switzerland",
            "The Netherlands",
            "Turkey",
            "Ukraine",
            "United Kingdom"
           ],
           "name": "",
           "type": "choropleth",
           "z": [
            81,
            139.8,
            39.42857142857143,
            176.25,
            81.5,
            49.892857142857146,
            69.82352941176471,
            157,
            63.4375,
            50.875,
            69.42857142857143,
            81.63636363636364,
            37.93103448275862,
            71,
            106.5,
            69.75,
            79.3225806451613,
            63.714285714285715,
            55.38095238095238,
            90.375,
            73.44827586206897,
            82.27777777777777,
            92.57142857142857,
            37.888888888888886,
            49.21052631578947,
            77.61111111111111,
            78.66666666666667,
            66,
            7,
            42.57142857142857,
            63.1764705882353,
            44.4,
            32.7,
            72.6923076923077,
            109.33333333333333,
            146.25,
            200,
            14,
            46.18181818181818,
            53.5945945945946,
            78.77142857142857,
            61.785714285714285,
            54.80769230769231,
            58.875,
            143.66666666666666,
            84.89189189189189
           ]
          }
         ],
         "name": "2011"
        },
        {
         "data": [
          {
           "coloraxis": "coloraxis",
           "geo": "geo",
           "hovertemplate": "Jaar=2012<br>Land=%{location}<br>Gemiddeld aantal punten=%{z}<extra></extra>",
           "locationmode": "country names",
           "locations": [
            "Albania",
            "Armenia",
            "Austria",
            "Azerbaijan",
            "Belarus",
            "Belgium",
            "Bosnia & Herzegovina",
            "Bulgaria",
            "Croatia",
            "Cyprus",
            "Denmark",
            "Estonia",
            "Finland",
            "France",
            "Georgia",
            "Germany",
            "Greece",
            "Hungary",
            "Iceland",
            "Ireland",
            "Israel",
            "Italy",
            "Latvia",
            "Lithuania",
            "Luxembourg",
            "Malta",
            "Moldova",
            "Monaco",
            "Morocco",
            "North Macedonia",
            "Norway",
            "Poland",
            "Portugal",
            "Romania",
            "Russia",
            "Serbia",
            "Serbia & Montenegro",
            "Slovakia",
            "Slovenia",
            "Spain",
            "Sweden",
            "Switzerland",
            "The Netherlands",
            "Turkey",
            "Ukraine",
            "United Kingdom"
           ],
           "name": "",
           "type": "choropleth",
           "z": [
            94,
            139.8,
            39.42857142857143,
            171,
            81.5,
            49.892857142857146,
            69,
            157,
            63.4375,
            51.44,
            67.75862068965517,
            84.83333333333333,
            37.93103448275862,
            69.64864864864865,
            106.5,
            70.83783783783784,
            78.84375,
            58.125,
            54.95454545454545,
            89.03030303030303,
            73.44827586206897,
            83.26315789473684,
            92.57142857142857,
            41.1,
            49.21052631578947,
            75.6842105263158,
            79,
            66,
            7,
            46.125,
            61.57142857142857,
            44.4,
            32.7,
            72.57142857142857,
            118.6875,
            159.8,
            200,
            14,
            46.18181818181818,
            54.73684210526316,
            86.91666666666667,
            61.785714285714285,
            54.80769230769231,
            60.484848484848484,
            135.8,
            82.97368421052632
           ]
          }
         ],
         "name": "2012"
        },
        {
         "data": [
          {
           "coloraxis": "coloraxis",
           "geo": "geo",
           "hovertemplate": "Jaar=2013<br>Land=%{location}<br>Gemiddeld aantal punten=%{z}<extra></extra>",
           "locationmode": "country names",
           "locations": [
            "Albania",
            "Armenia",
            "Austria",
            "Azerbaijan",
            "Belarus",
            "Belgium",
            "Bosnia & Herzegovina",
            "Bulgaria",
            "Croatia",
            "Cyprus",
            "Denmark",
            "Estonia",
            "Finland",
            "France",
            "Georgia",
            "Germany",
            "Greece",
            "Hungary",
            "Iceland",
            "Ireland",
            "Israel",
            "Italy",
            "Latvia",
            "Lithuania",
            "Luxembourg",
            "Malta",
            "Moldova",
            "Monaco",
            "Morocco",
            "North Macedonia",
            "Norway",
            "Poland",
            "Portugal",
            "Romania",
            "Russia",
            "Serbia",
            "Serbia & Montenegro",
            "Slovakia",
            "Slovenia",
            "Spain",
            "Sweden",
            "Switzerland",
            "The Netherlands",
            "Turkey",
            "Ukraine",
            "United Kingdom"
           ],
           "name": "",
           "type": "choropleth",
           "z": [
            94,
            123.33333333333333,
            39.42857142857143,
            181.5,
            70.33333333333333,
            50.62068965517241,
            69,
            157,
            63.4375,
            51.44,
            74.86666666666666,
            79.76923076923077,
            37.1,
            68.1842105263158,
            95.2,
            69.44736842105263,
            81.06060606060606,
            61,
            54.608695652173914,
            86.55882352941177,
            73.44827586206897,
            85.4,
            92.57142857142857,
            38.90909090909091,
            49.21052631578947,
            77.9,
            78,
            66,
            7,
            46.125,
            65.16666666666667,
            44.4,
            32.7,
            72.06666666666666,
            121.94117647058823,
            159.8,
            200,
            14,
            46.18181818181818,
            53.53846153846154,
            86.24324324324324,
            61.785714285714285,
            57,
            60.484848484848484,
            142.9090909090909,
            81.43589743589743
           ]
          }
         ],
         "name": "2013"
        },
        {
         "data": [
          {
           "coloraxis": "coloraxis",
           "geo": "geo",
           "hovertemplate": "Jaar=2014<br>Land=%{location}<br>Gemiddeld aantal punten=%{z}<extra></extra>",
           "locationmode": "country names",
           "locations": [
            "Albania",
            "Armenia",
            "Austria",
            "Azerbaijan",
            "Belarus",
            "Belgium",
            "Bosnia & Herzegovina",
            "Bulgaria",
            "Croatia",
            "Cyprus",
            "Denmark",
            "Estonia",
            "Finland",
            "France",
            "Georgia",
            "Germany",
            "Greece",
            "Hungary",
            "Iceland",
            "Ireland",
            "Israel",
            "Italy",
            "Latvia",
            "Lithuania",
            "Luxembourg",
            "Malta",
            "Moldova",
            "Monaco",
            "Montenegro",
            "Morocco",
            "North Macedonia",
            "Norway",
            "Poland",
            "Portugal",
            "Romania",
            "Russia",
            "San Marino",
            "Serbia",
            "Serbia & Montenegro",
            "Slovakia",
            "Slovenia",
            "Spain",
            "Sweden",
            "Switzerland",
            "The Netherlands",
            "Turkey",
            "Ukraine",
            "United Kingdom"
           ],
           "name": "",
           "type": "choropleth",
           "z": [
            94,
            130.57142857142858,
            48.06896551724138,
            160.28571428571428,
            63.5,
            50.62068965517241,
            69,
            157,
            63.4375,
            51.44,
            74.83870967741936,
            79.76923076923077,
            38.225806451612904,
            66.48717948717949,
            95.2,
            68.66666666666667,
            79.70588235294117,
            69.2,
            54.75,
            86.55882352941177,
            73.44827586206897,
            82.9047619047619,
            92.57142857142857,
            38.90909090909091,
            49.21052631578947,
            75.71428571428571,
            78,
            66,
            37,
            7,
            46.125,
            65.78378378378379,
            46,
            32.7,
            72.0625,
            120.11111111111111,
            14,
            159.8,
            200,
            14,
            43.083333333333336,
            54.05,
            89.71052631578948,
            61.86206896551724,
            63.464285714285715,
            60.484848484848484,
            140.41666666666666,
            80.4
           ]
          }
         ],
         "name": "2014"
        },
        {
         "data": [
          {
           "coloraxis": "coloraxis",
           "geo": "geo",
           "hovertemplate": "Jaar=2015<br>Land=%{location}<br>Gemiddeld aantal punten=%{z}<extra></extra>",
           "locationmode": "country names",
           "locations": [
            "Albania",
            "Armenia",
            "Australia",
            "Austria",
            "Azerbaijan",
            "Belarus",
            "Belgium",
            "Bosnia & Herzegovina",
            "Bulgaria",
            "Croatia",
            "Cyprus",
            "Denmark",
            "Estonia",
            "Finland",
            "France",
            "Georgia",
            "Germany",
            "Greece",
            "Hungary",
            "Iceland",
            "Ireland",
            "Israel",
            "Italy",
            "Latvia",
            "Lithuania",
            "Luxembourg",
            "Malta",
            "Moldova",
            "Monaco",
            "Montenegro",
            "Morocco",
            "North Macedonia",
            "Norway",
            "Poland",
            "Portugal",
            "Romania",
            "Russia",
            "San Marino",
            "Serbia",
            "Serbia & Montenegro",
            "Slovakia",
            "Slovenia",
            "Spain",
            "Sweden",
            "Switzerland",
            "The Netherlands",
            "Turkey",
            "Ukraine",
            "United Kingdom"
           ],
           "name": "",
           "type": "choropleth",
           "z": [
            84,
            118.5,
            196,
            46.46666666666667,
            146.375,
            63.5,
            56.166666666666664,
            69,
            157,
            63.4375,
            49.88461538461539,
            74.83870967741936,
            81.64285714285714,
            38.225806451612904,
            64.925,
            87.83333333333333,
            66.95,
            78.08571428571429,
            64.63636363636364,
            54.75,
            86.55882352941177,
            74.23333333333333,
            92.4090909090909,
            104.25,
            38.166666666666664,
            49.21052631578947,
            75.71428571428571,
            78,
            66,
            40.5,
            7,
            46.125,
            66.73684210526316,
            43,
            32.7,
            69.88235294117646,
            129.73684210526315,
            14,
            142,
            200,
            14,
            42.76923076923077,
            53.09756097560975,
            96.76923076923077,
            61.86206896551724,
            63.464285714285715,
            60.484848484848484,
            140.41666666666666,
            78.5609756097561
           ]
          }
         ],
         "name": "2015"
        },
        {
         "data": [
          {
           "coloraxis": "coloraxis",
           "geo": "geo",
           "hovertemplate": "Jaar=2016<br>Land=%{location}<br>Gemiddeld aantal punten=%{z}<extra></extra>",
           "locationmode": "country names",
           "locations": [
            "Albania",
            "Armenia",
            "Australia",
            "Austria",
            "Azerbaijan",
            "Belarus",
            "Belgium",
            "Bosnia & Herzegovina",
            "Bulgaria",
            "Croatia",
            "Cyprus",
            "Czech Republic",
            "Denmark",
            "Estonia",
            "Finland",
            "France",
            "Georgia",
            "Germany",
            "Greece",
            "Hungary",
            "Iceland",
            "Ireland",
            "Israel",
            "Italy",
            "Latvia",
            "Lithuania",
            "Luxembourg",
            "Malta",
            "Moldova",
            "Monaco",
            "Montenegro",
            "Morocco",
            "North Macedonia",
            "Norway",
            "Poland",
            "Portugal",
            "Romania",
            "Russia",
            "San Marino",
            "Serbia",
            "Serbia & Montenegro",
            "Slovakia",
            "Slovenia",
            "Spain",
            "Sweden",
            "Switzerland",
            "The Netherlands",
            "Turkey",
            "Ukraine",
            "United Kingdom"
           ],
           "name": "",
           "type": "choropleth",
           "z": [
            84,
            118.11111111111111,
            258,
            45.96774193548387,
            135,
            63.5,
            58.54838709677419,
            69,
            142,
            62.05882352941177,
            49.629629629629626,
            41,
            74.83870967741936,
            81.64285714285714,
            38.225806451612904,
            66.95121951219512,
            86.71428571428571,
            65.34146341463415,
            78.08571428571429,
            63.583333333333336,
            54.75,
            86.55882352941177,
            75.83870967741936,
            92.30434782608695,
            100.33333333333333,
            43.23076923076923,
            49.21052631578947,
            78.5,
            78,
            66,
            40.5,
            7,
            46.125,
            66.73684210526316,
            40.23076923076923,
            32.7,
            69.88235294117646,
            129.75,
            14,
            126.71428571428571,
            200,
            14,
            42.76923076923077,
            53.42857142857143,
            97.4,
            61.86206896551724,
            65.20689655172414,
            60.484848484848484,
            145.84615384615384,
            77.97619047619048
           ]
          }
         ],
         "name": "2016"
        },
        {
         "data": [
          {
           "coloraxis": "coloraxis",
           "geo": "geo",
           "hovertemplate": "Jaar=2017<br>Land=%{location}<br>Gemiddeld aantal punten=%{z}<extra></extra>",
           "locationmode": "country names",
           "locations": [
            "Albania",
            "Armenia",
            "Australia",
            "Austria",
            "Azerbaijan",
            "Belarus",
            "Belgium",
            "Bosnia & Herzegovina",
            "Bulgaria",
            "Croatia",
            "Cyprus",
            "Czech Republic",
            "Denmark",
            "Estonia",
            "Finland",
            "France",
            "Georgia",
            "Germany",
            "Greece",
            "Hungary",
            "Iceland",
            "Ireland",
            "Israel",
            "Italy",
            "Latvia",
            "Lithuania",
            "Luxembourg",
            "Malta",
            "Moldova",
            "Monaco",
            "Montenegro",
            "Morocco",
            "North Macedonia",
            "Norway",
            "Poland",
            "Portugal",
            "Romania",
            "Russia",
            "San Marino",
            "Serbia",
            "Serbia & Montenegro",
            "Slovakia",
            "Slovenia",
            "Spain",
            "Sweden",
            "Switzerland",
            "The Netherlands",
            "Turkey",
            "Ukraine",
            "United Kingdom"
           ],
           "name": "",
           "type": "choropleth",
           "z": [
            84,
            112.1,
            229,
            47.4375,
            129.3,
            60.8,
            60.09375,
            69,
            187.33333333333334,
            60,
            49.142857142857146,
            41,
            74.65625,
            81.64285714285714,
            38.225806451612904,
            66.42857142857143,
            86.71428571428571,
            63.857142857142854,
            77.25,
            62.38461538461539,
            54.75,
            86.55882352941177,
            74.53125,
            93.70833333333333,
            100.33333333333333,
            43.23076923076923,
            49.21052631578947,
            78.5,
            81.55555555555556,
            66,
            40.5,
            7,
            46.125,
            68.33333333333333,
            39,
            43.96774193548387,
            69.22222222222223,
            129.75,
            14,
            126.71428571428571,
            200,
            14,
            42.76923076923077,
            52.18604651162791,
            100.34146341463415,
            61.86206896551724,
            67.53333333333333,
            60.484848484848484,
            136.28571428571428,
            78.46511627906976
           ]
          }
         ],
         "name": "2017"
        },
        {
         "data": [
          {
           "coloraxis": "coloraxis",
           "geo": "geo",
           "hovertemplate": "Jaar=2018<br>Land=%{location}<br>Gemiddeld aantal punten=%{z}<extra></extra>",
           "locationmode": "country names",
           "locations": [
            "Albania",
            "Armenia",
            "Australia",
            "Austria",
            "Azerbaijan",
            "Belarus",
            "Belgium",
            "Bosnia & Herzegovina",
            "Bulgaria",
            "Croatia",
            "Cyprus",
            "Czech Republic",
            "Denmark",
            "Estonia",
            "Finland",
            "France",
            "Georgia",
            "Germany",
            "Greece",
            "Hungary",
            "Iceland",
            "Ireland",
            "Israel",
            "Italy",
            "Latvia",
            "Lithuania",
            "Luxembourg",
            "Malta",
            "Moldova",
            "Monaco",
            "Montenegro",
            "Morocco",
            "North Macedonia",
            "Norway",
            "Poland",
            "Portugal",
            "Romania",
            "Russia",
            "San Marino",
            "Serbia",
            "Serbia & Montenegro",
            "Slovakia",
            "Slovenia",
            "Spain",
            "Sweden",
            "Switzerland",
            "The Netherlands",
            "Turkey",
            "Ukraine",
            "United Kingdom"
           ],
           "name": "",
           "type": "choropleth",
           "z": [
            90,
            112.1,
            194.25,
            54.21212121212121,
            129.3,
            60.8,
            60.09375,
            69,
            165.5,
            60,
            53.758620689655174,
            53.5,
            73.54545454545455,
            85.73333333333333,
            37.75,
            67.53488372093024,
            86.71428571428571,
            67.11627906976744,
            77.25,
            59.92857142857143,
            54.75,
            86.2,
            78.6969696969697,
            92.32,
            100.33333333333333,
            46.57142857142857,
            49.21052631578947,
            78.5,
            82.8,
            66,
            40.5,
            7,
            46.125,
            68.125,
            39,
            43.25,
            69.22222222222223,
            129.75,
            14,
            115.625,
            200,
            14,
            42.642857142857146,
            51.97727272727273,
            103.97619047619048,
            61.86206896551724,
            68.2258064516129,
            60.484848484848484,
            127.93333333333334,
            77.20454545454545
           ]
          }
         ],
         "name": "2018"
        },
        {
         "data": [
          {
           "coloraxis": "coloraxis",
           "geo": "geo",
           "hovertemplate": "Jaar=2019<br>Land=%{location}<br>Gemiddeld aantal punten=%{z}<extra></extra>",
           "locationmode": "country names",
           "locations": [
            "Albania",
            "Armenia",
            "Australia",
            "Austria",
            "Azerbaijan",
            "Belarus",
            "Belgium",
            "Bosnia & Herzegovina",
            "Bulgaria",
            "Croatia",
            "Cyprus",
            "Czech Republic",
            "Denmark",
            "Estonia",
            "Finland",
            "France",
            "Georgia",
            "Germany",
            "Greece",
            "Hungary",
            "Iceland",
            "Ireland",
            "Israel",
            "Italy",
            "Latvia",
            "Lithuania",
            "Luxembourg",
            "Malta",
            "Moldova",
            "Monaco",
            "Montenegro",
            "Morocco",
            "North Macedonia",
            "Norway",
            "Poland",
            "Portugal",
            "Romania",
            "Russia",
            "San Marino",
            "Serbia",
            "Serbia & Montenegro",
            "Slovakia",
            "Slovenia",
            "Spain",
            "Sweden",
            "Switzerland",
            "The Netherlands",
            "Turkey",
            "Ukraine",
            "United Kingdom"
           ],
           "name": "",
           "type": "choropleth",
           "z": [
            84,
            112.1,
            186.2,
            54.21212121212121,
            135.45454545454547,
            53.166666666666664,
            60.09375,
            69,
            165.5,
            60,
            54.166666666666664,
            84.33333333333333,
            73.32352941176471,
            82.625,
            37.75,
            67.47727272727273,
            86.71428571428571,
            66.31818181818181,
            76.43243243243244,
            59.92857142857143,
            54.48,
            86.2,
            76.73529411764706,
            96.84615384615384,
            100.33333333333333,
            46.57142857142857,
            49.21052631578947,
            78.17391304347827,
            82.8,
            66,
            40.5,
            7,
            67.11111111111111,
            67.5609756097561,
            39,
            43.25,
            69.22222222222223,
            129.42857142857142,
            14.5,
            106.88888888888889,
            200,
            14,
            42.8,
            50.955555555555556,
            107.09302325581395,
            64.66666666666667,
            73.28125,
            60.484848484848484,
            127.93333333333334,
            75.73333333333333
           ]
          }
         ],
         "name": "2019"
        }
       ],
       "layout": {
        "coloraxis": {
         "colorbar": {
          "title": {
           "text": "Gemiddeld aantal punten"
          }
         },
         "colorscale": [
          [
           0,
           "#1E88E5"
          ],
          [
           0.5,
           "#FFC107"
          ],
          [
           1,
           "#FF005D"
          ]
         ]
        },
        "geo": {
         "center": {},
         "domain": {
          "x": [
           0,
           1
          ],
          "y": [
           0,
           1
          ]
         }
        },
        "height": 700,
        "legend": {
         "tracegroupgap": 0
        },
        "sliders": [
         {
          "active": 0,
          "currentvalue": {
           "prefix": "Jaar="
          },
          "len": 0.9,
          "pad": {
           "b": 10,
           "t": 60
          },
          "steps": [
           {
            "args": [
             [
              "1975"
             ],
             {
              "frame": {
               "duration": 0,
               "redraw": true
              },
              "fromcurrent": true,
              "mode": "immediate",
              "transition": {
               "duration": 0,
               "easing": "linear"
              }
             }
            ],
            "label": "1975",
            "method": "animate"
           },
           {
            "args": [
             [
              "1976"
             ],
             {
              "frame": {
               "duration": 0,
               "redraw": true
              },
              "fromcurrent": true,
              "mode": "immediate",
              "transition": {
               "duration": 0,
               "easing": "linear"
              }
             }
            ],
            "label": "1976",
            "method": "animate"
           },
           {
            "args": [
             [
              "1977"
             ],
             {
              "frame": {
               "duration": 0,
               "redraw": true
              },
              "fromcurrent": true,
              "mode": "immediate",
              "transition": {
               "duration": 0,
               "easing": "linear"
              }
             }
            ],
            "label": "1977",
            "method": "animate"
           },
           {
            "args": [
             [
              "1978"
             ],
             {
              "frame": {
               "duration": 0,
               "redraw": true
              },
              "fromcurrent": true,
              "mode": "immediate",
              "transition": {
               "duration": 0,
               "easing": "linear"
              }
             }
            ],
            "label": "1978",
            "method": "animate"
           },
           {
            "args": [
             [
              "1979"
             ],
             {
              "frame": {
               "duration": 0,
               "redraw": true
              },
              "fromcurrent": true,
              "mode": "immediate",
              "transition": {
               "duration": 0,
               "easing": "linear"
              }
             }
            ],
            "label": "1979",
            "method": "animate"
           },
           {
            "args": [
             [
              "1980"
             ],
             {
              "frame": {
               "duration": 0,
               "redraw": true
              },
              "fromcurrent": true,
              "mode": "immediate",
              "transition": {
               "duration": 0,
               "easing": "linear"
              }
             }
            ],
            "label": "1980",
            "method": "animate"
           },
           {
            "args": [
             [
              "1981"
             ],
             {
              "frame": {
               "duration": 0,
               "redraw": true
              },
              "fromcurrent": true,
              "mode": "immediate",
              "transition": {
               "duration": 0,
               "easing": "linear"
              }
             }
            ],
            "label": "1981",
            "method": "animate"
           },
           {
            "args": [
             [
              "1982"
             ],
             {
              "frame": {
               "duration": 0,
               "redraw": true
              },
              "fromcurrent": true,
              "mode": "immediate",
              "transition": {
               "duration": 0,
               "easing": "linear"
              }
             }
            ],
            "label": "1982",
            "method": "animate"
           },
           {
            "args": [
             [
              "1983"
             ],
             {
              "frame": {
               "duration": 0,
               "redraw": true
              },
              "fromcurrent": true,
              "mode": "immediate",
              "transition": {
               "duration": 0,
               "easing": "linear"
              }
             }
            ],
            "label": "1983",
            "method": "animate"
           },
           {
            "args": [
             [
              "1984"
             ],
             {
              "frame": {
               "duration": 0,
               "redraw": true
              },
              "fromcurrent": true,
              "mode": "immediate",
              "transition": {
               "duration": 0,
               "easing": "linear"
              }
             }
            ],
            "label": "1984",
            "method": "animate"
           },
           {
            "args": [
             [
              "1985"
             ],
             {
              "frame": {
               "duration": 0,
               "redraw": true
              },
              "fromcurrent": true,
              "mode": "immediate",
              "transition": {
               "duration": 0,
               "easing": "linear"
              }
             }
            ],
            "label": "1985",
            "method": "animate"
           },
           {
            "args": [
             [
              "1986"
             ],
             {
              "frame": {
               "duration": 0,
               "redraw": true
              },
              "fromcurrent": true,
              "mode": "immediate",
              "transition": {
               "duration": 0,
               "easing": "linear"
              }
             }
            ],
            "label": "1986",
            "method": "animate"
           },
           {
            "args": [
             [
              "1987"
             ],
             {
              "frame": {
               "duration": 0,
               "redraw": true
              },
              "fromcurrent": true,
              "mode": "immediate",
              "transition": {
               "duration": 0,
               "easing": "linear"
              }
             }
            ],
            "label": "1987",
            "method": "animate"
           },
           {
            "args": [
             [
              "1988"
             ],
             {
              "frame": {
               "duration": 0,
               "redraw": true
              },
              "fromcurrent": true,
              "mode": "immediate",
              "transition": {
               "duration": 0,
               "easing": "linear"
              }
             }
            ],
            "label": "1988",
            "method": "animate"
           },
           {
            "args": [
             [
              "1989"
             ],
             {
              "frame": {
               "duration": 0,
               "redraw": true
              },
              "fromcurrent": true,
              "mode": "immediate",
              "transition": {
               "duration": 0,
               "easing": "linear"
              }
             }
            ],
            "label": "1989",
            "method": "animate"
           },
           {
            "args": [
             [
              "1990"
             ],
             {
              "frame": {
               "duration": 0,
               "redraw": true
              },
              "fromcurrent": true,
              "mode": "immediate",
              "transition": {
               "duration": 0,
               "easing": "linear"
              }
             }
            ],
            "label": "1990",
            "method": "animate"
           },
           {
            "args": [
             [
              "1991"
             ],
             {
              "frame": {
               "duration": 0,
               "redraw": true
              },
              "fromcurrent": true,
              "mode": "immediate",
              "transition": {
               "duration": 0,
               "easing": "linear"
              }
             }
            ],
            "label": "1991",
            "method": "animate"
           },
           {
            "args": [
             [
              "1992"
             ],
             {
              "frame": {
               "duration": 0,
               "redraw": true
              },
              "fromcurrent": true,
              "mode": "immediate",
              "transition": {
               "duration": 0,
               "easing": "linear"
              }
             }
            ],
            "label": "1992",
            "method": "animate"
           },
           {
            "args": [
             [
              "1993"
             ],
             {
              "frame": {
               "duration": 0,
               "redraw": true
              },
              "fromcurrent": true,
              "mode": "immediate",
              "transition": {
               "duration": 0,
               "easing": "linear"
              }
             }
            ],
            "label": "1993",
            "method": "animate"
           },
           {
            "args": [
             [
              "1994"
             ],
             {
              "frame": {
               "duration": 0,
               "redraw": true
              },
              "fromcurrent": true,
              "mode": "immediate",
              "transition": {
               "duration": 0,
               "easing": "linear"
              }
             }
            ],
            "label": "1994",
            "method": "animate"
           },
           {
            "args": [
             [
              "1995"
             ],
             {
              "frame": {
               "duration": 0,
               "redraw": true
              },
              "fromcurrent": true,
              "mode": "immediate",
              "transition": {
               "duration": 0,
               "easing": "linear"
              }
             }
            ],
            "label": "1995",
            "method": "animate"
           },
           {
            "args": [
             [
              "1996"
             ],
             {
              "frame": {
               "duration": 0,
               "redraw": true
              },
              "fromcurrent": true,
              "mode": "immediate",
              "transition": {
               "duration": 0,
               "easing": "linear"
              }
             }
            ],
            "label": "1996",
            "method": "animate"
           },
           {
            "args": [
             [
              "1997"
             ],
             {
              "frame": {
               "duration": 0,
               "redraw": true
              },
              "fromcurrent": true,
              "mode": "immediate",
              "transition": {
               "duration": 0,
               "easing": "linear"
              }
             }
            ],
            "label": "1997",
            "method": "animate"
           },
           {
            "args": [
             [
              "1998"
             ],
             {
              "frame": {
               "duration": 0,
               "redraw": true
              },
              "fromcurrent": true,
              "mode": "immediate",
              "transition": {
               "duration": 0,
               "easing": "linear"
              }
             }
            ],
            "label": "1998",
            "method": "animate"
           },
           {
            "args": [
             [
              "1999"
             ],
             {
              "frame": {
               "duration": 0,
               "redraw": true
              },
              "fromcurrent": true,
              "mode": "immediate",
              "transition": {
               "duration": 0,
               "easing": "linear"
              }
             }
            ],
            "label": "1999",
            "method": "animate"
           },
           {
            "args": [
             [
              "2000"
             ],
             {
              "frame": {
               "duration": 0,
               "redraw": true
              },
              "fromcurrent": true,
              "mode": "immediate",
              "transition": {
               "duration": 0,
               "easing": "linear"
              }
             }
            ],
            "label": "2000",
            "method": "animate"
           },
           {
            "args": [
             [
              "2001"
             ],
             {
              "frame": {
               "duration": 0,
               "redraw": true
              },
              "fromcurrent": true,
              "mode": "immediate",
              "transition": {
               "duration": 0,
               "easing": "linear"
              }
             }
            ],
            "label": "2001",
            "method": "animate"
           },
           {
            "args": [
             [
              "2002"
             ],
             {
              "frame": {
               "duration": 0,
               "redraw": true
              },
              "fromcurrent": true,
              "mode": "immediate",
              "transition": {
               "duration": 0,
               "easing": "linear"
              }
             }
            ],
            "label": "2002",
            "method": "animate"
           },
           {
            "args": [
             [
              "2003"
             ],
             {
              "frame": {
               "duration": 0,
               "redraw": true
              },
              "fromcurrent": true,
              "mode": "immediate",
              "transition": {
               "duration": 0,
               "easing": "linear"
              }
             }
            ],
            "label": "2003",
            "method": "animate"
           },
           {
            "args": [
             [
              "2004"
             ],
             {
              "frame": {
               "duration": 0,
               "redraw": true
              },
              "fromcurrent": true,
              "mode": "immediate",
              "transition": {
               "duration": 0,
               "easing": "linear"
              }
             }
            ],
            "label": "2004",
            "method": "animate"
           },
           {
            "args": [
             [
              "2005"
             ],
             {
              "frame": {
               "duration": 0,
               "redraw": true
              },
              "fromcurrent": true,
              "mode": "immediate",
              "transition": {
               "duration": 0,
               "easing": "linear"
              }
             }
            ],
            "label": "2005",
            "method": "animate"
           },
           {
            "args": [
             [
              "2006"
             ],
             {
              "frame": {
               "duration": 0,
               "redraw": true
              },
              "fromcurrent": true,
              "mode": "immediate",
              "transition": {
               "duration": 0,
               "easing": "linear"
              }
             }
            ],
            "label": "2006",
            "method": "animate"
           },
           {
            "args": [
             [
              "2007"
             ],
             {
              "frame": {
               "duration": 0,
               "redraw": true
              },
              "fromcurrent": true,
              "mode": "immediate",
              "transition": {
               "duration": 0,
               "easing": "linear"
              }
             }
            ],
            "label": "2007",
            "method": "animate"
           },
           {
            "args": [
             [
              "2008"
             ],
             {
              "frame": {
               "duration": 0,
               "redraw": true
              },
              "fromcurrent": true,
              "mode": "immediate",
              "transition": {
               "duration": 0,
               "easing": "linear"
              }
             }
            ],
            "label": "2008",
            "method": "animate"
           },
           {
            "args": [
             [
              "2009"
             ],
             {
              "frame": {
               "duration": 0,
               "redraw": true
              },
              "fromcurrent": true,
              "mode": "immediate",
              "transition": {
               "duration": 0,
               "easing": "linear"
              }
             }
            ],
            "label": "2009",
            "method": "animate"
           },
           {
            "args": [
             [
              "2010"
             ],
             {
              "frame": {
               "duration": 0,
               "redraw": true
              },
              "fromcurrent": true,
              "mode": "immediate",
              "transition": {
               "duration": 0,
               "easing": "linear"
              }
             }
            ],
            "label": "2010",
            "method": "animate"
           },
           {
            "args": [
             [
              "2011"
             ],
             {
              "frame": {
               "duration": 0,
               "redraw": true
              },
              "fromcurrent": true,
              "mode": "immediate",
              "transition": {
               "duration": 0,
               "easing": "linear"
              }
             }
            ],
            "label": "2011",
            "method": "animate"
           },
           {
            "args": [
             [
              "2012"
             ],
             {
              "frame": {
               "duration": 0,
               "redraw": true
              },
              "fromcurrent": true,
              "mode": "immediate",
              "transition": {
               "duration": 0,
               "easing": "linear"
              }
             }
            ],
            "label": "2012",
            "method": "animate"
           },
           {
            "args": [
             [
              "2013"
             ],
             {
              "frame": {
               "duration": 0,
               "redraw": true
              },
              "fromcurrent": true,
              "mode": "immediate",
              "transition": {
               "duration": 0,
               "easing": "linear"
              }
             }
            ],
            "label": "2013",
            "method": "animate"
           },
           {
            "args": [
             [
              "2014"
             ],
             {
              "frame": {
               "duration": 0,
               "redraw": true
              },
              "fromcurrent": true,
              "mode": "immediate",
              "transition": {
               "duration": 0,
               "easing": "linear"
              }
             }
            ],
            "label": "2014",
            "method": "animate"
           },
           {
            "args": [
             [
              "2015"
             ],
             {
              "frame": {
               "duration": 0,
               "redraw": true
              },
              "fromcurrent": true,
              "mode": "immediate",
              "transition": {
               "duration": 0,
               "easing": "linear"
              }
             }
            ],
            "label": "2015",
            "method": "animate"
           },
           {
            "args": [
             [
              "2016"
             ],
             {
              "frame": {
               "duration": 0,
               "redraw": true
              },
              "fromcurrent": true,
              "mode": "immediate",
              "transition": {
               "duration": 0,
               "easing": "linear"
              }
             }
            ],
            "label": "2016",
            "method": "animate"
           },
           {
            "args": [
             [
              "2017"
             ],
             {
              "frame": {
               "duration": 0,
               "redraw": true
              },
              "fromcurrent": true,
              "mode": "immediate",
              "transition": {
               "duration": 0,
               "easing": "linear"
              }
             }
            ],
            "label": "2017",
            "method": "animate"
           },
           {
            "args": [
             [
              "2018"
             ],
             {
              "frame": {
               "duration": 0,
               "redraw": true
              },
              "fromcurrent": true,
              "mode": "immediate",
              "transition": {
               "duration": 0,
               "easing": "linear"
              }
             }
            ],
            "label": "2018",
            "method": "animate"
           },
           {
            "args": [
             [
              "2019"
             ],
             {
              "frame": {
               "duration": 0,
               "redraw": true
              },
              "fromcurrent": true,
              "mode": "immediate",
              "transition": {
               "duration": 0,
               "easing": "linear"
              }
             }
            ],
            "label": "2019",
            "method": "animate"
           }
          ],
          "x": 0.1,
          "xanchor": "left",
          "y": 0,
          "yanchor": "top"
         }
        ],
        "template": {
         "data": {
          "bar": [
           {
            "error_x": {
             "color": "#2a3f5f"
            },
            "error_y": {
             "color": "#2a3f5f"
            },
            "marker": {
             "line": {
              "color": "#E5ECF6",
              "width": 0.5
             },
             "pattern": {
              "fillmode": "overlay",
              "size": 10,
              "solidity": 0.2
             }
            },
            "type": "bar"
           }
          ],
          "barpolar": [
           {
            "marker": {
             "line": {
              "color": "#E5ECF6",
              "width": 0.5
             },
             "pattern": {
              "fillmode": "overlay",
              "size": 10,
              "solidity": 0.2
             }
            },
            "type": "barpolar"
           }
          ],
          "carpet": [
           {
            "aaxis": {
             "endlinecolor": "#2a3f5f",
             "gridcolor": "white",
             "linecolor": "white",
             "minorgridcolor": "white",
             "startlinecolor": "#2a3f5f"
            },
            "baxis": {
             "endlinecolor": "#2a3f5f",
             "gridcolor": "white",
             "linecolor": "white",
             "minorgridcolor": "white",
             "startlinecolor": "#2a3f5f"
            },
            "type": "carpet"
           }
          ],
          "choropleth": [
           {
            "colorbar": {
             "outlinewidth": 0,
             "ticks": ""
            },
            "type": "choropleth"
           }
          ],
          "contour": [
           {
            "colorbar": {
             "outlinewidth": 0,
             "ticks": ""
            },
            "colorscale": [
             [
              0,
              "#0d0887"
             ],
             [
              0.1111111111111111,
              "#46039f"
             ],
             [
              0.2222222222222222,
              "#7201a8"
             ],
             [
              0.3333333333333333,
              "#9c179e"
             ],
             [
              0.4444444444444444,
              "#bd3786"
             ],
             [
              0.5555555555555556,
              "#d8576b"
             ],
             [
              0.6666666666666666,
              "#ed7953"
             ],
             [
              0.7777777777777778,
              "#fb9f3a"
             ],
             [
              0.8888888888888888,
              "#fdca26"
             ],
             [
              1,
              "#f0f921"
             ]
            ],
            "type": "contour"
           }
          ],
          "contourcarpet": [
           {
            "colorbar": {
             "outlinewidth": 0,
             "ticks": ""
            },
            "type": "contourcarpet"
           }
          ],
          "heatmap": [
           {
            "colorbar": {
             "outlinewidth": 0,
             "ticks": ""
            },
            "colorscale": [
             [
              0,
              "#0d0887"
             ],
             [
              0.1111111111111111,
              "#46039f"
             ],
             [
              0.2222222222222222,
              "#7201a8"
             ],
             [
              0.3333333333333333,
              "#9c179e"
             ],
             [
              0.4444444444444444,
              "#bd3786"
             ],
             [
              0.5555555555555556,
              "#d8576b"
             ],
             [
              0.6666666666666666,
              "#ed7953"
             ],
             [
              0.7777777777777778,
              "#fb9f3a"
             ],
             [
              0.8888888888888888,
              "#fdca26"
             ],
             [
              1,
              "#f0f921"
             ]
            ],
            "type": "heatmap"
           }
          ],
          "heatmapgl": [
           {
            "colorbar": {
             "outlinewidth": 0,
             "ticks": ""
            },
            "colorscale": [
             [
              0,
              "#0d0887"
             ],
             [
              0.1111111111111111,
              "#46039f"
             ],
             [
              0.2222222222222222,
              "#7201a8"
             ],
             [
              0.3333333333333333,
              "#9c179e"
             ],
             [
              0.4444444444444444,
              "#bd3786"
             ],
             [
              0.5555555555555556,
              "#d8576b"
             ],
             [
              0.6666666666666666,
              "#ed7953"
             ],
             [
              0.7777777777777778,
              "#fb9f3a"
             ],
             [
              0.8888888888888888,
              "#fdca26"
             ],
             [
              1,
              "#f0f921"
             ]
            ],
            "type": "heatmapgl"
           }
          ],
          "histogram": [
           {
            "marker": {
             "pattern": {
              "fillmode": "overlay",
              "size": 10,
              "solidity": 0.2
             }
            },
            "type": "histogram"
           }
          ],
          "histogram2d": [
           {
            "colorbar": {
             "outlinewidth": 0,
             "ticks": ""
            },
            "colorscale": [
             [
              0,
              "#0d0887"
             ],
             [
              0.1111111111111111,
              "#46039f"
             ],
             [
              0.2222222222222222,
              "#7201a8"
             ],
             [
              0.3333333333333333,
              "#9c179e"
             ],
             [
              0.4444444444444444,
              "#bd3786"
             ],
             [
              0.5555555555555556,
              "#d8576b"
             ],
             [
              0.6666666666666666,
              "#ed7953"
             ],
             [
              0.7777777777777778,
              "#fb9f3a"
             ],
             [
              0.8888888888888888,
              "#fdca26"
             ],
             [
              1,
              "#f0f921"
             ]
            ],
            "type": "histogram2d"
           }
          ],
          "histogram2dcontour": [
           {
            "colorbar": {
             "outlinewidth": 0,
             "ticks": ""
            },
            "colorscale": [
             [
              0,
              "#0d0887"
             ],
             [
              0.1111111111111111,
              "#46039f"
             ],
             [
              0.2222222222222222,
              "#7201a8"
             ],
             [
              0.3333333333333333,
              "#9c179e"
             ],
             [
              0.4444444444444444,
              "#bd3786"
             ],
             [
              0.5555555555555556,
              "#d8576b"
             ],
             [
              0.6666666666666666,
              "#ed7953"
             ],
             [
              0.7777777777777778,
              "#fb9f3a"
             ],
             [
              0.8888888888888888,
              "#fdca26"
             ],
             [
              1,
              "#f0f921"
             ]
            ],
            "type": "histogram2dcontour"
           }
          ],
          "mesh3d": [
           {
            "colorbar": {
             "outlinewidth": 0,
             "ticks": ""
            },
            "type": "mesh3d"
           }
          ],
          "parcoords": [
           {
            "line": {
             "colorbar": {
              "outlinewidth": 0,
              "ticks": ""
             }
            },
            "type": "parcoords"
           }
          ],
          "pie": [
           {
            "automargin": true,
            "type": "pie"
           }
          ],
          "scatter": [
           {
            "fillpattern": {
             "fillmode": "overlay",
             "size": 10,
             "solidity": 0.2
            },
            "type": "scatter"
           }
          ],
          "scatter3d": [
           {
            "line": {
             "colorbar": {
              "outlinewidth": 0,
              "ticks": ""
             }
            },
            "marker": {
             "colorbar": {
              "outlinewidth": 0,
              "ticks": ""
             }
            },
            "type": "scatter3d"
           }
          ],
          "scattercarpet": [
           {
            "marker": {
             "colorbar": {
              "outlinewidth": 0,
              "ticks": ""
             }
            },
            "type": "scattercarpet"
           }
          ],
          "scattergeo": [
           {
            "marker": {
             "colorbar": {
              "outlinewidth": 0,
              "ticks": ""
             }
            },
            "type": "scattergeo"
           }
          ],
          "scattergl": [
           {
            "marker": {
             "colorbar": {
              "outlinewidth": 0,
              "ticks": ""
             }
            },
            "type": "scattergl"
           }
          ],
          "scattermapbox": [
           {
            "marker": {
             "colorbar": {
              "outlinewidth": 0,
              "ticks": ""
             }
            },
            "type": "scattermapbox"
           }
          ],
          "scatterpolar": [
           {
            "marker": {
             "colorbar": {
              "outlinewidth": 0,
              "ticks": ""
             }
            },
            "type": "scatterpolar"
           }
          ],
          "scatterpolargl": [
           {
            "marker": {
             "colorbar": {
              "outlinewidth": 0,
              "ticks": ""
             }
            },
            "type": "scatterpolargl"
           }
          ],
          "scatterternary": [
           {
            "marker": {
             "colorbar": {
              "outlinewidth": 0,
              "ticks": ""
             }
            },
            "type": "scatterternary"
           }
          ],
          "surface": [
           {
            "colorbar": {
             "outlinewidth": 0,
             "ticks": ""
            },
            "colorscale": [
             [
              0,
              "#0d0887"
             ],
             [
              0.1111111111111111,
              "#46039f"
             ],
             [
              0.2222222222222222,
              "#7201a8"
             ],
             [
              0.3333333333333333,
              "#9c179e"
             ],
             [
              0.4444444444444444,
              "#bd3786"
             ],
             [
              0.5555555555555556,
              "#d8576b"
             ],
             [
              0.6666666666666666,
              "#ed7953"
             ],
             [
              0.7777777777777778,
              "#fb9f3a"
             ],
             [
              0.8888888888888888,
              "#fdca26"
             ],
             [
              1,
              "#f0f921"
             ]
            ],
            "type": "surface"
           }
          ],
          "table": [
           {
            "cells": {
             "fill": {
              "color": "#EBF0F8"
             },
             "line": {
              "color": "white"
             }
            },
            "header": {
             "fill": {
              "color": "#C8D4E3"
             },
             "line": {
              "color": "white"
             }
            },
            "type": "table"
           }
          ]
         },
         "layout": {
          "annotationdefaults": {
           "arrowcolor": "#2a3f5f",
           "arrowhead": 0,
           "arrowwidth": 1
          },
          "autotypenumbers": "strict",
          "coloraxis": {
           "colorbar": {
            "outlinewidth": 0,
            "ticks": ""
           }
          },
          "colorscale": {
           "diverging": [
            [
             0,
             "#8e0152"
            ],
            [
             0.1,
             "#c51b7d"
            ],
            [
             0.2,
             "#de77ae"
            ],
            [
             0.3,
             "#f1b6da"
            ],
            [
             0.4,
             "#fde0ef"
            ],
            [
             0.5,
             "#f7f7f7"
            ],
            [
             0.6,
             "#e6f5d0"
            ],
            [
             0.7,
             "#b8e186"
            ],
            [
             0.8,
             "#7fbc41"
            ],
            [
             0.9,
             "#4d9221"
            ],
            [
             1,
             "#276419"
            ]
           ],
           "sequential": [
            [
             0,
             "#0d0887"
            ],
            [
             0.1111111111111111,
             "#46039f"
            ],
            [
             0.2222222222222222,
             "#7201a8"
            ],
            [
             0.3333333333333333,
             "#9c179e"
            ],
            [
             0.4444444444444444,
             "#bd3786"
            ],
            [
             0.5555555555555556,
             "#d8576b"
            ],
            [
             0.6666666666666666,
             "#ed7953"
            ],
            [
             0.7777777777777778,
             "#fb9f3a"
            ],
            [
             0.8888888888888888,
             "#fdca26"
            ],
            [
             1,
             "#f0f921"
            ]
           ],
           "sequentialminus": [
            [
             0,
             "#0d0887"
            ],
            [
             0.1111111111111111,
             "#46039f"
            ],
            [
             0.2222222222222222,
             "#7201a8"
            ],
            [
             0.3333333333333333,
             "#9c179e"
            ],
            [
             0.4444444444444444,
             "#bd3786"
            ],
            [
             0.5555555555555556,
             "#d8576b"
            ],
            [
             0.6666666666666666,
             "#ed7953"
            ],
            [
             0.7777777777777778,
             "#fb9f3a"
            ],
            [
             0.8888888888888888,
             "#fdca26"
            ],
            [
             1,
             "#f0f921"
            ]
           ]
          },
          "colorway": [
           "#636efa",
           "#EF553B",
           "#00cc96",
           "#ab63fa",
           "#FFA15A",
           "#19d3f3",
           "#FF6692",
           "#B6E880",
           "#FF97FF",
           "#FECB52"
          ],
          "font": {
           "color": "#2a3f5f"
          },
          "geo": {
           "bgcolor": "white",
           "lakecolor": "white",
           "landcolor": "#E5ECF6",
           "showlakes": true,
           "showland": true,
           "subunitcolor": "white"
          },
          "hoverlabel": {
           "align": "left"
          },
          "hovermode": "closest",
          "mapbox": {
           "style": "light"
          },
          "paper_bgcolor": "white",
          "plot_bgcolor": "#E5ECF6",
          "polar": {
           "angularaxis": {
            "gridcolor": "white",
            "linecolor": "white",
            "ticks": ""
           },
           "bgcolor": "#E5ECF6",
           "radialaxis": {
            "gridcolor": "white",
            "linecolor": "white",
            "ticks": ""
           }
          },
          "scene": {
           "xaxis": {
            "backgroundcolor": "#E5ECF6",
            "gridcolor": "white",
            "gridwidth": 2,
            "linecolor": "white",
            "showbackground": true,
            "ticks": "",
            "zerolinecolor": "white"
           },
           "yaxis": {
            "backgroundcolor": "#E5ECF6",
            "gridcolor": "white",
            "gridwidth": 2,
            "linecolor": "white",
            "showbackground": true,
            "ticks": "",
            "zerolinecolor": "white"
           },
           "zaxis": {
            "backgroundcolor": "#E5ECF6",
            "gridcolor": "white",
            "gridwidth": 2,
            "linecolor": "white",
            "showbackground": true,
            "ticks": "",
            "zerolinecolor": "white"
           }
          },
          "shapedefaults": {
           "line": {
            "color": "#2a3f5f"
           }
          },
          "ternary": {
           "aaxis": {
            "gridcolor": "white",
            "linecolor": "white",
            "ticks": ""
           },
           "baxis": {
            "gridcolor": "white",
            "linecolor": "white",
            "ticks": ""
           },
           "bgcolor": "#E5ECF6",
           "caxis": {
            "gridcolor": "white",
            "linecolor": "white",
            "ticks": ""
           }
          },
          "title": {
           "x": 0.05
          },
          "xaxis": {
           "automargin": true,
           "gridcolor": "white",
           "linecolor": "white",
           "ticks": "",
           "title": {
            "standoff": 15
           },
           "zerolinecolor": "white",
           "zerolinewidth": 2
          },
          "yaxis": {
           "automargin": true,
           "gridcolor": "white",
           "linecolor": "white",
           "ticks": "",
           "title": {
            "standoff": 15
           },
           "zerolinecolor": "white",
           "zerolinewidth": 2
          }
         }
        },
        "title": {
         "text": "Gemiddelde van totale aantal punten in de finale per land per jaar"
        },
        "updatemenus": [
         {
          "buttons": [
           {
            "args": [
             null,
             {
              "frame": {
               "duration": 500,
               "redraw": true
              },
              "fromcurrent": true,
              "mode": "immediate",
              "transition": {
               "duration": 500,
               "easing": "linear"
              }
             }
            ],
            "label": "&#9654;",
            "method": "animate"
           },
           {
            "args": [
             [
              null
             ],
             {
              "frame": {
               "duration": 0,
               "redraw": true
              },
              "fromcurrent": true,
              "mode": "immediate",
              "transition": {
               "duration": 0,
               "easing": "linear"
              }
             }
            ],
            "label": "&#9724;",
            "method": "animate"
           }
          ],
          "direction": "left",
          "pad": {
           "r": 10,
           "t": 70
          },
          "showactive": false,
          "type": "buttons",
          "x": 0.1,
          "xanchor": "right",
          "y": 0,
          "yanchor": "top"
         }
        ]
       }
      }
     },
     "metadata": {},
     "output_type": "display_data"
    }
   ],
   "source": [
    "# Kaart van de ontwikkeling van het gemiddelde van de punten in de finale per land\n",
    "def total_per_year(dataframe):\n",
    "    \"\"\"\n",
    "    Berekent de totale hoeveelheid punten die een land per jaar in de finale van het eurovisie\n",
    "    van de vakjury heeft gekregen.\n",
    "    \"\"\"\n",
    "\n",
    "    # Maak een lege dictionary aan voor het opslaan van de data\n",
    "    total_year = {}\n",
    "    \n",
    "    # Itereer over de dataframe met gegeven punten\n",
    "    for index, row in dataframe.iterrows():\n",
    "\n",
    "        # Controleer of er een finale gezongen werd\n",
    "        if row[1] == 'f':\n",
    "\n",
    "            # Controleer of het land al in het dictionary staat\n",
    "            if row[3] in total_year:\n",
    "\n",
    "                # Controleer of het jaar al bij het land staat\n",
    "                if row[0] in total_year[row[3]]:\n",
    "\n",
    "                    # Als het jaar al aanwezig is bij het land, worden de punten opgeteld\n",
    "                    total_year[row[3]][row[0]] += row[4]\n",
    "\n",
    "                # Als het jaar nog niet aanwezig is wordt het jaar toegevoegd aan het dictionary\n",
    "                # van het land\n",
    "                else:\n",
    "                    total_year[row[3]].update({row[0]: row[4]})\n",
    "\n",
    "            # Als het land nog niet in het dictionary staat, wordt een nieuwe key aangemaakt met\n",
    "            # daarin weer een dictionary van het jaar en het aantal punten dat behaald is\n",
    "            else:\n",
    "                total_year.update({row[3]: {row[0]:row[4]}})\n",
    "\n",
    "    # Maak een dataframe om het dictionary in te kunnen zetten\n",
    "    total_per_year_df = pd.DataFrame({'Country':[], 'Year':[], 'Points':[]})\n",
    "\n",
    "    # Voeg alle elementen van het dictionary per land toe aan het dataframe\n",
    "    for country, eurovision_points_df in total_year.items():\n",
    "        for year, score in eurovision_points_df.items():\n",
    "            total_per_year_df.loc[len(total_per_year_df)] = [country, year, score]\n",
    "\n",
    "    # Sorteer het dataframe zodanig dat er slices per land gesorteerd op jaar ontstaan\n",
    "    # Dit garandeert goed verloop van de functie voor de gemiddeldes\n",
    "    sorted_df = total_per_year_df.sort_values(['Country' , 'Year'], ascending=[True, True], ignore_index=True)\n",
    "\n",
    "    return sorted_df\n",
    "\n",
    "def development_of_mean(dataframe):\n",
    "    \"\"\"\n",
    "    Berekent de verandering van het gemiddelde totale aantal punten dat een land per jaar heeft gekregen.\n",
    "    Elk jaar wordt dus het gemiddelde geupdate naar het nieuwe aantal punten dat is behaald, tenzij\n",
    "    er niet is deelgenomen aan de finale. In dat geval wordt hetzelfde gemiddelde nog eens toegevoegd\n",
    "    om gaten in de uiteindelijke grafiek te voorkomen. De functie vult ook de waardes aan tot het jaar\n",
    "    2019, zodat de grafiek bij het eindpunt van de animatie alle uiteindelijke gemiddeldes bevat.\n",
    "    \"\"\"\n",
    "\n",
    "    # Creëer een dataframe met de totale aantal punten per land per jaar\n",
    "    total_per_year_df = total_per_year(dataframe)\n",
    "    \n",
    "    # Maak een dictionary met het eerste land, jaar en punten \n",
    "    mean_per_year = {total_per_year_df.iloc[0,0] : {total_per_year_df.iloc[0,1]: total_per_year_df.iloc[0,2]}}\n",
    "\n",
    "    # Maak counters om de gemiddelden mee te kunnen berekenen\n",
    "    total_years = 0\n",
    "    total_points = total_per_year_df.iloc[0,2]\n",
    "\n",
    "    # Loop over het dataframe met totale aantal punten, sla de eerste rij over\n",
    "    for index, row in total_per_year_df[1:].iterrows():\n",
    "        # Controleer of het land hetzelfde is als in de rij ervoor\n",
    "        if row[0] == total_per_year_df.iloc[index - 1, 0]:\n",
    "\n",
    "            # Als het land hetzelfde is, controleer of het jaar maar één verschilt\n",
    "            # Zo niet, vul dan de missende jaren aan met het bestaande gemmiddelde\n",
    "            if row[1] != (total_per_year_df.iloc[index - 1, 1] + 1):\n",
    "                for year in range(total_per_year_df.iloc[index - 1, 1] + 1, row[1]):\n",
    "                    mean_per_year[row[0]].update({year : (total_points / total_years)})\n",
    "\n",
    "            # Vul het dict aan met het jaar en het nieuwe gemiddelde\n",
    "            total_points += row[2]\n",
    "            total_years += 1\n",
    "            mean_per_year[row[0]].update({row[1] : (total_points / total_years)})        \n",
    "\n",
    "        else:\n",
    "\n",
    "            # Als het land niet hetzelfde is als de rij ervoor, controleer of het laatst aangevulde jaar 2019 is\n",
    "            # Zo niet, vul dan het dict aan met hetzelfde gemiddelde tot 2019\n",
    "            if total_per_year_df.iloc[index - 1, 1] != 2019:\n",
    "                for year in range(total_per_year_df.iloc[index - 1, 1] + 1, 2020):\n",
    "                    mean_per_year[total_per_year_df.iloc[index - 1, 0]].update({year : (total_points / total_years)})\n",
    "\n",
    "            # Update het dict met het nieuwe land, jaar en aantal punten\n",
    "            mean_per_year.update({row[0]: {row[1] : row[2]}})\n",
    "\n",
    "            # Zet het totale aantal punten naar het ereste aantal punten en zet het aantal jaren op 1\n",
    "            total_points = row[2]\n",
    "            total_years = 1\n",
    "\n",
    "    # Maak een dataframe om het dictionary in te kunnen zetten\n",
    "    mean_per_year_df = pd.DataFrame({'Country':[], 'Year':[], 'Points':[]})\n",
    "\n",
    "    # Itereer over het dictionary om de waardes in het dataframe te zetten\n",
    "    for country, euro in mean_per_year.items():\n",
    "        for year, score in euro.items():\n",
    "            mean_per_year_df.loc[len(mean_per_year_df)] = [country, year, score]\n",
    "\n",
    "    return mean_per_year_df\n",
    "\n",
    "# Creëer een dataframe met het gemiddelde aantal punten per jaar\n",
    "mean_per_year = development_of_mean(eurovision_points_df)\n",
    "\n",
    "year_order = [year for year in range(1957, 2020)]\n",
    "\n",
    "# Creëer een figuur met een wereldkaart waar per jaar de gemiddelde punten op worden laten zien\n",
    "fig_per_year = px.choropleth(mean_per_year, \n",
    "                    category_orders={'Year': year_order},\n",
    "                    locationmode='country names', \n",
    "                    locations='Country', \n",
    "                    color='Points',\n",
    "                    animation_frame='Year',\n",
    "                    title='Gemiddelde van totale aantal punten in de finale per land per jaar',\n",
    "                    height=700,\n",
    "                    color_continuous_scale=['#1E88E5', '#FFC107', '#FF005D'],\n",
    "                    labels={'Country': 'Land', 'Year': 'Jaar', 'Points': 'Gemiddeld aantal punten'})\n",
    "\n",
    "fig_per_year.show()"
   ]
  },
  {
   "attachments": {},
   "cell_type": "markdown",
   "metadata": {},
   "source": [
    "Figuur 1: Een geoplot die het gemiddeld gehaalde aantal punten van landen in de finale weergeeft per jaar. Met de slider kan per jaar bekeken worden hoe het gemiddelde tot dan toe is ontwikkeld. Indien een land in een jaar niet heeft meegedaan in de finale, blijft het gemiddelde hetzelfde."
   ]
  },
  {
   "attachments": {},
   "cell_type": "markdown",
   "metadata": {},
   "source": [
    "Als we naar de onderstaande figuur kijken is te zien dat er clusters van landen zijn die vaak op elkaar stemmen. Toch zijn er ook clusters waar dit niet gebeurt. Opvallend is dat er 'voting blocks' zijn. Dat zijn clusters van landen die elk jaar weer veel op elkaar stemmen. In figuur 2 kun je zien dat sommige landen elkaar een stuk meer punten geven dan andere landen. Het gemiddelde aantal punten is ongeveer 2,7, terwijl de Balkan gemiddeld soms wel 9 of 10 punten aan elkaar geeft. "
   ]
  },
  {
   "cell_type": "code",
   "execution_count": 4,
   "metadata": {
    "tags": [
     "hide-input"
    ]
   },
   "outputs": [
    {
     "data": {
      "application/vnd.plotly.v1+json": {
       "config": {
        "plotlyServerURL": "https://plot.ly"
       },
       "data": [
        {
         "colorbar": {
          "len": 1,
          "y": 0.5
         },
         "colorscale": [
          [
           0,
           "#1E88E5"
          ],
          [
           0.5,
           "#FFC107"
          ],
          [
           1,
           "#FF005D"
          ]
         ],
         "type": "heatmap",
         "visible": false,
         "x": [
          " Albanië",
          " Bosnië en Herzegovina",
          " Bulgarije",
          " Kroatië",
          " Griekenland",
          " Montenegro",
          " Noord-Macedonië",
          " Servië",
          " Servië en Montenegro"
         ],
         "y": [
          " Albanië",
          " Bosnië en Herzegovina",
          " Bulgarije",
          " Kroatië",
          " Griekenland",
          " Montenegro",
          " Noord-Macedonië",
          " Servië",
          " Servië en Montenegro"
         ],
         "z": [
          [
           null,
           6.25,
           4.7272727272727275,
           1.8666666666666667,
           9.08695652173913,
           7.166666666666667,
           9.235294117647058,
           2.066666666666667,
           5.666666666666667
          ],
          [
           4.3,
           null,
           2,
           7.7,
           3,
           7.5,
           8.142857142857142,
           10.88888888888889,
           11.333333333333334
          ],
          [
           1.75,
           2.5833333333333335,
           null,
           2.230769230769231,
           8.083333333333334,
           0,
           5.6,
           5.181818181818182,
           4
          ],
          [
           5.3125,
           8.272727272727273,
           3.5,
           null,
           2.6538461538461537,
           3.6666666666666665,
           7.277777777777778,
           8.142857142857142,
           12
          ],
          [
           8.8,
           0.9090909090909091,
           4.666666666666667,
           1.565217391304348,
           null,
           2.25,
           0.4117647058823529,
           2.933333333333333,
           8
          ],
          [
           9.2,
           9.285714285714286,
           2.3333333333333335,
           4.857142857142857,
           5.142857142857143,
           null,
           9,
           10.818181818181818,
           null
          ],
          [
           10.157894736842104,
           7.25,
           7,
           6.055555555555555,
           2.4545454545454546,
           6.75,
           null,
           8.666666666666666,
           10
          ],
          [
           0.8571428571428571,
           9.75,
           4.444444444444445,
           6.636363636363637,
           4.666666666666667,
           10.2,
           10.1,
           null,
           null
          ],
          [
           5.5,
           8.2,
           0.5,
           8.4,
           8.75,
           null,
           9.833333333333334,
           null,
           null
          ]
         ],
         "zmax": 12,
         "zmin": 0
        },
        {
         "colorbar": {
          "len": 1,
          "y": 0.5
         },
         "colorscale": [
          [
           0,
           "#1E88E5"
          ],
          [
           0.5,
           "#FFC107"
          ],
          [
           1,
           "#FF005D"
          ]
         ],
         "type": "heatmap",
         "visible": false,
         "x": [
          " Estland",
          " Letland",
          " Litouwen"
         ],
         "y": [
          " Estland",
          " Letland",
          " Litouwen"
         ],
         "z": [
          [
           null,
           7.75,
           3.5454545454545454
          ],
          [
           8.947368421052632,
           null,
           7.15
          ],
          [
           5.05,
           9.5625,
           null
          ]
         ],
         "zmax": 12,
         "zmin": 0
        },
        {
         "colorbar": {
          "len": 1,
          "y": 0.5
         },
         "colorscale": [
          [
           0,
           "#1E88E5"
          ],
          [
           0.5,
           "#FFC107"
          ],
          [
           1,
           "#FF005D"
          ]
         ],
         "type": "heatmap",
         "visible": true,
         "x": [
          " België",
          " Luxemburg",
          " Nederland"
         ],
         "y": [
          " België",
          " Luxemburg",
          " Nederland"
         ],
         "z": [
          [
           null,
           2.789473684210526,
           5.394736842105263
          ],
          [
           2.526315789473684,
           null,
           3.588235294117647
          ],
          [
           5.222222222222222,
           2.6470588235294117,
           null
          ]
         ],
         "zmax": 12,
         "zmin": 0
        },
        {
         "colorbar": {
          "len": 1,
          "y": 0.5
         },
         "colorscale": [
          [
           0,
           "#1E88E5"
          ],
          [
           0.5,
           "#FFC107"
          ],
          [
           1,
           "#FF005D"
          ]
         ],
         "type": "heatmap",
         "visible": false,
         "x": [
          " Armenië",
          " Australië",
          " Azerbaijan",
          " Cyprus",
          " Israël"
         ],
         "y": [
          " Armenië",
          " Australië",
          " Azerbaijan",
          " Cyprus",
          " Israël"
         ],
         "z": [
          [
           null,
           1.5,
           0.15789473684210525,
           4.916666666666667,
           3.6
          ],
          [
           1.2,
           null,
           1.1666666666666667,
           0.75,
           5
          ],
          [
           0,
           2.6666666666666665,
           null,
           1.5,
           4.428571428571429
          ],
          [
           5.928571428571429,
           3.5714285714285716,
           5.875,
           null,
           2.6285714285714286
          ],
          [
           6.5,
           7,
           5.125,
           2.4,
           null
          ]
         ],
         "zmax": 12,
         "zmin": 0
        },
        {
         "colorbar": {
          "len": 1,
          "y": 0.5
         },
         "colorscale": [
          [
           0,
           "#1E88E5"
          ],
          [
           0.5,
           "#FFC107"
          ],
          [
           1,
           "#FF005D"
          ]
         ],
         "type": "heatmap",
         "visible": false,
         "x": [
          " Wit-Rusland",
          " Bulgarije",
          " Tsjechië",
          " Hongarije",
          " Moldavië",
          " Polen",
          " Roemenië",
          " Rusland",
          " Slowakije",
          " Oekraïne"
         ],
         "y": [
          " Wit-Rusland",
          " Bulgarije",
          " Tsjechië",
          " Hongarije",
          " Moldavië",
          " Polen",
          " Roemenië",
          " Rusland",
          " Slowakije",
          " Oekraïne"
         ],
         "z": [
          [
           null,
           2.5714285714285716,
           2.875,
           0.875,
           5.5,
           3.3076923076923075,
           1.0526315789473684,
           9.842105263157896,
           1,
           8.571428571428571
          ],
          [
           2.0714285714285716,
           null,
           2.5,
           2.1538461538461537,
           1.6923076923076923,
           1,
           2.375,
           4.909090909090909,
           0,
           4
          ],
          [
           2,
           4,
           null,
           4.111111111111111,
           1.2857142857142858,
           2,
           0,
           4.142857142857143,
           null,
           5.285714285714286
          ],
          [
           2.6363636363636362,
           4.888888888888889,
           4.571428571428571,
           null,
           1.5,
           2.933333333333333,
           2.888888888888889,
           3.75,
           0,
           3
          ],
          [
           5.846153846153846,
           4.75,
           2.6666666666666665,
           1,
           null,
           0.7692307692307693,
           11.631578947368421,
           8.391304347826088,
           2.3333333333333335,
           7.947368421052632
          ],
          [
           2,
           2,
           3.142857142857143,
           3.5555555555555554,
           1.6666666666666667,
           null,
           2.111111111111111,
           3,
           1,
           6.722222222222222
          ],
          [
           0.8666666666666667,
           2.272727272727273,
           2,
           5.222222222222222,
           10.944444444444445,
           1.6428571428571428,
           null,
           4.869565217391305,
           1,
           2.5789473684210527
          ],
          [
           6.75,
           0.6666666666666666,
           1,
           2.0952380952380953,
           6.476190476190476,
           1.5,
           3.090909090909091,
           null,
           0.3333333333333333,
           6
          ],
          [
           1,
           0,
           null,
           2,
           2.2857142857142856,
           1.8,
           1,
           1.5,
           null,
           4.285714285714286
          ],
          [
           8.333333333333334,
           1.6153846153846154,
           1,
           3,
           5.352941176470588,
           4.166666666666667,
           1.1666666666666667,
           7.588235294117647,
           4.666666666666667,
           null
          ]
         ],
         "zmax": 12,
         "zmin": 0
        },
        {
         "colorbar": {
          "len": 1,
          "y": 0.5
         },
         "colorscale": [
          [
           0,
           "#1E88E5"
          ],
          [
           0.5,
           "#FFC107"
          ],
          [
           1,
           "#FF005D"
          ]
         ],
         "type": "heatmap",
         "visible": false,
         "x": [
          " Denemarken",
          " Finland",
          " IJsland",
          " Noorwegen",
          " Zweden"
         ],
         "y": [
          " Denemarken",
          " Finland",
          " IJsland",
          " Noorwegen",
          " Zweden"
         ],
         "z": [
          [
           null,
           2.064516129032258,
           5.607142857142857,
           4.829268292682927,
           8.545454545454545
          ],
          [
           2.8285714285714287,
           null,
           4.21875,
           3.761904761904762,
           6.2682926829268295
          ],
          [
           7.733333333333333,
           4.645161290322581,
           null,
           5.4411764705882355,
           6.702702702702703
          ],
          [
           5.880952380952381,
           3.8684210526315788,
           5.064516129032258,
           null,
           7.6875
          ],
          [
           5.767441860465116,
           4.297297297297297,
           5,
           5.173913043478261,
           null
          ]
         ],
         "zmax": 12,
         "zmin": 0
        },
        {
         "colorbar": {
          "len": 1,
          "y": 0.5
         },
         "colorscale": [
          [
           0,
           "#1E88E5"
          ],
          [
           0.5,
           "#FFC107"
          ],
          [
           1,
           "#FF005D"
          ]
         ],
         "type": "heatmap",
         "visible": false,
         "x": [
          " Oostenrijk",
          " België",
          " Frankrijk",
          " Duitsland",
          " Ierland",
          " Luxemburg",
          " Monaco",
          " Zwitserland",
          " Nederland",
          " Verenigd Koninkrijk"
         ],
         "y": [
          " Oostenrijk",
          " België",
          " Frankrijk",
          " Duitsland",
          " Ierland",
          " Luxemburg",
          " Monaco",
          " Zwitserland",
          " Nederland",
          " Verenigd Koninkrijk"
         ],
         "z": [
          [
           null,
           1.9166666666666667,
           3.324324324324324,
           3.27027027027027,
           4.657894736842105,
           2.611111111111111,
           2.3333333333333335,
           3.5714285714285716,
           3.5526315789473686,
           4.421052631578948
          ],
          [
           3.108108108108108,
           null,
           3.097560975609756,
           3.3902439024390243,
           3.95,
           2.789473684210526,
           2,
           3.257142857142857,
           5.394736842105263,
           3.5476190476190474
          ],
          [
           2.2432432432432434,
           3.7948717948717947,
           null,
           2.697674418604651,
           2.58974358974359,
           3.111111111111111,
           3.375,
           2.6285714285714286,
           3.5348837209302326,
           3.4545454545454546
          ],
          [
           2.5,
           2.5128205128205128,
           2.7674418604651163,
           null,
           3.5348837209302326,
           2.210526315789474,
           2.875,
           3.1538461538461537,
           3.682926829268293,
           3.4545454545454546
          ],
          [
           3,
           3.5128205128205128,
           3.0952380952380953,
           3.3333333333333335,
           null,
           3.611111111111111,
           2.125,
           3.282051282051282,
           3.6666666666666665,
           4.627906976744186
          ],
          [
           0.7777777777777778,
           2.526315789473684,
           4.944444444444445,
           3.526315789473684,
           5.333333333333333,
           null,
           3.4,
           4.2105263157894735,
           3.588235294117647,
           6.473684210526316
          ],
          [
           1.6666666666666667,
           3.25,
           6.625,
           4,
           3.4444444444444446,
           2,
           null,
           3.2222222222222223,
           3.5555555555555554,
           5.25
          ],
          [
           2.5135135135135136,
           1.8888888888888888,
           3.7,
           3.575,
           4.609756097560975,
           1.368421052631579,
           2,
           null,
           3.6944444444444446,
           3.4634146341463414
          ],
          [
           2.1944444444444446,
           5.222222222222222,
           3.1,
           3.425,
           3.5121951219512195,
           2.6470588235294117,
           2.25,
           3.757575757575758,
           null,
           2.5853658536585367
          ],
          [
           3.358974358974359,
           2.725,
           2.0681818181818183,
           3.272727272727273,
           6.181818181818182,
           3,
           3,
           3.261904761904762,
           2.65,
           null
          ]
         ],
         "zmax": 12,
         "zmin": 0
        },
        {
         "colorbar": {
          "len": 1,
          "y": 0.5
         },
         "colorscale": [
          [
           0,
           "#1E88E5"
          ],
          [
           0.5,
           "#FFC107"
          ],
          [
           1,
           "#FF005D"
          ]
         ],
         "type": "heatmap",
         "visible": false,
         "x": [
          " Albanië",
          " Bosnië en Herzegovina",
          " Kroatië",
          " Griekenland",
          " Italië",
          " Malta",
          " Montenegro",
          " Noord-Macedonië",
          " Portugal",
          " San Marino",
          " Servië",
          " Slovenië",
          " Spanje"
         ],
         "y": [
          " Albanië",
          " Bosnië en Herzegovina",
          " Kroatië",
          " Griekenland",
          " Italië",
          " Malta",
          " Montenegro",
          " Noord-Macedonië",
          " Portugal",
          " San Marino",
          " Servië",
          " Slovenië",
          " Spanje"
         ],
         "z": [
          [
           null,
           6.25,
           1.8666666666666667,
           9.08695652173913,
           10,
           3.1875,
           7.166666666666667,
           9.235294117647058,
           2,
           4.833333333333333,
           2.066666666666667,
           1.7692307692307692,
           3.4375
          ],
          [
           4.3,
           null,
           7.7,
           3,
           2.4,
           3,
           7.5,
           8.142857142857142,
           0.6666666666666666,
           5,
           10.88888888888889,
           6.470588235294118,
           1.5789473684210527
          ],
          [
           5.3125,
           8.272727272727273,
           null,
           2.6538461538461537,
           3.888888888888889,
           4.074074074074074,
           3.6666666666666665,
           7.277777777777778,
           1.4761904761904763,
           0.25,
           8.142857142857142,
           5.619047619047619,
           1.44
          ],
          [
           8.8,
           0.9090909090909091,
           1.565217391304348,
           null,
           3.625,
           3.1481481481481484,
           2.25,
           0.4117647058823529,
           1.5714285714285714,
           2.125,
           2.933333333333333,
           0.9130434782608695,
           3.5128205128205128
          ],
          [
           4.375,
           2.2,
           0,
           2.28,
           null,
           5.285714285714286,
           0.5714285714285714,
           3.3333333333333335,
           1.6666666666666667,
           2.8,
           2.3333333333333335,
           1.5714285714285714,
           3.6538461538461537
          ],
          [
           1.588235294117647,
           1.25,
           2.962962962962963,
           4.193548387096774,
           8.428571428571429,
           null,
           2.5714285714285716,
           1.380952380952381,
           0.7777777777777778,
           2.625,
           1.7333333333333334,
           1.2608695652173914,
           1.6
          ],
          [
           9.2,
           9.285714285714286,
           4.857142857142857,
           5.142857142857143,
           4.25,
           4.181818181818182,
           null,
           9,
           1.1,
           2.111111111111111,
           10.818181818181818,
           4.5,
           0.5454545454545454
          ],
          [
           10.157894736842104,
           7.25,
           6.055555555555555,
           2.4545454545454546,
           4.111111111111111,
           3.6818181818181817,
           6.75,
           null,
           1.1428571428571428,
           1.25,
           8.666666666666666,
           4.125,
           0.2631578947368421
          ],
          [
           1.2777777777777777,
           0.9090909090909091,
           1.8636363636363635,
           2.4634146341463414,
           7.333333333333333,
           1.8518518518518519,
           1.5,
           0.3125,
           null,
           0,
           2.230769230769231,
           1.7272727272727273,
           3.7804878048780486
          ],
          [
           5.666666666666667,
           0.4,
           1.5,
           6.357142857142857,
           6.888888888888889,
           5.636363636363637,
           3.2222222222222223,
           0.5,
           2.4285714285714284,
           null,
           2.727272727272727,
           1.6666666666666667,
           0.1
          ],
          [
           0.8571428571428571,
           9.75,
           6.636363636363637,
           4.666666666666667,
           4.875,
           3.0833333333333335,
           10.2,
           10.1,
           2.4545454545454546,
           0,
           null,
           4.75,
           0
          ],
          [
           2,
           6.863636363636363,
           7.130434782608695,
           2.0357142857142856,
           4,
           1.2916666666666667,
           4.777777777777778,
           6.125,
           1.3333333333333333,
           0,
           7.1875,
           null,
           0.8
          ],
          [
           0.9523809523809523,
           0.5217391304347826,
           1.32,
           3.877551020408163,
           6.961538461538462,
           2.9310344827586206,
           0.4444444444444444,
           0,
           4.585365853658536,
           1.2222222222222223,
           1.7333333333333334,
           1.3043478260869565,
           null
          ]
         ],
         "zmax": 12,
         "zmin": 0
        }
       ],
       "layout": {
        "autosize": false,
        "height": 575,
        "margin": {
         "b": 150,
         "l": 150,
         "r": 0,
         "t": 50
        },
        "template": {
         "data": {
          "bar": [
           {
            "error_x": {
             "color": "#2a3f5f"
            },
            "error_y": {
             "color": "#2a3f5f"
            },
            "marker": {
             "line": {
              "color": "#E5ECF6",
              "width": 0.5
             },
             "pattern": {
              "fillmode": "overlay",
              "size": 10,
              "solidity": 0.2
             }
            },
            "type": "bar"
           }
          ],
          "barpolar": [
           {
            "marker": {
             "line": {
              "color": "#E5ECF6",
              "width": 0.5
             },
             "pattern": {
              "fillmode": "overlay",
              "size": 10,
              "solidity": 0.2
             }
            },
            "type": "barpolar"
           }
          ],
          "carpet": [
           {
            "aaxis": {
             "endlinecolor": "#2a3f5f",
             "gridcolor": "white",
             "linecolor": "white",
             "minorgridcolor": "white",
             "startlinecolor": "#2a3f5f"
            },
            "baxis": {
             "endlinecolor": "#2a3f5f",
             "gridcolor": "white",
             "linecolor": "white",
             "minorgridcolor": "white",
             "startlinecolor": "#2a3f5f"
            },
            "type": "carpet"
           }
          ],
          "choropleth": [
           {
            "colorbar": {
             "outlinewidth": 0,
             "ticks": ""
            },
            "type": "choropleth"
           }
          ],
          "contour": [
           {
            "colorbar": {
             "outlinewidth": 0,
             "ticks": ""
            },
            "colorscale": [
             [
              0,
              "#0d0887"
             ],
             [
              0.1111111111111111,
              "#46039f"
             ],
             [
              0.2222222222222222,
              "#7201a8"
             ],
             [
              0.3333333333333333,
              "#9c179e"
             ],
             [
              0.4444444444444444,
              "#bd3786"
             ],
             [
              0.5555555555555556,
              "#d8576b"
             ],
             [
              0.6666666666666666,
              "#ed7953"
             ],
             [
              0.7777777777777778,
              "#fb9f3a"
             ],
             [
              0.8888888888888888,
              "#fdca26"
             ],
             [
              1,
              "#f0f921"
             ]
            ],
            "type": "contour"
           }
          ],
          "contourcarpet": [
           {
            "colorbar": {
             "outlinewidth": 0,
             "ticks": ""
            },
            "type": "contourcarpet"
           }
          ],
          "heatmap": [
           {
            "colorbar": {
             "outlinewidth": 0,
             "ticks": ""
            },
            "colorscale": [
             [
              0,
              "#0d0887"
             ],
             [
              0.1111111111111111,
              "#46039f"
             ],
             [
              0.2222222222222222,
              "#7201a8"
             ],
             [
              0.3333333333333333,
              "#9c179e"
             ],
             [
              0.4444444444444444,
              "#bd3786"
             ],
             [
              0.5555555555555556,
              "#d8576b"
             ],
             [
              0.6666666666666666,
              "#ed7953"
             ],
             [
              0.7777777777777778,
              "#fb9f3a"
             ],
             [
              0.8888888888888888,
              "#fdca26"
             ],
             [
              1,
              "#f0f921"
             ]
            ],
            "type": "heatmap"
           }
          ],
          "heatmapgl": [
           {
            "colorbar": {
             "outlinewidth": 0,
             "ticks": ""
            },
            "colorscale": [
             [
              0,
              "#0d0887"
             ],
             [
              0.1111111111111111,
              "#46039f"
             ],
             [
              0.2222222222222222,
              "#7201a8"
             ],
             [
              0.3333333333333333,
              "#9c179e"
             ],
             [
              0.4444444444444444,
              "#bd3786"
             ],
             [
              0.5555555555555556,
              "#d8576b"
             ],
             [
              0.6666666666666666,
              "#ed7953"
             ],
             [
              0.7777777777777778,
              "#fb9f3a"
             ],
             [
              0.8888888888888888,
              "#fdca26"
             ],
             [
              1,
              "#f0f921"
             ]
            ],
            "type": "heatmapgl"
           }
          ],
          "histogram": [
           {
            "marker": {
             "pattern": {
              "fillmode": "overlay",
              "size": 10,
              "solidity": 0.2
             }
            },
            "type": "histogram"
           }
          ],
          "histogram2d": [
           {
            "colorbar": {
             "outlinewidth": 0,
             "ticks": ""
            },
            "colorscale": [
             [
              0,
              "#0d0887"
             ],
             [
              0.1111111111111111,
              "#46039f"
             ],
             [
              0.2222222222222222,
              "#7201a8"
             ],
             [
              0.3333333333333333,
              "#9c179e"
             ],
             [
              0.4444444444444444,
              "#bd3786"
             ],
             [
              0.5555555555555556,
              "#d8576b"
             ],
             [
              0.6666666666666666,
              "#ed7953"
             ],
             [
              0.7777777777777778,
              "#fb9f3a"
             ],
             [
              0.8888888888888888,
              "#fdca26"
             ],
             [
              1,
              "#f0f921"
             ]
            ],
            "type": "histogram2d"
           }
          ],
          "histogram2dcontour": [
           {
            "colorbar": {
             "outlinewidth": 0,
             "ticks": ""
            },
            "colorscale": [
             [
              0,
              "#0d0887"
             ],
             [
              0.1111111111111111,
              "#46039f"
             ],
             [
              0.2222222222222222,
              "#7201a8"
             ],
             [
              0.3333333333333333,
              "#9c179e"
             ],
             [
              0.4444444444444444,
              "#bd3786"
             ],
             [
              0.5555555555555556,
              "#d8576b"
             ],
             [
              0.6666666666666666,
              "#ed7953"
             ],
             [
              0.7777777777777778,
              "#fb9f3a"
             ],
             [
              0.8888888888888888,
              "#fdca26"
             ],
             [
              1,
              "#f0f921"
             ]
            ],
            "type": "histogram2dcontour"
           }
          ],
          "mesh3d": [
           {
            "colorbar": {
             "outlinewidth": 0,
             "ticks": ""
            },
            "type": "mesh3d"
           }
          ],
          "parcoords": [
           {
            "line": {
             "colorbar": {
              "outlinewidth": 0,
              "ticks": ""
             }
            },
            "type": "parcoords"
           }
          ],
          "pie": [
           {
            "automargin": true,
            "type": "pie"
           }
          ],
          "scatter": [
           {
            "fillpattern": {
             "fillmode": "overlay",
             "size": 10,
             "solidity": 0.2
            },
            "type": "scatter"
           }
          ],
          "scatter3d": [
           {
            "line": {
             "colorbar": {
              "outlinewidth": 0,
              "ticks": ""
             }
            },
            "marker": {
             "colorbar": {
              "outlinewidth": 0,
              "ticks": ""
             }
            },
            "type": "scatter3d"
           }
          ],
          "scattercarpet": [
           {
            "marker": {
             "colorbar": {
              "outlinewidth": 0,
              "ticks": ""
             }
            },
            "type": "scattercarpet"
           }
          ],
          "scattergeo": [
           {
            "marker": {
             "colorbar": {
              "outlinewidth": 0,
              "ticks": ""
             }
            },
            "type": "scattergeo"
           }
          ],
          "scattergl": [
           {
            "marker": {
             "colorbar": {
              "outlinewidth": 0,
              "ticks": ""
             }
            },
            "type": "scattergl"
           }
          ],
          "scattermapbox": [
           {
            "marker": {
             "colorbar": {
              "outlinewidth": 0,
              "ticks": ""
             }
            },
            "type": "scattermapbox"
           }
          ],
          "scatterpolar": [
           {
            "marker": {
             "colorbar": {
              "outlinewidth": 0,
              "ticks": ""
             }
            },
            "type": "scatterpolar"
           }
          ],
          "scatterpolargl": [
           {
            "marker": {
             "colorbar": {
              "outlinewidth": 0,
              "ticks": ""
             }
            },
            "type": "scatterpolargl"
           }
          ],
          "scatterternary": [
           {
            "marker": {
             "colorbar": {
              "outlinewidth": 0,
              "ticks": ""
             }
            },
            "type": "scatterternary"
           }
          ],
          "surface": [
           {
            "colorbar": {
             "outlinewidth": 0,
             "ticks": ""
            },
            "colorscale": [
             [
              0,
              "#0d0887"
             ],
             [
              0.1111111111111111,
              "#46039f"
             ],
             [
              0.2222222222222222,
              "#7201a8"
             ],
             [
              0.3333333333333333,
              "#9c179e"
             ],
             [
              0.4444444444444444,
              "#bd3786"
             ],
             [
              0.5555555555555556,
              "#d8576b"
             ],
             [
              0.6666666666666666,
              "#ed7953"
             ],
             [
              0.7777777777777778,
              "#fb9f3a"
             ],
             [
              0.8888888888888888,
              "#fdca26"
             ],
             [
              1,
              "#f0f921"
             ]
            ],
            "type": "surface"
           }
          ],
          "table": [
           {
            "cells": {
             "fill": {
              "color": "#EBF0F8"
             },
             "line": {
              "color": "white"
             }
            },
            "header": {
             "fill": {
              "color": "#C8D4E3"
             },
             "line": {
              "color": "white"
             }
            },
            "type": "table"
           }
          ]
         },
         "layout": {
          "annotationdefaults": {
           "arrowcolor": "#2a3f5f",
           "arrowhead": 0,
           "arrowwidth": 1
          },
          "autotypenumbers": "strict",
          "coloraxis": {
           "colorbar": {
            "outlinewidth": 0,
            "ticks": ""
           }
          },
          "colorscale": {
           "diverging": [
            [
             0,
             "#8e0152"
            ],
            [
             0.1,
             "#c51b7d"
            ],
            [
             0.2,
             "#de77ae"
            ],
            [
             0.3,
             "#f1b6da"
            ],
            [
             0.4,
             "#fde0ef"
            ],
            [
             0.5,
             "#f7f7f7"
            ],
            [
             0.6,
             "#e6f5d0"
            ],
            [
             0.7,
             "#b8e186"
            ],
            [
             0.8,
             "#7fbc41"
            ],
            [
             0.9,
             "#4d9221"
            ],
            [
             1,
             "#276419"
            ]
           ],
           "sequential": [
            [
             0,
             "#0d0887"
            ],
            [
             0.1111111111111111,
             "#46039f"
            ],
            [
             0.2222222222222222,
             "#7201a8"
            ],
            [
             0.3333333333333333,
             "#9c179e"
            ],
            [
             0.4444444444444444,
             "#bd3786"
            ],
            [
             0.5555555555555556,
             "#d8576b"
            ],
            [
             0.6666666666666666,
             "#ed7953"
            ],
            [
             0.7777777777777778,
             "#fb9f3a"
            ],
            [
             0.8888888888888888,
             "#fdca26"
            ],
            [
             1,
             "#f0f921"
            ]
           ],
           "sequentialminus": [
            [
             0,
             "#0d0887"
            ],
            [
             0.1111111111111111,
             "#46039f"
            ],
            [
             0.2222222222222222,
             "#7201a8"
            ],
            [
             0.3333333333333333,
             "#9c179e"
            ],
            [
             0.4444444444444444,
             "#bd3786"
            ],
            [
             0.5555555555555556,
             "#d8576b"
            ],
            [
             0.6666666666666666,
             "#ed7953"
            ],
            [
             0.7777777777777778,
             "#fb9f3a"
            ],
            [
             0.8888888888888888,
             "#fdca26"
            ],
            [
             1,
             "#f0f921"
            ]
           ]
          },
          "colorway": [
           "#636efa",
           "#EF553B",
           "#00cc96",
           "#ab63fa",
           "#FFA15A",
           "#19d3f3",
           "#FF6692",
           "#B6E880",
           "#FF97FF",
           "#FECB52"
          ],
          "font": {
           "color": "#2a3f5f"
          },
          "geo": {
           "bgcolor": "white",
           "lakecolor": "white",
           "landcolor": "#E5ECF6",
           "showlakes": true,
           "showland": true,
           "subunitcolor": "white"
          },
          "hoverlabel": {
           "align": "left"
          },
          "hovermode": "closest",
          "mapbox": {
           "style": "light"
          },
          "paper_bgcolor": "white",
          "plot_bgcolor": "#E5ECF6",
          "polar": {
           "angularaxis": {
            "gridcolor": "white",
            "linecolor": "white",
            "ticks": ""
           },
           "bgcolor": "#E5ECF6",
           "radialaxis": {
            "gridcolor": "white",
            "linecolor": "white",
            "ticks": ""
           }
          },
          "scene": {
           "xaxis": {
            "backgroundcolor": "#E5ECF6",
            "gridcolor": "white",
            "gridwidth": 2,
            "linecolor": "white",
            "showbackground": true,
            "ticks": "",
            "zerolinecolor": "white"
           },
           "yaxis": {
            "backgroundcolor": "#E5ECF6",
            "gridcolor": "white",
            "gridwidth": 2,
            "linecolor": "white",
            "showbackground": true,
            "ticks": "",
            "zerolinecolor": "white"
           },
           "zaxis": {
            "backgroundcolor": "#E5ECF6",
            "gridcolor": "white",
            "gridwidth": 2,
            "linecolor": "white",
            "showbackground": true,
            "ticks": "",
            "zerolinecolor": "white"
           }
          },
          "shapedefaults": {
           "line": {
            "color": "#2a3f5f"
           }
          },
          "ternary": {
           "aaxis": {
            "gridcolor": "white",
            "linecolor": "white",
            "ticks": ""
           },
           "baxis": {
            "gridcolor": "white",
            "linecolor": "white",
            "ticks": ""
           },
           "bgcolor": "#E5ECF6",
           "caxis": {
            "gridcolor": "white",
            "linecolor": "white",
            "ticks": ""
           }
          },
          "title": {
           "x": 0.05
          },
          "xaxis": {
           "automargin": true,
           "gridcolor": "white",
           "linecolor": "white",
           "ticks": "",
           "title": {
            "standoff": 15
           },
           "zerolinecolor": "white",
           "zerolinewidth": 2
          },
          "yaxis": {
           "automargin": true,
           "gridcolor": "white",
           "linecolor": "white",
           "ticks": "",
           "title": {
            "standoff": 15
           },
           "zerolinecolor": "white",
           "zerolinewidth": 2
          }
         }
        },
        "title": {
         "text": "Gemiddelde hoeveelheid punten gegeven tussen landen"
        },
        "updatemenus": [
         {
          "buttons": [
           {
            "args": [
             {
              "visible": [
               false,
               false,
               true,
               false,
               false,
               false,
               false,
               false
              ]
             }
            ],
            "label": "Benelux",
            "method": "update"
           },
           {
            "args": [
             {
              "visible": [
               true,
               false,
               false,
               false,
               false,
               false,
               false,
               false
              ]
             }
            ],
            "label": "Balkan",
            "method": "update"
           },
           {
            "args": [
             {
              "visible": [
               false,
               true,
               false,
               false,
               false,
               false,
               false,
               false
              ]
             }
            ],
            "label": "Baltische staten",
            "method": "update"
           },
           {
            "args": [
             {
              "visible": [
               false,
               false,
               false,
               true,
               false,
               false,
               false,
               false
              ]
             }
            ],
            "label": "Niet Europese landen",
            "method": "update"
           },
           {
            "args": [
             {
              "visible": [
               false,
               false,
               false,
               false,
               true,
               false,
               false,
               false
              ]
             }
            ],
            "label": "Oostblok",
            "method": "update"
           },
           {
            "args": [
             {
              "visible": [
               false,
               false,
               false,
               false,
               false,
               true,
               false,
               false
              ]
             }
            ],
            "label": "Scandinavië",
            "method": "update"
           },
           {
            "args": [
             {
              "visible": [
               false,
               false,
               false,
               false,
               false,
               false,
               true,
               false
              ]
             }
            ],
            "label": "West Europa",
            "method": "update"
           },
           {
            "args": [
             {
              "visible": [
               false,
               false,
               false,
               false,
               false,
               false,
               false,
               true
              ]
             }
            ],
            "label": "Zuid Europa",
            "method": "update"
           }
          ],
          "direction": "down",
          "pad": {
           "r": 10,
           "t": 10
          },
          "showactive": true,
          "type": "buttons",
          "x": 1.3,
          "xanchor": "left",
          "y": 0.9,
          "yanchor": "top"
         }
        ],
        "width": 800,
        "xaxis": {
         "automargin": false,
         "scaleanchor": "y",
         "scaleratio": 1,
         "tickangle": 45,
         "title": {
          "standoff": 225,
          "text": "Land dat punten ontvangt"
         }
        },
        "yaxis": {
         "automargin": false,
         "constrain": "domain",
         "tickangle": 0,
         "title": {
          "standoff": 225,
          "text": "Land dat punten geeft"
         }
        }
       }
      }
     },
     "metadata": {},
     "output_type": "display_data"
    }
   ],
   "source": [
    "east_block = sorted(['Belarus', 'Bulgaria', 'Czech Republic', 'Hungary', 'Poland', 'Moldova', 'Romania', 'Russia', 'Slovakia','Ukraine'])\n",
    "west_block = sorted(['Belgium', 'France', 'Germany', 'Luxembourg', 'Austria', 'Monaco', 'The Netherlands','Switzerland', 'United Kingdom', 'Ireland'])\n",
    "southern_block = sorted(['Albania', 'Bosnia & Herzegovina', 'Croatia', 'Greece', 'Italy', 'Malta', 'Montenegro', 'North Macedonia', 'Portugal', 'San Marino', 'Serbia', 'Slovenia', 'Spain'])\n",
    "scandinavia = sorted(['Denmark', 'Finland', 'Iceland', 'Norway', 'Sweden'])\n",
    "baltic_states = sorted(['Estonia', 'Latvia', 'Lithuania'])\n",
    "benelux = sorted(['The Netherlands', 'Belgium', 'Luxembourg'])\n",
    "balkan_states = sorted(['Albania', 'Bosnia & Herzegovina', 'Bulgaria', 'Greece', 'Montenegro', 'North Macedonia', 'Croatia', 'Serbia', 'Serbia & Montenegro'])\n",
    "outside_europe = sorted(['Cyprus', 'Armenia', 'Australia', 'Israel', 'Azerbaijan'])\n",
    "\n",
    "\n",
    "\n",
    "landnaam_vertaling = {}\n",
    "with open('landen_vertaling.csv', 'r', newline='') as landnaam_vertaling_bestand:\n",
    "    reader = csv.reader(landnaam_vertaling_bestand)\n",
    "    for row in reader:\n",
    "        engelsenaam, nederlandsenaam = row\n",
    "        landnaam_vertaling[engelsenaam] = nederlandsenaam\n",
    "\n",
    "def vertaal_landnamen(lijst):\n",
    "    nieuwe_lijst = []\n",
    "    for country in lijst:\n",
    "        nieuwe_lijst.append(landnaam_vertaling[country])\n",
    "    return nieuwe_lijst\n",
    "\n",
    "\n",
    "def mean_points_from(countries):\n",
    "    list_of_lists_points = []\n",
    "    for from_country in countries:\n",
    "        list_points = []\n",
    "        for to_country in countries:\n",
    "            if from_country == to_country:\n",
    "                list_points.append(np.nan)\n",
    "            else:\n",
    "                points = eurovision_points_df.loc[(eurovision_points_df['From country'] == from_country) & (eurovision_points_df['To country'] == to_country), 'Points'].mean()\n",
    "                list_points.append(points)\n",
    "        list_of_lists_points.append(list_points)\n",
    "    return list_of_lists_points\n",
    "\n",
    "fig = go.Figure()\n",
    "\n",
    "fig.add_trace(go.Heatmap(\n",
    "                   z=mean_points_from(balkan_states),\n",
    "                   x=vertaal_landnamen(balkan_states),\n",
    "                   y=vertaal_landnamen(balkan_states),\n",
    "                   colorscale=['#1E88E5', '#FFC107', '#FF005D'],\n",
    "                   visible=False,\n",
    "                   colorbar=dict(len=1, y=0.5),\n",
    "                   zmin=0,\n",
    "                   zmax=12\n",
    "))\n",
    "\n",
    "fig.add_trace(go.Heatmap(\n",
    "                   z=mean_points_from(baltic_states),\n",
    "                   x=vertaal_landnamen(baltic_states),\n",
    "                   y=vertaal_landnamen(baltic_states),\n",
    "                   colorscale=['#1E88E5', '#FFC107', '#FF005D'],\n",
    "                   visible=False,\n",
    "                   colorbar=dict(len=1, y=0.5),\n",
    "                   zmin=0,\n",
    "                   zmax=12\n",
    "))\n",
    "\n",
    "fig.add_trace(go.Heatmap(\n",
    "                   z=mean_points_from(benelux),\n",
    "                   x=vertaal_landnamen(benelux),\n",
    "                   y=vertaal_landnamen(benelux),\n",
    "                   colorscale=['#1E88E5', '#FFC107', '#FF005D'],\n",
    "                   visible=True,\n",
    "                   colorbar=dict(len=1, y=0.5),\n",
    "                   zmin=0,\n",
    "                   zmax=12\n",
    "))\n",
    "\n",
    "fig.add_trace(go.Heatmap(\n",
    "                   z=mean_points_from(outside_europe),\n",
    "                   x=vertaal_landnamen(outside_europe),\n",
    "                   y=vertaal_landnamen(outside_europe),\n",
    "                   colorscale=['#1E88E5', '#FFC107', '#FF005D'],\n",
    "                   visible=False,\n",
    "                   colorbar=dict(len=1, y=0.5),\n",
    "                   zmin=0,\n",
    "                   zmax=12\n",
    "))\n",
    "\n",
    "fig.add_trace(go.Heatmap(\n",
    "                   z=mean_points_from(east_block),\n",
    "                   x=vertaal_landnamen(east_block),\n",
    "                   y=vertaal_landnamen(east_block),\n",
    "                   colorscale=['#1E88E5', '#FFC107', '#FF005D'],\n",
    "                   visible=False,\n",
    "                   colorbar=dict(len=1, y=0.5),\n",
    "                   zmin=0,\n",
    "                   zmax=12\n",
    "))\n",
    "\n",
    "fig.add_trace(go.Heatmap(\n",
    "                   z=mean_points_from(scandinavia),\n",
    "                   x=vertaal_landnamen(scandinavia),\n",
    "                   y=vertaal_landnamen(scandinavia),\n",
    "                   colorscale=['#1E88E5', '#FFC107', '#FF005D'],\n",
    "                   visible=False,\n",
    "                   colorbar=dict(len=1, y=0.5),\n",
    "                   zmin=0,\n",
    "                   zmax=12\n",
    "))\n",
    "\n",
    "fig.add_trace(go.Heatmap(\n",
    "                   z=mean_points_from(west_block),\n",
    "                   x=vertaal_landnamen(west_block),\n",
    "                   y=vertaal_landnamen(west_block),\n",
    "                   colorscale=['#1E88E5', '#FFC107', '#FF005D'],\n",
    "                   visible=False,\n",
    "                   colorbar=dict(len=1, y=0.5),\n",
    "                   zmin=0,\n",
    "                   zmax=12\n",
    "))\n",
    "\n",
    "fig.add_trace(go.Heatmap(\n",
    "                   z=mean_points_from(southern_block),\n",
    "                   x=vertaal_landnamen(southern_block),\n",
    "                   y=vertaal_landnamen(southern_block),\n",
    "                   colorscale=['#1E88E5', '#FFC107', '#FF005D'],\n",
    "                   visible=False,\n",
    "                   colorbar=dict(len=1, y=0.5),\n",
    "                   zmin=0,\n",
    "                   zmax=12\n",
    "\n",
    "))\n",
    "\n",
    "fig.update_layout(\n",
    "    xaxis=dict(\n",
    "        scaleanchor='y',\n",
    "        scaleratio=1,\n",
    "        title='Land dat punten ontvangt',\n",
    "        automargin=False,\n",
    "        title_standoff=225,\n",
    "        tickangle=45\n",
    "    ),\n",
    "    yaxis=dict(\n",
    "        constrain='domain',\n",
    "        title='Land dat punten geeft',\n",
    "        automargin=False,\n",
    "        title_standoff=225,\n",
    "        tickangle=0\n",
    "        ),\n",
    "    autosize=False,\n",
    "    margin=dict(t=50, b=150, l=150, r=0),\n",
    "    height=575,\n",
    "    width=800\n",
    ")\n",
    "\n",
    "\n",
    "fig.update_layout(\n",
    "    updatemenus=[\n",
    "        dict(\n",
    "            buttons=list([\n",
    "                dict(\n",
    "                    args=[{\"visible\": [False, False, True, False, False, False, False, False]}],\n",
    "                    label=\"Benelux\",\n",
    "                    method=\"update\"\n",
    "                ),\n",
    "                dict(\n",
    "                    args=[{\"visible\": [True, False, False, False, False, False, False, False]}],\n",
    "                    label=\"Balkan\",\n",
    "                    method=\"update\"\n",
    "                ),\n",
    "                dict(\n",
    "                    args=[{\"visible\": [False, True, False, False, False, False, False, False]}],\n",
    "                    label=\"Baltische staten\",\n",
    "                    method=\"update\"\n",
    "                ),\n",
    "                dict(\n",
    "                    args=[{\"visible\": [False, False, False, True, False, False, False, False]}],\n",
    "                    label=\"Niet Europese landen\",\n",
    "                    method=\"update\"\n",
    "                ),\n",
    "                dict(\n",
    "                    args=[{\"visible\": [False, False, False, False, True, False, False, False]}],\n",
    "                    label=\"Oostblok\",\n",
    "                    method=\"update\"\n",
    "                ),\n",
    "                dict(\n",
    "                    args=[{\"visible\": [False, False, False, False, False, True, False, False]}],\n",
    "                    label=\"Scandinavië\",\n",
    "                    method=\"update\"\n",
    "                ),\n",
    "                dict(\n",
    "                    args=[{\"visible\": [False, False, False, False, False, False, True, False]}],\n",
    "                    label=\"West Europa\",\n",
    "                    method=\"update\"\n",
    "                ),\n",
    "                dict(\n",
    "                    args=[{\"visible\": [False, False, False, False, False, False, False, True]}],\n",
    "                    label=\"Zuid Europa\",\n",
    "                    method=\"update\"\n",
    "                ),\n",
    "            ]),\n",
    "            type='buttons',\n",
    "            direction=\"down\",\n",
    "            pad={\"r\": 10, \"t\": 10},\n",
    "            showactive=True,\n",
    "            x=1.3,\n",
    "            xanchor=\"left\",\n",
    "            y=.9,\n",
    "            yanchor=\"top\"\n",
    "        ),\n",
    "    ]\n",
    ")\n",
    "\n",
    "fig.update_layout(\n",
    "    title_text=\"Gemiddelde hoeveelheid punten gegeven tussen landen\"\n",
    ")\n",
    "\n",
    "fig.show()"
   ]
  },
  {
   "attachments": {},
   "cell_type": "markdown",
   "metadata": {},
   "source": [
    "Figuur 2: Heatmap die voor verschillende clusters van landen de gemiddelde hoeveelheid punten die landen aan elkaar geven weergeeft. Met de knoppen aan de zijkant kan een cluster gekozen worden. Er is in sommige clusters symmetrie te herkennen, wat betekent dat de landen veelal dezelfde punten aan elkaar geven. "
   ]
  },
  {
   "attachments": {},
   "cell_type": "markdown",
   "metadata": {},
   "source": [
    "Dit fenomeen heeft waarschijnlijk een culturele oorzaak. Het kan zijn dat mensen meer geneigd zijn om te stemmen op landen die een culturele gelijkenis hebben met hun eigen land. Dat is niet zo vreemd, want culturele gelijkenis kan ervoor zorgen dat de liedjes beter aansluiten bij hun belevingswereld of voorkeuren. Om aan te tonen dat het stemgedrag van landen beïnvloed wordt door culturele gelijkenissen tussen landen, is het effect van drie belangrijke culturele aspecten onderzocht. Dit zijn gelijkenis van de taal, gelijkenis van de geografische locatie en gelijkenis van de politieke geschiedenis. \n",
    "\n",
    "Aan de andere kant lijkt het alsof stemgedrag vooral wordt beïnvloed door willekeurige factoren die eigenlijk irrelevant zijn voor de muziek zelf. Om dat aan te tonen, is gekeken naar het effect van de volgorde van de optredens en de verdeling van de halve finales. Daarnaast is gekeken naar het effect van gender en seksuele oriëntatie van de winnende artiesten.\n"
   ]
  },
  {
   "attachments": {},
   "cell_type": "markdown",
   "metadata": {},
   "source": [
    "## Culturele factoren\n",
    "In het eerste perspectief wordt dus gekeken naar culturele factoren zoals taal en naburigheid van landen. "
   ]
  },
  {
   "cell_type": "code",
   "execution_count": 5,
   "metadata": {
    "tags": [
     "hide-input"
    ]
   },
   "outputs": [
    {
     "data": {
      "application/vnd.plotly.v1+json": {
       "config": {
        "plotlyServerURL": "https://plot.ly"
       },
       "data": [
        {
         "marker": {
          "color": "#1b9e77"
         },
         "name": "Waar",
         "type": "bar",
         "visible": true,
         "x": [
          "Naburig",
          "Zelfde taal"
         ],
         "y": [
          4.393721386527142,
          3.831161137440758
         ]
        },
        {
         "marker": {
          "color": "#d95f02"
         },
         "name": "Niet waar",
         "type": "bar",
         "visible": true,
         "x": [
          "Naburig",
          "Zelfde taal"
         ],
         "y": [
          2.4476256180292055,
          2.547624315504176
         ]
        },
        {
         "marker": {
          "color": "#1b9e77"
         },
         "name": "Waar",
         "type": "bar",
         "visible": false,
         "x": [
          "Naburig",
          "Zelfde taal"
         ],
         "y": [
          3.5,
          2
         ]
        },
        {
         "marker": {
          "color": "#d95f02"
         },
         "name": "Niet waar",
         "type": "bar",
         "visible": false,
         "x": [
          "Naburig",
          "Zelfde taal"
         ],
         "y": [
          0,
          0
         ]
        }
       ],
       "layout": {
        "autosize": false,
        "height": 700,
        "margin": {
         "b": 20,
         "l": 0,
         "r": 0,
         "t": 40
        },
        "template": {
         "data": {
          "bar": [
           {
            "error_x": {
             "color": "#2a3f5f"
            },
            "error_y": {
             "color": "#2a3f5f"
            },
            "marker": {
             "line": {
              "color": "white",
              "width": 0.5
             },
             "pattern": {
              "fillmode": "overlay",
              "size": 10,
              "solidity": 0.2
             }
            },
            "type": "bar"
           }
          ],
          "barpolar": [
           {
            "marker": {
             "line": {
              "color": "white",
              "width": 0.5
             },
             "pattern": {
              "fillmode": "overlay",
              "size": 10,
              "solidity": 0.2
             }
            },
            "type": "barpolar"
           }
          ],
          "carpet": [
           {
            "aaxis": {
             "endlinecolor": "#2a3f5f",
             "gridcolor": "#C8D4E3",
             "linecolor": "#C8D4E3",
             "minorgridcolor": "#C8D4E3",
             "startlinecolor": "#2a3f5f"
            },
            "baxis": {
             "endlinecolor": "#2a3f5f",
             "gridcolor": "#C8D4E3",
             "linecolor": "#C8D4E3",
             "minorgridcolor": "#C8D4E3",
             "startlinecolor": "#2a3f5f"
            },
            "type": "carpet"
           }
          ],
          "choropleth": [
           {
            "colorbar": {
             "outlinewidth": 0,
             "ticks": ""
            },
            "type": "choropleth"
           }
          ],
          "contour": [
           {
            "colorbar": {
             "outlinewidth": 0,
             "ticks": ""
            },
            "colorscale": [
             [
              0,
              "#0d0887"
             ],
             [
              0.1111111111111111,
              "#46039f"
             ],
             [
              0.2222222222222222,
              "#7201a8"
             ],
             [
              0.3333333333333333,
              "#9c179e"
             ],
             [
              0.4444444444444444,
              "#bd3786"
             ],
             [
              0.5555555555555556,
              "#d8576b"
             ],
             [
              0.6666666666666666,
              "#ed7953"
             ],
             [
              0.7777777777777778,
              "#fb9f3a"
             ],
             [
              0.8888888888888888,
              "#fdca26"
             ],
             [
              1,
              "#f0f921"
             ]
            ],
            "type": "contour"
           }
          ],
          "contourcarpet": [
           {
            "colorbar": {
             "outlinewidth": 0,
             "ticks": ""
            },
            "type": "contourcarpet"
           }
          ],
          "heatmap": [
           {
            "colorbar": {
             "outlinewidth": 0,
             "ticks": ""
            },
            "colorscale": [
             [
              0,
              "#0d0887"
             ],
             [
              0.1111111111111111,
              "#46039f"
             ],
             [
              0.2222222222222222,
              "#7201a8"
             ],
             [
              0.3333333333333333,
              "#9c179e"
             ],
             [
              0.4444444444444444,
              "#bd3786"
             ],
             [
              0.5555555555555556,
              "#d8576b"
             ],
             [
              0.6666666666666666,
              "#ed7953"
             ],
             [
              0.7777777777777778,
              "#fb9f3a"
             ],
             [
              0.8888888888888888,
              "#fdca26"
             ],
             [
              1,
              "#f0f921"
             ]
            ],
            "type": "heatmap"
           }
          ],
          "heatmapgl": [
           {
            "colorbar": {
             "outlinewidth": 0,
             "ticks": ""
            },
            "colorscale": [
             [
              0,
              "#0d0887"
             ],
             [
              0.1111111111111111,
              "#46039f"
             ],
             [
              0.2222222222222222,
              "#7201a8"
             ],
             [
              0.3333333333333333,
              "#9c179e"
             ],
             [
              0.4444444444444444,
              "#bd3786"
             ],
             [
              0.5555555555555556,
              "#d8576b"
             ],
             [
              0.6666666666666666,
              "#ed7953"
             ],
             [
              0.7777777777777778,
              "#fb9f3a"
             ],
             [
              0.8888888888888888,
              "#fdca26"
             ],
             [
              1,
              "#f0f921"
             ]
            ],
            "type": "heatmapgl"
           }
          ],
          "histogram": [
           {
            "marker": {
             "pattern": {
              "fillmode": "overlay",
              "size": 10,
              "solidity": 0.2
             }
            },
            "type": "histogram"
           }
          ],
          "histogram2d": [
           {
            "colorbar": {
             "outlinewidth": 0,
             "ticks": ""
            },
            "colorscale": [
             [
              0,
              "#0d0887"
             ],
             [
              0.1111111111111111,
              "#46039f"
             ],
             [
              0.2222222222222222,
              "#7201a8"
             ],
             [
              0.3333333333333333,
              "#9c179e"
             ],
             [
              0.4444444444444444,
              "#bd3786"
             ],
             [
              0.5555555555555556,
              "#d8576b"
             ],
             [
              0.6666666666666666,
              "#ed7953"
             ],
             [
              0.7777777777777778,
              "#fb9f3a"
             ],
             [
              0.8888888888888888,
              "#fdca26"
             ],
             [
              1,
              "#f0f921"
             ]
            ],
            "type": "histogram2d"
           }
          ],
          "histogram2dcontour": [
           {
            "colorbar": {
             "outlinewidth": 0,
             "ticks": ""
            },
            "colorscale": [
             [
              0,
              "#0d0887"
             ],
             [
              0.1111111111111111,
              "#46039f"
             ],
             [
              0.2222222222222222,
              "#7201a8"
             ],
             [
              0.3333333333333333,
              "#9c179e"
             ],
             [
              0.4444444444444444,
              "#bd3786"
             ],
             [
              0.5555555555555556,
              "#d8576b"
             ],
             [
              0.6666666666666666,
              "#ed7953"
             ],
             [
              0.7777777777777778,
              "#fb9f3a"
             ],
             [
              0.8888888888888888,
              "#fdca26"
             ],
             [
              1,
              "#f0f921"
             ]
            ],
            "type": "histogram2dcontour"
           }
          ],
          "mesh3d": [
           {
            "colorbar": {
             "outlinewidth": 0,
             "ticks": ""
            },
            "type": "mesh3d"
           }
          ],
          "parcoords": [
           {
            "line": {
             "colorbar": {
              "outlinewidth": 0,
              "ticks": ""
             }
            },
            "type": "parcoords"
           }
          ],
          "pie": [
           {
            "automargin": true,
            "type": "pie"
           }
          ],
          "scatter": [
           {
            "fillpattern": {
             "fillmode": "overlay",
             "size": 10,
             "solidity": 0.2
            },
            "type": "scatter"
           }
          ],
          "scatter3d": [
           {
            "line": {
             "colorbar": {
              "outlinewidth": 0,
              "ticks": ""
             }
            },
            "marker": {
             "colorbar": {
              "outlinewidth": 0,
              "ticks": ""
             }
            },
            "type": "scatter3d"
           }
          ],
          "scattercarpet": [
           {
            "marker": {
             "colorbar": {
              "outlinewidth": 0,
              "ticks": ""
             }
            },
            "type": "scattercarpet"
           }
          ],
          "scattergeo": [
           {
            "marker": {
             "colorbar": {
              "outlinewidth": 0,
              "ticks": ""
             }
            },
            "type": "scattergeo"
           }
          ],
          "scattergl": [
           {
            "marker": {
             "colorbar": {
              "outlinewidth": 0,
              "ticks": ""
             }
            },
            "type": "scattergl"
           }
          ],
          "scattermapbox": [
           {
            "marker": {
             "colorbar": {
              "outlinewidth": 0,
              "ticks": ""
             }
            },
            "type": "scattermapbox"
           }
          ],
          "scatterpolar": [
           {
            "marker": {
             "colorbar": {
              "outlinewidth": 0,
              "ticks": ""
             }
            },
            "type": "scatterpolar"
           }
          ],
          "scatterpolargl": [
           {
            "marker": {
             "colorbar": {
              "outlinewidth": 0,
              "ticks": ""
             }
            },
            "type": "scatterpolargl"
           }
          ],
          "scatterternary": [
           {
            "marker": {
             "colorbar": {
              "outlinewidth": 0,
              "ticks": ""
             }
            },
            "type": "scatterternary"
           }
          ],
          "surface": [
           {
            "colorbar": {
             "outlinewidth": 0,
             "ticks": ""
            },
            "colorscale": [
             [
              0,
              "#0d0887"
             ],
             [
              0.1111111111111111,
              "#46039f"
             ],
             [
              0.2222222222222222,
              "#7201a8"
             ],
             [
              0.3333333333333333,
              "#9c179e"
             ],
             [
              0.4444444444444444,
              "#bd3786"
             ],
             [
              0.5555555555555556,
              "#d8576b"
             ],
             [
              0.6666666666666666,
              "#ed7953"
             ],
             [
              0.7777777777777778,
              "#fb9f3a"
             ],
             [
              0.8888888888888888,
              "#fdca26"
             ],
             [
              1,
              "#f0f921"
             ]
            ],
            "type": "surface"
           }
          ],
          "table": [
           {
            "cells": {
             "fill": {
              "color": "#EBF0F8"
             },
             "line": {
              "color": "white"
             }
            },
            "header": {
             "fill": {
              "color": "#C8D4E3"
             },
             "line": {
              "color": "white"
             }
            },
            "type": "table"
           }
          ]
         },
         "layout": {
          "annotationdefaults": {
           "arrowcolor": "#2a3f5f",
           "arrowhead": 0,
           "arrowwidth": 1
          },
          "autotypenumbers": "strict",
          "coloraxis": {
           "colorbar": {
            "outlinewidth": 0,
            "ticks": ""
           }
          },
          "colorscale": {
           "diverging": [
            [
             0,
             "#8e0152"
            ],
            [
             0.1,
             "#c51b7d"
            ],
            [
             0.2,
             "#de77ae"
            ],
            [
             0.3,
             "#f1b6da"
            ],
            [
             0.4,
             "#fde0ef"
            ],
            [
             0.5,
             "#f7f7f7"
            ],
            [
             0.6,
             "#e6f5d0"
            ],
            [
             0.7,
             "#b8e186"
            ],
            [
             0.8,
             "#7fbc41"
            ],
            [
             0.9,
             "#4d9221"
            ],
            [
             1,
             "#276419"
            ]
           ],
           "sequential": [
            [
             0,
             "#0d0887"
            ],
            [
             0.1111111111111111,
             "#46039f"
            ],
            [
             0.2222222222222222,
             "#7201a8"
            ],
            [
             0.3333333333333333,
             "#9c179e"
            ],
            [
             0.4444444444444444,
             "#bd3786"
            ],
            [
             0.5555555555555556,
             "#d8576b"
            ],
            [
             0.6666666666666666,
             "#ed7953"
            ],
            [
             0.7777777777777778,
             "#fb9f3a"
            ],
            [
             0.8888888888888888,
             "#fdca26"
            ],
            [
             1,
             "#f0f921"
            ]
           ],
           "sequentialminus": [
            [
             0,
             "#0d0887"
            ],
            [
             0.1111111111111111,
             "#46039f"
            ],
            [
             0.2222222222222222,
             "#7201a8"
            ],
            [
             0.3333333333333333,
             "#9c179e"
            ],
            [
             0.4444444444444444,
             "#bd3786"
            ],
            [
             0.5555555555555556,
             "#d8576b"
            ],
            [
             0.6666666666666666,
             "#ed7953"
            ],
            [
             0.7777777777777778,
             "#fb9f3a"
            ],
            [
             0.8888888888888888,
             "#fdca26"
            ],
            [
             1,
             "#f0f921"
            ]
           ]
          },
          "colorway": [
           "#636efa",
           "#EF553B",
           "#00cc96",
           "#ab63fa",
           "#FFA15A",
           "#19d3f3",
           "#FF6692",
           "#B6E880",
           "#FF97FF",
           "#FECB52"
          ],
          "font": {
           "color": "#2a3f5f"
          },
          "geo": {
           "bgcolor": "white",
           "lakecolor": "white",
           "landcolor": "white",
           "showlakes": true,
           "showland": true,
           "subunitcolor": "#C8D4E3"
          },
          "hoverlabel": {
           "align": "left"
          },
          "hovermode": "closest",
          "mapbox": {
           "style": "light"
          },
          "paper_bgcolor": "white",
          "plot_bgcolor": "white",
          "polar": {
           "angularaxis": {
            "gridcolor": "#EBF0F8",
            "linecolor": "#EBF0F8",
            "ticks": ""
           },
           "bgcolor": "white",
           "radialaxis": {
            "gridcolor": "#EBF0F8",
            "linecolor": "#EBF0F8",
            "ticks": ""
           }
          },
          "scene": {
           "xaxis": {
            "backgroundcolor": "white",
            "gridcolor": "#DFE8F3",
            "gridwidth": 2,
            "linecolor": "#EBF0F8",
            "showbackground": true,
            "ticks": "",
            "zerolinecolor": "#EBF0F8"
           },
           "yaxis": {
            "backgroundcolor": "white",
            "gridcolor": "#DFE8F3",
            "gridwidth": 2,
            "linecolor": "#EBF0F8",
            "showbackground": true,
            "ticks": "",
            "zerolinecolor": "#EBF0F8"
           },
           "zaxis": {
            "backgroundcolor": "white",
            "gridcolor": "#DFE8F3",
            "gridwidth": 2,
            "linecolor": "#EBF0F8",
            "showbackground": true,
            "ticks": "",
            "zerolinecolor": "#EBF0F8"
           }
          },
          "shapedefaults": {
           "line": {
            "color": "#2a3f5f"
           }
          },
          "ternary": {
           "aaxis": {
            "gridcolor": "#DFE8F3",
            "linecolor": "#A2B1C6",
            "ticks": ""
           },
           "baxis": {
            "gridcolor": "#DFE8F3",
            "linecolor": "#A2B1C6",
            "ticks": ""
           },
           "bgcolor": "white",
           "caxis": {
            "gridcolor": "#DFE8F3",
            "linecolor": "#A2B1C6",
            "ticks": ""
           }
          },
          "title": {
           "x": 0.05
          },
          "xaxis": {
           "automargin": true,
           "gridcolor": "#EBF0F8",
           "linecolor": "#EBF0F8",
           "ticks": "",
           "title": {
            "standoff": 15
           },
           "zerolinecolor": "#EBF0F8",
           "zerolinewidth": 2
          },
          "yaxis": {
           "automargin": true,
           "gridcolor": "#EBF0F8",
           "linecolor": "#EBF0F8",
           "ticks": "",
           "title": {
            "standoff": 15
           },
           "zerolinecolor": "#EBF0F8",
           "zerolinewidth": 2
          }
         }
        },
        "title": {
         "text": "Gemiddelde hoeveelheid punten gegeven door landen <br> die naburig zijn of dezelfde taal hebben"
        },
        "updatemenus": [
         {
          "buttons": [
           {
            "args": [
             {
              "visible": [
               true,
               true,
               false,
               false
              ]
             },
             {
              "yaxis.title.text": "Gemiddelde hoeveelheid gegeven punten"
             }
            ],
            "label": "Gemiddelde",
            "method": "update"
           },
           {
            "args": [
             {
              "visible": [
               false,
               false,
               true,
               true
              ]
             },
             {
              "yaxis.title.text": "Mediaan van de gegeven punten"
             }
            ],
            "label": "Mediaan",
            "method": "update"
           }
          ],
          "direction": "down",
          "pad": {
           "r": 10,
           "t": 10
          },
          "showactive": true,
          "x": 1.05,
          "xanchor": "left",
          "y": 0.9,
          "yanchor": "top"
         }
        ],
        "width": 600,
        "yaxis": {
         "title": {
          "text": "Gemiddelde hoeveelheid gegeven punten"
         }
        }
       }
      }
     },
     "metadata": {},
     "output_type": "display_data"
    }
   ],
   "source": [
    "# berekenen van gemiddelde en mediaan voor landen die wel of niet dezelfde taal hebben en wel of niet aanliggend zijn\n",
    "mean_contig = eurovision_points_df[eurovision_points_df['Contigent']==1]['Points'].mean()\n",
    "mean_non_contig = eurovision_points_df[eurovision_points_df['Contigent']==0]['Points'].mean()\n",
    "median_contig = eurovision_points_df[eurovision_points_df['Contigent']==1]['Points'].median()\n",
    "median_non_contig =eurovision_points_df[eurovision_points_df['Contigent']==0]['Points'].median()\n",
    "\n",
    "mean_comlang = eurovision_points_df[eurovision_points_df['Common language']==1]['Points'].mean()\n",
    "mean_non_comlang = eurovision_points_df[eurovision_points_df['Common language']==0]['Points'].mean()\n",
    "median_comlang = eurovision_points_df[eurovision_points_df['Common language']==1]['Points'].median()\n",
    "median_non_comlang = eurovision_points_df[eurovision_points_df['Common language']==0]['Points'].median()\n",
    "\n",
    "fig = go.Figure()\n",
    "\n",
    "# maak alle individuele grafieken\n",
    "fig.add_trace(\n",
    "    go.Bar(name='Waar',\n",
    "           x=['Naburig', 'Zelfde taal'],\n",
    "           y=[mean_contig, mean_comlang],\n",
    "           visible=True,\n",
    "           marker=dict(color=color_blind_green))\n",
    ")\n",
    "\n",
    "fig.add_trace(\n",
    "    go.Bar(name='Niet waar',\n",
    "           x=['Naburig', 'Zelfde taal'],\n",
    "           y=[mean_non_contig, mean_non_comlang],\n",
    "           visible=True,\n",
    "           marker=dict(color=color_blind_red))\n",
    ")\n",
    "\n",
    "fig.add_trace(\n",
    "    go.Bar(name='Waar',\n",
    "           x=['Naburig', 'Zelfde taal'],\n",
    "           y=[median_contig, median_comlang],\n",
    "           visible=False,\n",
    "           marker=dict(color=color_blind_green))\n",
    ")\n",
    "\n",
    "fig.add_trace(\n",
    "    go.Bar(name='Niet waar',\n",
    "           x=['Naburig', 'Zelfde taal'],\n",
    "           y=[median_non_contig, median_non_comlang],\n",
    "           visible=False,\n",
    "           marker=dict(color=color_blind_red))\n",
    ")\n",
    "\n",
    "# update de layout van algemene grafiek\n",
    "fig.update_layout(\n",
    "    width=600,\n",
    "    height=700,\n",
    "    autosize=False,\n",
    "    margin=dict(t=40, b=20, l=0, r=0),\n",
    "    template=\"plotly_white\",\n",
    "    title='Gemiddelde hoeveelheid punten gegeven door landen <br> die naburig zijn of dezelfde taal hebben',\n",
    "    yaxis=dict(\n",
    "        title=\"Gemiddelde hoeveelheid gegeven punten\"\n",
    "            )\n",
    ")\n",
    "\n",
    "# voeg een dropdown box toe waar kan worden gekozen tussen de paren van grafieken\n",
    "fig.update_layout(\n",
    "    updatemenus=[\n",
    "        dict(\n",
    "            buttons=list([\n",
    "                dict(\n",
    "                    args=[{\"visible\": [True, True, False, False]}, {\"yaxis.title.text\": \"Gemiddelde hoeveelheid gegeven punten\"}],\n",
    "                    label=\"Gemiddelde\",\n",
    "                    method=\"update\"\n",
    "                ),\n",
    "                dict(\n",
    "                    args=[{\"visible\": [False, False, True, True]}, {\"yaxis.title.text\": \"Mediaan van de gegeven punten\"}],\n",
    "                    label=\"Mediaan\",\n",
    "                    method=\"update\"\n",
    "                )\n",
    "            ]),\n",
    "            direction=\"down\",\n",
    "            pad={\"r\": 10, \"t\": 10},\n",
    "            showactive=True,\n",
    "            x=1.05,\n",
    "            xanchor=\"left\",\n",
    "            y=.9,\n",
    "            yanchor=\"top\"\n",
    "        ),\n",
    "    ]\n",
    ")\n",
    "fig.show()"
   ]
  },
  {
   "attachments": {},
   "cell_type": "markdown",
   "metadata": {},
   "source": [
    "Figuur 3: Bar chart waar de gebruiker kan kiezen of ze de mediaan of het gemiddelde willen zien van de gemiddelde hoeveelheid punten die landen aan elkaar geven, verdeeld op gemeenschappelijke taal en naburigheid."
   ]
  },
  {
   "attachments": {},
   "cell_type": "markdown",
   "metadata": {},
   "source": [
    "Figuur 3 toont aan dat landen die eenzelfde officiële taal delen, elkaar ongeveer twee keer zo veel punten toekennen. Aangezien taal een cultureel goed is toont deze correlatie aan dat culturele gelijkenis een positieve invloed heeft op het aantal toegekende punten tussen landen onderling.  Uit het figuur blijkt ook dat naburige landen meer op elkaar stemmen dan op niet-aangrenzende landen. Naburigheid is een indicatie van een culturele overeenkomst. Deze correlatie geeft aan dat culturele gelijkenis een positief effect heeft op het toekennen van punten. "
   ]
  },
  {
   "cell_type": "code",
   "execution_count": 6,
   "metadata": {
    "tags": [
     "hide-input"
    ]
   },
   "outputs": [
    {
     "data": {
      "application/vnd.plotly.v1+json": {
       "config": {
        "plotlyServerURL": "https://plot.ly"
       },
       "data": [
        {
         "line": {
          "color": "blue"
         },
         "mode": "lines",
         "name": "Niet-Oostblok naar Niet-Oostblok",
         "type": "scatter",
         "x": [
          1975,
          1976,
          1977,
          1978,
          1979,
          1980,
          1981,
          1982,
          1983,
          1984,
          1985,
          1986,
          1987,
          1988,
          1989,
          1990,
          1991,
          1992,
          1993,
          1994,
          1995,
          1996,
          1997,
          1998,
          1999,
          2000,
          2001,
          2002,
          2003,
          2004,
          2005,
          2006,
          2007,
          2008,
          2009,
          2010,
          2011,
          2012,
          2013,
          2014,
          2015,
          2016,
          2017,
          2018
         ],
         "y": [
          709,
          590,
          689,
          874,
          813,
          845,
          712,
          837,
          746,
          790,
          838,
          869,
          923,
          780,
          811,
          841,
          925,
          919,
          866,
          478,
          610,
          621,
          555,
          650,
          605,
          591,
          447,
          325,
          644,
          1167,
          1247,
          1033,
          690,
          1031,
          1189,
          1065,
          1125,
          1065,
          1158,
          1265,
          1310,
          1086,
          1422,
          1456
         ]
        },
        {
         "line": {
          "color": "blue",
          "dash": "10"
         },
         "mode": "lines",
         "name": "Niet-Oostblok naar Oostblok",
         "type": "scatter",
         "x": [
          1975,
          1976,
          1977,
          1978,
          1979,
          1980,
          1981,
          1982,
          1983,
          1984,
          1985,
          1986,
          1987,
          1988,
          1989,
          1990,
          1991,
          1992,
          1993,
          1994,
          1995,
          1996,
          1997,
          1998,
          1999,
          2000,
          2001,
          2002,
          2003,
          2004,
          2005,
          2006,
          2007,
          2008,
          2009,
          2010,
          2011,
          2012,
          2013,
          2014,
          2015,
          2016,
          2017,
          2018
         ],
         "y": [
          83,
          127,
          130,
          111,
          100,
          40,
          120,
          0,
          53,
          55,
          54,
          13,
          44,
          52,
          57,
          120,
          130,
          73,
          159,
          300,
          213,
          195,
          232,
          122,
          240,
          321,
          293,
          357,
          226,
          1137,
          1055,
          1151,
          1495,
          1159,
          816,
          903,
          1148,
          1250,
          911,
          786,
          1063,
          1084,
          850,
          850
         ]
        },
        {
         "line": {
          "color": "red",
          "dash": "10"
         },
         "mode": "lines",
         "name": "Oostblok naar Oostblok",
         "type": "scatter",
         "x": [
          1975,
          1976,
          1977,
          1978,
          1979,
          1980,
          1981,
          1982,
          1983,
          1984,
          1985,
          1986,
          1987,
          1988,
          1989,
          1990,
          1991,
          1992,
          1993,
          1994,
          1995,
          1996,
          1997,
          1998,
          1999,
          2000,
          2001,
          2002,
          2003,
          2004,
          2005,
          2006,
          2007,
          2008,
          2009,
          2010,
          2011,
          2012,
          2013,
          2014,
          2015,
          2016,
          2017,
          2018
         ],
         "y": [
          0,
          0,
          0,
          0,
          0,
          0,
          0,
          0,
          0,
          0,
          0,
          0,
          0,
          0,
          0,
          0,
          0,
          0,
          17,
          210,
          94,
          79,
          158,
          116,
          145,
          178,
          265,
          276,
          227,
          900,
          1279,
          1332,
          2072,
          1675,
          1410,
          1286,
          1465,
          1423,
          1308,
          1040,
          1262,
          1480,
          937,
          1084
         ]
        },
        {
         "line": {
          "color": "red"
         },
         "mode": "lines",
         "name": "Oostblok naar Niet-Oostblok",
         "type": "scatter",
         "x": [
          1975,
          1976,
          1977,
          1978,
          1979,
          1980,
          1981,
          1982,
          1983,
          1984,
          1985,
          1986,
          1987,
          1988,
          1989,
          1990,
          1991,
          1992,
          1993,
          1994,
          1995,
          1996,
          1997,
          1998,
          1999,
          2000,
          2001,
          2002,
          2003,
          2004,
          2005,
          2006,
          2007,
          2008,
          2009,
          2010,
          2011,
          2012,
          2013,
          2014,
          2015,
          2016,
          2017,
          2018
         ],
         "y": [
          46,
          47,
          46,
          56,
          58,
          53,
          51,
          0,
          53,
          56,
          52,
          48,
          56,
          55,
          43,
          46,
          57,
          43,
          186,
          341,
          283,
          304,
          220,
          338,
          248,
          216,
          243,
          265,
          353,
          653,
          809,
          751,
          480,
          993,
          1168,
          1144,
          1034,
          1006,
          1008,
          1045,
          942,
          1052,
          1448,
          1459
         ]
        }
       ],
       "layout": {
        "template": {
         "data": {
          "bar": [
           {
            "error_x": {
             "color": "#2a3f5f"
            },
            "error_y": {
             "color": "#2a3f5f"
            },
            "marker": {
             "line": {
              "color": "#E5ECF6",
              "width": 0.5
             },
             "pattern": {
              "fillmode": "overlay",
              "size": 10,
              "solidity": 0.2
             }
            },
            "type": "bar"
           }
          ],
          "barpolar": [
           {
            "marker": {
             "line": {
              "color": "#E5ECF6",
              "width": 0.5
             },
             "pattern": {
              "fillmode": "overlay",
              "size": 10,
              "solidity": 0.2
             }
            },
            "type": "barpolar"
           }
          ],
          "carpet": [
           {
            "aaxis": {
             "endlinecolor": "#2a3f5f",
             "gridcolor": "white",
             "linecolor": "white",
             "minorgridcolor": "white",
             "startlinecolor": "#2a3f5f"
            },
            "baxis": {
             "endlinecolor": "#2a3f5f",
             "gridcolor": "white",
             "linecolor": "white",
             "minorgridcolor": "white",
             "startlinecolor": "#2a3f5f"
            },
            "type": "carpet"
           }
          ],
          "choropleth": [
           {
            "colorbar": {
             "outlinewidth": 0,
             "ticks": ""
            },
            "type": "choropleth"
           }
          ],
          "contour": [
           {
            "colorbar": {
             "outlinewidth": 0,
             "ticks": ""
            },
            "colorscale": [
             [
              0,
              "#0d0887"
             ],
             [
              0.1111111111111111,
              "#46039f"
             ],
             [
              0.2222222222222222,
              "#7201a8"
             ],
             [
              0.3333333333333333,
              "#9c179e"
             ],
             [
              0.4444444444444444,
              "#bd3786"
             ],
             [
              0.5555555555555556,
              "#d8576b"
             ],
             [
              0.6666666666666666,
              "#ed7953"
             ],
             [
              0.7777777777777778,
              "#fb9f3a"
             ],
             [
              0.8888888888888888,
              "#fdca26"
             ],
             [
              1,
              "#f0f921"
             ]
            ],
            "type": "contour"
           }
          ],
          "contourcarpet": [
           {
            "colorbar": {
             "outlinewidth": 0,
             "ticks": ""
            },
            "type": "contourcarpet"
           }
          ],
          "heatmap": [
           {
            "colorbar": {
             "outlinewidth": 0,
             "ticks": ""
            },
            "colorscale": [
             [
              0,
              "#0d0887"
             ],
             [
              0.1111111111111111,
              "#46039f"
             ],
             [
              0.2222222222222222,
              "#7201a8"
             ],
             [
              0.3333333333333333,
              "#9c179e"
             ],
             [
              0.4444444444444444,
              "#bd3786"
             ],
             [
              0.5555555555555556,
              "#d8576b"
             ],
             [
              0.6666666666666666,
              "#ed7953"
             ],
             [
              0.7777777777777778,
              "#fb9f3a"
             ],
             [
              0.8888888888888888,
              "#fdca26"
             ],
             [
              1,
              "#f0f921"
             ]
            ],
            "type": "heatmap"
           }
          ],
          "heatmapgl": [
           {
            "colorbar": {
             "outlinewidth": 0,
             "ticks": ""
            },
            "colorscale": [
             [
              0,
              "#0d0887"
             ],
             [
              0.1111111111111111,
              "#46039f"
             ],
             [
              0.2222222222222222,
              "#7201a8"
             ],
             [
              0.3333333333333333,
              "#9c179e"
             ],
             [
              0.4444444444444444,
              "#bd3786"
             ],
             [
              0.5555555555555556,
              "#d8576b"
             ],
             [
              0.6666666666666666,
              "#ed7953"
             ],
             [
              0.7777777777777778,
              "#fb9f3a"
             ],
             [
              0.8888888888888888,
              "#fdca26"
             ],
             [
              1,
              "#f0f921"
             ]
            ],
            "type": "heatmapgl"
           }
          ],
          "histogram": [
           {
            "marker": {
             "pattern": {
              "fillmode": "overlay",
              "size": 10,
              "solidity": 0.2
             }
            },
            "type": "histogram"
           }
          ],
          "histogram2d": [
           {
            "colorbar": {
             "outlinewidth": 0,
             "ticks": ""
            },
            "colorscale": [
             [
              0,
              "#0d0887"
             ],
             [
              0.1111111111111111,
              "#46039f"
             ],
             [
              0.2222222222222222,
              "#7201a8"
             ],
             [
              0.3333333333333333,
              "#9c179e"
             ],
             [
              0.4444444444444444,
              "#bd3786"
             ],
             [
              0.5555555555555556,
              "#d8576b"
             ],
             [
              0.6666666666666666,
              "#ed7953"
             ],
             [
              0.7777777777777778,
              "#fb9f3a"
             ],
             [
              0.8888888888888888,
              "#fdca26"
             ],
             [
              1,
              "#f0f921"
             ]
            ],
            "type": "histogram2d"
           }
          ],
          "histogram2dcontour": [
           {
            "colorbar": {
             "outlinewidth": 0,
             "ticks": ""
            },
            "colorscale": [
             [
              0,
              "#0d0887"
             ],
             [
              0.1111111111111111,
              "#46039f"
             ],
             [
              0.2222222222222222,
              "#7201a8"
             ],
             [
              0.3333333333333333,
              "#9c179e"
             ],
             [
              0.4444444444444444,
              "#bd3786"
             ],
             [
              0.5555555555555556,
              "#d8576b"
             ],
             [
              0.6666666666666666,
              "#ed7953"
             ],
             [
              0.7777777777777778,
              "#fb9f3a"
             ],
             [
              0.8888888888888888,
              "#fdca26"
             ],
             [
              1,
              "#f0f921"
             ]
            ],
            "type": "histogram2dcontour"
           }
          ],
          "mesh3d": [
           {
            "colorbar": {
             "outlinewidth": 0,
             "ticks": ""
            },
            "type": "mesh3d"
           }
          ],
          "parcoords": [
           {
            "line": {
             "colorbar": {
              "outlinewidth": 0,
              "ticks": ""
             }
            },
            "type": "parcoords"
           }
          ],
          "pie": [
           {
            "automargin": true,
            "type": "pie"
           }
          ],
          "scatter": [
           {
            "fillpattern": {
             "fillmode": "overlay",
             "size": 10,
             "solidity": 0.2
            },
            "type": "scatter"
           }
          ],
          "scatter3d": [
           {
            "line": {
             "colorbar": {
              "outlinewidth": 0,
              "ticks": ""
             }
            },
            "marker": {
             "colorbar": {
              "outlinewidth": 0,
              "ticks": ""
             }
            },
            "type": "scatter3d"
           }
          ],
          "scattercarpet": [
           {
            "marker": {
             "colorbar": {
              "outlinewidth": 0,
              "ticks": ""
             }
            },
            "type": "scattercarpet"
           }
          ],
          "scattergeo": [
           {
            "marker": {
             "colorbar": {
              "outlinewidth": 0,
              "ticks": ""
             }
            },
            "type": "scattergeo"
           }
          ],
          "scattergl": [
           {
            "marker": {
             "colorbar": {
              "outlinewidth": 0,
              "ticks": ""
             }
            },
            "type": "scattergl"
           }
          ],
          "scattermapbox": [
           {
            "marker": {
             "colorbar": {
              "outlinewidth": 0,
              "ticks": ""
             }
            },
            "type": "scattermapbox"
           }
          ],
          "scatterpolar": [
           {
            "marker": {
             "colorbar": {
              "outlinewidth": 0,
              "ticks": ""
             }
            },
            "type": "scatterpolar"
           }
          ],
          "scatterpolargl": [
           {
            "marker": {
             "colorbar": {
              "outlinewidth": 0,
              "ticks": ""
             }
            },
            "type": "scatterpolargl"
           }
          ],
          "scatterternary": [
           {
            "marker": {
             "colorbar": {
              "outlinewidth": 0,
              "ticks": ""
             }
            },
            "type": "scatterternary"
           }
          ],
          "surface": [
           {
            "colorbar": {
             "outlinewidth": 0,
             "ticks": ""
            },
            "colorscale": [
             [
              0,
              "#0d0887"
             ],
             [
              0.1111111111111111,
              "#46039f"
             ],
             [
              0.2222222222222222,
              "#7201a8"
             ],
             [
              0.3333333333333333,
              "#9c179e"
             ],
             [
              0.4444444444444444,
              "#bd3786"
             ],
             [
              0.5555555555555556,
              "#d8576b"
             ],
             [
              0.6666666666666666,
              "#ed7953"
             ],
             [
              0.7777777777777778,
              "#fb9f3a"
             ],
             [
              0.8888888888888888,
              "#fdca26"
             ],
             [
              1,
              "#f0f921"
             ]
            ],
            "type": "surface"
           }
          ],
          "table": [
           {
            "cells": {
             "fill": {
              "color": "#EBF0F8"
             },
             "line": {
              "color": "white"
             }
            },
            "header": {
             "fill": {
              "color": "#C8D4E3"
             },
             "line": {
              "color": "white"
             }
            },
            "type": "table"
           }
          ]
         },
         "layout": {
          "annotationdefaults": {
           "arrowcolor": "#2a3f5f",
           "arrowhead": 0,
           "arrowwidth": 1
          },
          "autotypenumbers": "strict",
          "coloraxis": {
           "colorbar": {
            "outlinewidth": 0,
            "ticks": ""
           }
          },
          "colorscale": {
           "diverging": [
            [
             0,
             "#8e0152"
            ],
            [
             0.1,
             "#c51b7d"
            ],
            [
             0.2,
             "#de77ae"
            ],
            [
             0.3,
             "#f1b6da"
            ],
            [
             0.4,
             "#fde0ef"
            ],
            [
             0.5,
             "#f7f7f7"
            ],
            [
             0.6,
             "#e6f5d0"
            ],
            [
             0.7,
             "#b8e186"
            ],
            [
             0.8,
             "#7fbc41"
            ],
            [
             0.9,
             "#4d9221"
            ],
            [
             1,
             "#276419"
            ]
           ],
           "sequential": [
            [
             0,
             "#0d0887"
            ],
            [
             0.1111111111111111,
             "#46039f"
            ],
            [
             0.2222222222222222,
             "#7201a8"
            ],
            [
             0.3333333333333333,
             "#9c179e"
            ],
            [
             0.4444444444444444,
             "#bd3786"
            ],
            [
             0.5555555555555556,
             "#d8576b"
            ],
            [
             0.6666666666666666,
             "#ed7953"
            ],
            [
             0.7777777777777778,
             "#fb9f3a"
            ],
            [
             0.8888888888888888,
             "#fdca26"
            ],
            [
             1,
             "#f0f921"
            ]
           ],
           "sequentialminus": [
            [
             0,
             "#0d0887"
            ],
            [
             0.1111111111111111,
             "#46039f"
            ],
            [
             0.2222222222222222,
             "#7201a8"
            ],
            [
             0.3333333333333333,
             "#9c179e"
            ],
            [
             0.4444444444444444,
             "#bd3786"
            ],
            [
             0.5555555555555556,
             "#d8576b"
            ],
            [
             0.6666666666666666,
             "#ed7953"
            ],
            [
             0.7777777777777778,
             "#fb9f3a"
            ],
            [
             0.8888888888888888,
             "#fdca26"
            ],
            [
             1,
             "#f0f921"
            ]
           ]
          },
          "colorway": [
           "#636efa",
           "#EF553B",
           "#00cc96",
           "#ab63fa",
           "#FFA15A",
           "#19d3f3",
           "#FF6692",
           "#B6E880",
           "#FF97FF",
           "#FECB52"
          ],
          "font": {
           "color": "#2a3f5f"
          },
          "geo": {
           "bgcolor": "white",
           "lakecolor": "white",
           "landcolor": "#E5ECF6",
           "showlakes": true,
           "showland": true,
           "subunitcolor": "white"
          },
          "hoverlabel": {
           "align": "left"
          },
          "hovermode": "closest",
          "mapbox": {
           "style": "light"
          },
          "paper_bgcolor": "white",
          "plot_bgcolor": "#E5ECF6",
          "polar": {
           "angularaxis": {
            "gridcolor": "white",
            "linecolor": "white",
            "ticks": ""
           },
           "bgcolor": "#E5ECF6",
           "radialaxis": {
            "gridcolor": "white",
            "linecolor": "white",
            "ticks": ""
           }
          },
          "scene": {
           "xaxis": {
            "backgroundcolor": "#E5ECF6",
            "gridcolor": "white",
            "gridwidth": 2,
            "linecolor": "white",
            "showbackground": true,
            "ticks": "",
            "zerolinecolor": "white"
           },
           "yaxis": {
            "backgroundcolor": "#E5ECF6",
            "gridcolor": "white",
            "gridwidth": 2,
            "linecolor": "white",
            "showbackground": true,
            "ticks": "",
            "zerolinecolor": "white"
           },
           "zaxis": {
            "backgroundcolor": "#E5ECF6",
            "gridcolor": "white",
            "gridwidth": 2,
            "linecolor": "white",
            "showbackground": true,
            "ticks": "",
            "zerolinecolor": "white"
           }
          },
          "shapedefaults": {
           "line": {
            "color": "#2a3f5f"
           }
          },
          "ternary": {
           "aaxis": {
            "gridcolor": "white",
            "linecolor": "white",
            "ticks": ""
           },
           "baxis": {
            "gridcolor": "white",
            "linecolor": "white",
            "ticks": ""
           },
           "bgcolor": "#E5ECF6",
           "caxis": {
            "gridcolor": "white",
            "linecolor": "white",
            "ticks": ""
           }
          },
          "title": {
           "x": 0.05
          },
          "xaxis": {
           "automargin": true,
           "gridcolor": "white",
           "linecolor": "white",
           "ticks": "",
           "title": {
            "standoff": 15
           },
           "zerolinecolor": "white",
           "zerolinewidth": 2
          },
          "yaxis": {
           "automargin": true,
           "gridcolor": "white",
           "linecolor": "white",
           "ticks": "",
           "title": {
            "standoff": 15
           },
           "zerolinecolor": "white",
           "zerolinewidth": 2
          }
         }
        },
        "title": {
         "text": "Stemgedrag Oostblok en Niet-Oostblok landen"
        },
        "width": 1000,
        "xaxis": {
         "title": {
          "text": "Jaar"
         }
        },
        "yaxis": {
         "title": {
          "text": "Ontvangen punten"
         }
        }
       }
      }
     },
     "metadata": {},
     "output_type": "display_data"
    }
   ],
   "source": [
    "nob_nob_points_list = []\n",
    "nob_ob_points_list = []\n",
    "ob_ob_points_list = []\n",
    "ob_nob_points_list = []\n",
    "\n",
    "for year in range(1975, 2019):   \n",
    "    nob_to_nob = eurovision_points_df[(eurovision_points_df['From-oostblok'] == False) & (eurovision_points_df['To-oostblok'] ==False) & (eurovision_points_df[\"Year\"] ==year)][\"Points\"]\n",
    "    nob_nob_points = nob_to_nob.sum()\n",
    "\n",
    "    nob_to_ob = eurovision_points_df[(eurovision_points_df['From-oostblok'] == False) & (eurovision_points_df['To-oostblok'] == True) & (eurovision_points_df[\"Year\"] ==year)][\"Points\"]\n",
    "    nob_ob_points = nob_to_ob.sum()\n",
    "\n",
    "    ob_to_ob = eurovision_points_df[(eurovision_points_df['From-oostblok'] == True) & (eurovision_points_df['To-oostblok'] == True) & (eurovision_points_df[\"Year\"] ==year)][\"Points\"]\n",
    "    ob_ob_points = ob_to_ob.sum()\n",
    "\n",
    "    ob_to_nob = eurovision_points_df[(eurovision_points_df['From-oostblok'] == True) & (eurovision_points_df['To-oostblok'] ==False) & (eurovision_points_df[\"Year\"] ==year)][\"Points\"]\n",
    "    ob_nob_points = ob_to_nob.sum()\n",
    "\n",
    "    nob_nob_points_list.append(nob_nob_points)\n",
    "    nob_ob_points_list.append(nob_ob_points)\n",
    "    ob_ob_points_list.append(ob_ob_points)\n",
    "    ob_nob_points_list.append(ob_nob_points)\n",
    "\n",
    "trace1 = go.Scatter(x=list(range(1975, 2019)), y=nob_nob_points_list, mode='lines', name='Niet-Oostblok naar Niet-Oostblok', line=dict(color='blue'))\n",
    "trace2 = go.Scatter(x=list(range(1975, 2019)), y=nob_ob_points_list, mode='lines', name='Niet-Oostblok naar Oostblok', line=dict(color='blue', dash='10'))\n",
    "trace3 = go.Scatter(x=list(range(1975, 2019)), y=ob_ob_points_list, mode='lines', name='Oostblok naar Oostblok', line=dict(color='red', dash='10'))\n",
    "trace4 = go.Scatter(x=list(range(1975, 2019)), y=ob_nob_points_list, mode='lines', name='Oostblok naar Niet-Oostblok', line=dict(color='red'))\n",
    "\n",
    "# Create the data list\n",
    "data = [trace1, trace2, trace3, trace4]\n",
    "\n",
    "# Create the layout\n",
    "layout = go.Layout(title='Stemgedrag Oostblok en Niet-Oostblok landen', \n",
    "                   xaxis=dict(title='Jaar'), \n",
    "                   yaxis=dict(title='Ontvangen punten'),\n",
    "                   width=1000)\n",
    "\n",
    "# Create the figure\n",
    "ob_fig = go.Figure(data=data, layout=layout)\n",
    "\n",
    "# Display the figure\n",
    "ob_fig.show()\n"
   ]
  },
  {
   "attachments": {},
   "cell_type": "markdown",
   "metadata": {},
   "source": [
    "Figuur 4: Weergave van de jaarlijkse verdeling aantal stemmen van Oostblok en Niet-Oosblok landen aan zichzelf en elkaar. Op de y-as staan de totale ontvangen punten van dat jaar. Er is dus niet gecorrigeerd voor het aantal landen uit het oostblok dat in de finale heeft gestaan. In de grafiek is vaak te zien dat beide het Oostblok en het Niet-Oostblok op dezelfde partijen stemmen. De afwijking tussen twee lijnen met dezelfde trend kan veroorzaakt worden door de naburigheid van landen in dezelfde groep."
   ]
  },
  {
   "attachments": {},
   "cell_type": "markdown",
   "metadata": {},
   "source": [
    "Om de gelijkheid van politieke geschiedenis te kunnen toetsen als variabele, hebben we gekeken naar het Oostblok. Landen die onderdeel zijn geweest van het Oostblok hebben een gelijke politieke geschiedenis gehad, of in ieder geval dezelfde politieke invloed. Figuur 4 toont aan dat het niet uitmaakt of er sprake is van een gemeenschappelijke politieke geschiedenis, omdat beide groepen vaak op hetzelfde gebied stemmen. Deze culturele variabele heeft dus geen impact op het stemgedrag van landen."
   ]
  },
  {
   "attachments": {},
   "cell_type": "markdown",
   "metadata": {},
   "source": [
    "## Niet-culturele factoren\n",
    "Overige factoren die niets met muziek te maken hebben zijn onder andere queerness van de artiest, of landen in dezelfde semi-final hebben gezeten en de volgorde waarin de liedjes worden gespeeld. Deze zijn onafhankelijk van het land en de cultuur waar de jury vandaan komt."
   ]
  },
  {
   "cell_type": "code",
   "execution_count": 7,
   "metadata": {
    "tags": [
     "hide-input"
    ]
   },
   "outputs": [
    {
     "data": {
      "application/vnd.plotly.v1+json": {
       "config": {
        "plotlyServerURL": "https://plot.ly"
       },
       "data": [
        {
         "branchvalues": "total",
         "customdata": [
          [
           2.815910249872514
          ],
          [
           3.3666026871401153
          ],
          [
           2.571604110813226
          ],
          [
           4.326666666666667
          ],
          [
           2.6992964221514484
          ],
          [
           3.906539172794223
          ]
         ],
         "domain": {
          "x": [
           0,
           1
          ],
          "y": [
           0,
           1
          ]
         },
         "hovertemplate": "labels=%{label}<br>Gemiddelde_sum=%{value}<br>parent=%{parent}<br>id=%{id}<br>Gemiddelde=%{color}<extra></extra>",
         "ids": [
          "Hetero/Man",
          "Queer/Man",
          "Hetero/Vrouw",
          "Queer/Vrouw",
          "Hetero",
          "Queer"
         ],
         "labels": [
          "Man",
          "Man",
          "Vrouw",
          "Vrouw",
          "Hetero",
          "Queer"
         ],
         "marker": {
          "coloraxis": "coloraxis",
          "colors": [
           2.815910249872514,
           3.3666026871401153,
           2.571604110813226,
           4.326666666666667,
           2.6992964221514484,
           3.906539172794223
          ]
         },
         "name": "",
         "parents": [
          "Hetero",
          "Queer",
          "Hetero",
          "Queer",
          "",
          ""
         ],
         "type": "treemap",
         "values": [
          2.815910249872514,
          3.3666026871401153,
          2.571604110813226,
          4.326666666666667,
          5.38751436068574,
          7.693269353806782
         ]
        }
       ],
       "layout": {
        "coloraxis": {
         "colorbar": {
          "title": {
           "text": "Gemiddelde"
          }
         },
         "colorscale": [
          [
           0,
           "rgb(5,48,97)"
          ],
          [
           0.1,
           "rgb(33,102,172)"
          ],
          [
           0.2,
           "rgb(67,147,195)"
          ],
          [
           0.3,
           "rgb(146,197,222)"
          ],
          [
           0.4,
           "rgb(209,229,240)"
          ],
          [
           0.5,
           "rgb(247,247,247)"
          ],
          [
           0.6,
           "rgb(253,219,199)"
          ],
          [
           0.7,
           "rgb(244,165,130)"
          ],
          [
           0.8,
           "rgb(214,96,77)"
          ],
          [
           0.9,
           "rgb(178,24,43)"
          ],
          [
           1,
           "rgb(103,0,31)"
          ]
         ]
        },
        "legend": {
         "tracegroupgap": 0
        },
        "margin": {
         "b": 25,
         "l": 25,
         "r": 25,
         "t": 50
        },
        "template": {
         "data": {
          "bar": [
           {
            "error_x": {
             "color": "#2a3f5f"
            },
            "error_y": {
             "color": "#2a3f5f"
            },
            "marker": {
             "line": {
              "color": "#E5ECF6",
              "width": 0.5
             },
             "pattern": {
              "fillmode": "overlay",
              "size": 10,
              "solidity": 0.2
             }
            },
            "type": "bar"
           }
          ],
          "barpolar": [
           {
            "marker": {
             "line": {
              "color": "#E5ECF6",
              "width": 0.5
             },
             "pattern": {
              "fillmode": "overlay",
              "size": 10,
              "solidity": 0.2
             }
            },
            "type": "barpolar"
           }
          ],
          "carpet": [
           {
            "aaxis": {
             "endlinecolor": "#2a3f5f",
             "gridcolor": "white",
             "linecolor": "white",
             "minorgridcolor": "white",
             "startlinecolor": "#2a3f5f"
            },
            "baxis": {
             "endlinecolor": "#2a3f5f",
             "gridcolor": "white",
             "linecolor": "white",
             "minorgridcolor": "white",
             "startlinecolor": "#2a3f5f"
            },
            "type": "carpet"
           }
          ],
          "choropleth": [
           {
            "colorbar": {
             "outlinewidth": 0,
             "ticks": ""
            },
            "type": "choropleth"
           }
          ],
          "contour": [
           {
            "colorbar": {
             "outlinewidth": 0,
             "ticks": ""
            },
            "colorscale": [
             [
              0,
              "#0d0887"
             ],
             [
              0.1111111111111111,
              "#46039f"
             ],
             [
              0.2222222222222222,
              "#7201a8"
             ],
             [
              0.3333333333333333,
              "#9c179e"
             ],
             [
              0.4444444444444444,
              "#bd3786"
             ],
             [
              0.5555555555555556,
              "#d8576b"
             ],
             [
              0.6666666666666666,
              "#ed7953"
             ],
             [
              0.7777777777777778,
              "#fb9f3a"
             ],
             [
              0.8888888888888888,
              "#fdca26"
             ],
             [
              1,
              "#f0f921"
             ]
            ],
            "type": "contour"
           }
          ],
          "contourcarpet": [
           {
            "colorbar": {
             "outlinewidth": 0,
             "ticks": ""
            },
            "type": "contourcarpet"
           }
          ],
          "heatmap": [
           {
            "colorbar": {
             "outlinewidth": 0,
             "ticks": ""
            },
            "colorscale": [
             [
              0,
              "#0d0887"
             ],
             [
              0.1111111111111111,
              "#46039f"
             ],
             [
              0.2222222222222222,
              "#7201a8"
             ],
             [
              0.3333333333333333,
              "#9c179e"
             ],
             [
              0.4444444444444444,
              "#bd3786"
             ],
             [
              0.5555555555555556,
              "#d8576b"
             ],
             [
              0.6666666666666666,
              "#ed7953"
             ],
             [
              0.7777777777777778,
              "#fb9f3a"
             ],
             [
              0.8888888888888888,
              "#fdca26"
             ],
             [
              1,
              "#f0f921"
             ]
            ],
            "type": "heatmap"
           }
          ],
          "heatmapgl": [
           {
            "colorbar": {
             "outlinewidth": 0,
             "ticks": ""
            },
            "colorscale": [
             [
              0,
              "#0d0887"
             ],
             [
              0.1111111111111111,
              "#46039f"
             ],
             [
              0.2222222222222222,
              "#7201a8"
             ],
             [
              0.3333333333333333,
              "#9c179e"
             ],
             [
              0.4444444444444444,
              "#bd3786"
             ],
             [
              0.5555555555555556,
              "#d8576b"
             ],
             [
              0.6666666666666666,
              "#ed7953"
             ],
             [
              0.7777777777777778,
              "#fb9f3a"
             ],
             [
              0.8888888888888888,
              "#fdca26"
             ],
             [
              1,
              "#f0f921"
             ]
            ],
            "type": "heatmapgl"
           }
          ],
          "histogram": [
           {
            "marker": {
             "pattern": {
              "fillmode": "overlay",
              "size": 10,
              "solidity": 0.2
             }
            },
            "type": "histogram"
           }
          ],
          "histogram2d": [
           {
            "colorbar": {
             "outlinewidth": 0,
             "ticks": ""
            },
            "colorscale": [
             [
              0,
              "#0d0887"
             ],
             [
              0.1111111111111111,
              "#46039f"
             ],
             [
              0.2222222222222222,
              "#7201a8"
             ],
             [
              0.3333333333333333,
              "#9c179e"
             ],
             [
              0.4444444444444444,
              "#bd3786"
             ],
             [
              0.5555555555555556,
              "#d8576b"
             ],
             [
              0.6666666666666666,
              "#ed7953"
             ],
             [
              0.7777777777777778,
              "#fb9f3a"
             ],
             [
              0.8888888888888888,
              "#fdca26"
             ],
             [
              1,
              "#f0f921"
             ]
            ],
            "type": "histogram2d"
           }
          ],
          "histogram2dcontour": [
           {
            "colorbar": {
             "outlinewidth": 0,
             "ticks": ""
            },
            "colorscale": [
             [
              0,
              "#0d0887"
             ],
             [
              0.1111111111111111,
              "#46039f"
             ],
             [
              0.2222222222222222,
              "#7201a8"
             ],
             [
              0.3333333333333333,
              "#9c179e"
             ],
             [
              0.4444444444444444,
              "#bd3786"
             ],
             [
              0.5555555555555556,
              "#d8576b"
             ],
             [
              0.6666666666666666,
              "#ed7953"
             ],
             [
              0.7777777777777778,
              "#fb9f3a"
             ],
             [
              0.8888888888888888,
              "#fdca26"
             ],
             [
              1,
              "#f0f921"
             ]
            ],
            "type": "histogram2dcontour"
           }
          ],
          "mesh3d": [
           {
            "colorbar": {
             "outlinewidth": 0,
             "ticks": ""
            },
            "type": "mesh3d"
           }
          ],
          "parcoords": [
           {
            "line": {
             "colorbar": {
              "outlinewidth": 0,
              "ticks": ""
             }
            },
            "type": "parcoords"
           }
          ],
          "pie": [
           {
            "automargin": true,
            "type": "pie"
           }
          ],
          "scatter": [
           {
            "fillpattern": {
             "fillmode": "overlay",
             "size": 10,
             "solidity": 0.2
            },
            "type": "scatter"
           }
          ],
          "scatter3d": [
           {
            "line": {
             "colorbar": {
              "outlinewidth": 0,
              "ticks": ""
             }
            },
            "marker": {
             "colorbar": {
              "outlinewidth": 0,
              "ticks": ""
             }
            },
            "type": "scatter3d"
           }
          ],
          "scattercarpet": [
           {
            "marker": {
             "colorbar": {
              "outlinewidth": 0,
              "ticks": ""
             }
            },
            "type": "scattercarpet"
           }
          ],
          "scattergeo": [
           {
            "marker": {
             "colorbar": {
              "outlinewidth": 0,
              "ticks": ""
             }
            },
            "type": "scattergeo"
           }
          ],
          "scattergl": [
           {
            "marker": {
             "colorbar": {
              "outlinewidth": 0,
              "ticks": ""
             }
            },
            "type": "scattergl"
           }
          ],
          "scattermapbox": [
           {
            "marker": {
             "colorbar": {
              "outlinewidth": 0,
              "ticks": ""
             }
            },
            "type": "scattermapbox"
           }
          ],
          "scatterpolar": [
           {
            "marker": {
             "colorbar": {
              "outlinewidth": 0,
              "ticks": ""
             }
            },
            "type": "scatterpolar"
           }
          ],
          "scatterpolargl": [
           {
            "marker": {
             "colorbar": {
              "outlinewidth": 0,
              "ticks": ""
             }
            },
            "type": "scatterpolargl"
           }
          ],
          "scatterternary": [
           {
            "marker": {
             "colorbar": {
              "outlinewidth": 0,
              "ticks": ""
             }
            },
            "type": "scatterternary"
           }
          ],
          "surface": [
           {
            "colorbar": {
             "outlinewidth": 0,
             "ticks": ""
            },
            "colorscale": [
             [
              0,
              "#0d0887"
             ],
             [
              0.1111111111111111,
              "#46039f"
             ],
             [
              0.2222222222222222,
              "#7201a8"
             ],
             [
              0.3333333333333333,
              "#9c179e"
             ],
             [
              0.4444444444444444,
              "#bd3786"
             ],
             [
              0.5555555555555556,
              "#d8576b"
             ],
             [
              0.6666666666666666,
              "#ed7953"
             ],
             [
              0.7777777777777778,
              "#fb9f3a"
             ],
             [
              0.8888888888888888,
              "#fdca26"
             ],
             [
              1,
              "#f0f921"
             ]
            ],
            "type": "surface"
           }
          ],
          "table": [
           {
            "cells": {
             "fill": {
              "color": "#EBF0F8"
             },
             "line": {
              "color": "white"
             }
            },
            "header": {
             "fill": {
              "color": "#C8D4E3"
             },
             "line": {
              "color": "white"
             }
            },
            "type": "table"
           }
          ]
         },
         "layout": {
          "annotationdefaults": {
           "arrowcolor": "#2a3f5f",
           "arrowhead": 0,
           "arrowwidth": 1
          },
          "autotypenumbers": "strict",
          "coloraxis": {
           "colorbar": {
            "outlinewidth": 0,
            "ticks": ""
           }
          },
          "colorscale": {
           "diverging": [
            [
             0,
             "#8e0152"
            ],
            [
             0.1,
             "#c51b7d"
            ],
            [
             0.2,
             "#de77ae"
            ],
            [
             0.3,
             "#f1b6da"
            ],
            [
             0.4,
             "#fde0ef"
            ],
            [
             0.5,
             "#f7f7f7"
            ],
            [
             0.6,
             "#e6f5d0"
            ],
            [
             0.7,
             "#b8e186"
            ],
            [
             0.8,
             "#7fbc41"
            ],
            [
             0.9,
             "#4d9221"
            ],
            [
             1,
             "#276419"
            ]
           ],
           "sequential": [
            [
             0,
             "#0d0887"
            ],
            [
             0.1111111111111111,
             "#46039f"
            ],
            [
             0.2222222222222222,
             "#7201a8"
            ],
            [
             0.3333333333333333,
             "#9c179e"
            ],
            [
             0.4444444444444444,
             "#bd3786"
            ],
            [
             0.5555555555555556,
             "#d8576b"
            ],
            [
             0.6666666666666666,
             "#ed7953"
            ],
            [
             0.7777777777777778,
             "#fb9f3a"
            ],
            [
             0.8888888888888888,
             "#fdca26"
            ],
            [
             1,
             "#f0f921"
            ]
           ],
           "sequentialminus": [
            [
             0,
             "#0d0887"
            ],
            [
             0.1111111111111111,
             "#46039f"
            ],
            [
             0.2222222222222222,
             "#7201a8"
            ],
            [
             0.3333333333333333,
             "#9c179e"
            ],
            [
             0.4444444444444444,
             "#bd3786"
            ],
            [
             0.5555555555555556,
             "#d8576b"
            ],
            [
             0.6666666666666666,
             "#ed7953"
            ],
            [
             0.7777777777777778,
             "#fb9f3a"
            ],
            [
             0.8888888888888888,
             "#fdca26"
            ],
            [
             1,
             "#f0f921"
            ]
           ]
          },
          "colorway": [
           "#636efa",
           "#EF553B",
           "#00cc96",
           "#ab63fa",
           "#FFA15A",
           "#19d3f3",
           "#FF6692",
           "#B6E880",
           "#FF97FF",
           "#FECB52"
          ],
          "font": {
           "color": "#2a3f5f"
          },
          "geo": {
           "bgcolor": "white",
           "lakecolor": "white",
           "landcolor": "#E5ECF6",
           "showlakes": true,
           "showland": true,
           "subunitcolor": "white"
          },
          "hoverlabel": {
           "align": "left"
          },
          "hovermode": "closest",
          "mapbox": {
           "style": "light"
          },
          "paper_bgcolor": "white",
          "plot_bgcolor": "#E5ECF6",
          "polar": {
           "angularaxis": {
            "gridcolor": "white",
            "linecolor": "white",
            "ticks": ""
           },
           "bgcolor": "#E5ECF6",
           "radialaxis": {
            "gridcolor": "white",
            "linecolor": "white",
            "ticks": ""
           }
          },
          "scene": {
           "xaxis": {
            "backgroundcolor": "#E5ECF6",
            "gridcolor": "white",
            "gridwidth": 2,
            "linecolor": "white",
            "showbackground": true,
            "ticks": "",
            "zerolinecolor": "white"
           },
           "yaxis": {
            "backgroundcolor": "#E5ECF6",
            "gridcolor": "white",
            "gridwidth": 2,
            "linecolor": "white",
            "showbackground": true,
            "ticks": "",
            "zerolinecolor": "white"
           },
           "zaxis": {
            "backgroundcolor": "#E5ECF6",
            "gridcolor": "white",
            "gridwidth": 2,
            "linecolor": "white",
            "showbackground": true,
            "ticks": "",
            "zerolinecolor": "white"
           }
          },
          "shapedefaults": {
           "line": {
            "color": "#2a3f5f"
           }
          },
          "ternary": {
           "aaxis": {
            "gridcolor": "white",
            "linecolor": "white",
            "ticks": ""
           },
           "baxis": {
            "gridcolor": "white",
            "linecolor": "white",
            "ticks": ""
           },
           "bgcolor": "#E5ECF6",
           "caxis": {
            "gridcolor": "white",
            "linecolor": "white",
            "ticks": ""
           }
          },
          "title": {
           "x": 0.05
          },
          "xaxis": {
           "automargin": true,
           "gridcolor": "white",
           "linecolor": "white",
           "ticks": "",
           "title": {
            "standoff": 15
           },
           "zerolinecolor": "white",
           "zerolinewidth": 2
          },
          "yaxis": {
           "automargin": true,
           "gridcolor": "white",
           "linecolor": "white",
           "ticks": "",
           "title": {
            "standoff": 15
           },
           "zerolinecolor": "white",
           "zerolinewidth": 2
          }
         }
        },
        "title": {
         "text": "Behaalde punten door Queer en Hetero artiesten"
        }
       }
      }
     },
     "metadata": {},
     "output_type": "display_data"
    }
   ],
   "source": [
    "genders = ['Vrouw', 'Man']\n",
    "sexualities = eurovision_points_df['Sexuality'].unique().tolist()\n",
    "mean_values_dictionary = pd.DataFrame(columns=['Gender', 'Sexuality', 'Mean'])\n",
    "\n",
    "for gender in genders:\n",
    "    for sexuality in sexualities:\n",
    "        list_of_points = eurovision_points_df.loc[(eurovision_points_df['Gender'] == gender) & (eurovision_points_df['Sexuality'] == sexuality), 'Points']\n",
    "        new_row = pd.DataFrame({'Gender':[gender], 'Sexuality':[sexuality], 'Gemiddelde':[list_of_points.mean()]})\n",
    "        mean_values_dictionary = pd.concat([mean_values_dictionary, new_row], ignore_index=True)\n",
    "\n",
    "queerness = px.treemap(mean_values_dictionary, path=['Sexuality', 'Gender'], values='Gemiddelde',\n",
    "                  color='Gemiddelde',\n",
    "                  color_continuous_scale='RdBu_r')\n",
    "\n",
    "queerness.update_layout(\n",
    "    margin=dict(t=50, l=25, r=25, b=25),\n",
    "    title=\"Behaalde punten door Queer en Hetero artiesten\",\n",
    "    annotations=[]\n",
    ")\n",
    "\n",
    "queerness.show()"
   ]
  },
  {
   "attachments": {},
   "cell_type": "markdown",
   "metadata": {},
   "source": [
    "Figuur 5: Treemap die weergeeft hoe veel punten Queer en Hetero mannen en vrouwen over alle jaren gemiddeld behaald hebben. Opvallend is dat Queer vrouwen aanzienlijk meer punten halen dan de andere identiteiten en oriëntaties."
   ]
  },
  {
   "attachments": {},
   "cell_type": "markdown",
   "metadata": {},
   "source": [
    "Figuur 5 toont aan dat er meer punten toegekend worden aan landen met queer artiesten. Zes procent van alle deelnemers is openlijk queer, maar van alle winnaars is dit zestig procent. Hieruit blijkt dat er een positieve correlatie is tussen queerness van een artiest en het aantal stemmen dat dat land krijgt. "
   ]
  },
  {
   "cell_type": "code",
   "execution_count": 10,
   "metadata": {
    "tags": [
     "hide-input"
    ]
   },
   "outputs": [
    {
     "data": {
      "application/vnd.plotly.v1+json": {
       "config": {
        "plotlyServerURL": "https://plot.ly"
       },
       "data": [
        {
         "alignmentgroup": "True",
         "hovertemplate": "Punten gegeven <br>door landen uit=T<br>to=T<br>Percentages=%{y}<extra></extra>",
         "legendgroup": "Punten gegeven door",
         "marker": {
          "color": "#1b9e77"
         },
         "name": "halve finale 1",
         "notched": false,
         "offsetgroup": "T",
         "orientation": "v",
         "showlegend": true,
         "type": "box",
         "x0": " ",
         "xaxis": "x",
         "y": [
          29.270248596631916,
          22.57799671592775,
          27.895667550839963,
          22.93504410585405,
          27.05254515599343,
          29.44297082228117,
          31.73345759552656,
          24.164724164724163,
          30.049261083743843,
          35.262725779967155,
          31.716118684843625,
          18.263473053892216
         ],
         "y0": " ",
         "yaxis": "y"
        },
        {
         "alignmentgroup": "True",
         "hovertemplate": "Punten gegeven <br>door landen uit=T<br>to=F<br>Percentages=%{y}<extra></extra>",
         "legendgroup": "Punten gegeven door",
         "marker": {
          "color": "#1b9e77"
         },
         "name": "halve finale 1",
         "notched": false,
         "offsetgroup": "T",
         "orientation": "v",
         "showlegend": false,
         "type": "box",
         "x0": " ",
         "xaxis": "x2",
         "y": [
          19.566960705693663,
          25.04105090311987,
          23.386383731211318,
          25.902165196471532,
          22.947454844006568,
          19.27497789566755,
          19.617893755824788,
          24.281274281274282,
          19.950738916256157,
          14.73727422003284,
          19.446672012830792,
          30.538922155688624
         ],
         "y0": " ",
         "yaxis": "y2"
        },
        {
         "alignmentgroup": "True",
         "hovertemplate": "Punten gegeven <br>door landen uit=F<br>to=T<br>Percentages=%{y}<extra></extra>",
         "legendgroup": "Punten gegeven door",
         "marker": {
          "color": "#d95f02"
         },
         "name": "halve finale 2",
         "notched": false,
         "offsetgroup": "F",
         "orientation": "v",
         "showlegend": true,
         "type": "box",
         "x0": " ",
         "xaxis": "x",
         "y": [
          26.8644747393745,
          19.991789819376027,
          19.982316534040674,
          17.802726543704892,
          20.8128078817734,
          24.71264367816092,
          27.306616961789377,
          19.15306915306915,
          14.449917898193759,
          24.548440065681447,
          23.416198877305533,
          11.334473909324208
         ],
         "y0": " ",
         "yaxis": "y"
        },
        {
         "alignmentgroup": "True",
         "hovertemplate": "Punten gegeven <br>door landen uit=F<br>to=F<br>Percentages=%{y}<extra></extra>",
         "legendgroup": "Punten gegeven door",
         "marker": {
          "color": "#d95f02"
         },
         "name": "halve finale 2",
         "notched": false,
         "offsetgroup": "F",
         "orientation": "v",
         "showlegend": false,
         "type": "box",
         "x0": " ",
         "xaxis": "x2",
         "y": [
          24.29831595829992,
          32.389162561576356,
          28.735632183908045,
          33.360064153969525,
          29.1871921182266,
          26.56940760389036,
          21.342031686859272,
          32.400932400932405,
          35.55008210180624,
          25.451559934318556,
          25.421010425020047,
          39.86313088109495
         ],
         "y0": " ",
         "yaxis": "y2"
        }
       ],
       "layout": {
        "annotations": [
         {
          "font": {
           "size": 14
          },
          "showarrow": false,
          "text": "Punten voor kandidaten uit de 1e halve finale",
          "x": 0.18,
          "xanchor": "center",
          "xref": "paper",
          "y": 1.02,
          "yanchor": "bottom",
          "yref": "paper"
         },
         {
          "font": {
           "size": 14
          },
          "showarrow": false,
          "text": "<br>Punten voor kandidaten uit de 2e halve finale",
          "x": 0.68,
          "xanchor": "center",
          "xref": "paper",
          "y": 1.02,
          "yanchor": "bottom",
          "yref": "paper"
         }
        ],
        "boxmode": "group",
        "legend": {
         "title": {
          "text": "Punten gegeven <br>door landen uit"
         },
         "tracegroupgap": 0
        },
        "template": {
         "data": {
          "bar": [
           {
            "error_x": {
             "color": "#2a3f5f"
            },
            "error_y": {
             "color": "#2a3f5f"
            },
            "marker": {
             "line": {
              "color": "#E5ECF6",
              "width": 0.5
             },
             "pattern": {
              "fillmode": "overlay",
              "size": 10,
              "solidity": 0.2
             }
            },
            "type": "bar"
           }
          ],
          "barpolar": [
           {
            "marker": {
             "line": {
              "color": "#E5ECF6",
              "width": 0.5
             },
             "pattern": {
              "fillmode": "overlay",
              "size": 10,
              "solidity": 0.2
             }
            },
            "type": "barpolar"
           }
          ],
          "carpet": [
           {
            "aaxis": {
             "endlinecolor": "#2a3f5f",
             "gridcolor": "white",
             "linecolor": "white",
             "minorgridcolor": "white",
             "startlinecolor": "#2a3f5f"
            },
            "baxis": {
             "endlinecolor": "#2a3f5f",
             "gridcolor": "white",
             "linecolor": "white",
             "minorgridcolor": "white",
             "startlinecolor": "#2a3f5f"
            },
            "type": "carpet"
           }
          ],
          "choropleth": [
           {
            "colorbar": {
             "outlinewidth": 0,
             "ticks": ""
            },
            "type": "choropleth"
           }
          ],
          "contour": [
           {
            "colorbar": {
             "outlinewidth": 0,
             "ticks": ""
            },
            "colorscale": [
             [
              0,
              "#0d0887"
             ],
             [
              0.1111111111111111,
              "#46039f"
             ],
             [
              0.2222222222222222,
              "#7201a8"
             ],
             [
              0.3333333333333333,
              "#9c179e"
             ],
             [
              0.4444444444444444,
              "#bd3786"
             ],
             [
              0.5555555555555556,
              "#d8576b"
             ],
             [
              0.6666666666666666,
              "#ed7953"
             ],
             [
              0.7777777777777778,
              "#fb9f3a"
             ],
             [
              0.8888888888888888,
              "#fdca26"
             ],
             [
              1,
              "#f0f921"
             ]
            ],
            "type": "contour"
           }
          ],
          "contourcarpet": [
           {
            "colorbar": {
             "outlinewidth": 0,
             "ticks": ""
            },
            "type": "contourcarpet"
           }
          ],
          "heatmap": [
           {
            "colorbar": {
             "outlinewidth": 0,
             "ticks": ""
            },
            "colorscale": [
             [
              0,
              "#0d0887"
             ],
             [
              0.1111111111111111,
              "#46039f"
             ],
             [
              0.2222222222222222,
              "#7201a8"
             ],
             [
              0.3333333333333333,
              "#9c179e"
             ],
             [
              0.4444444444444444,
              "#bd3786"
             ],
             [
              0.5555555555555556,
              "#d8576b"
             ],
             [
              0.6666666666666666,
              "#ed7953"
             ],
             [
              0.7777777777777778,
              "#fb9f3a"
             ],
             [
              0.8888888888888888,
              "#fdca26"
             ],
             [
              1,
              "#f0f921"
             ]
            ],
            "type": "heatmap"
           }
          ],
          "heatmapgl": [
           {
            "colorbar": {
             "outlinewidth": 0,
             "ticks": ""
            },
            "colorscale": [
             [
              0,
              "#0d0887"
             ],
             [
              0.1111111111111111,
              "#46039f"
             ],
             [
              0.2222222222222222,
              "#7201a8"
             ],
             [
              0.3333333333333333,
              "#9c179e"
             ],
             [
              0.4444444444444444,
              "#bd3786"
             ],
             [
              0.5555555555555556,
              "#d8576b"
             ],
             [
              0.6666666666666666,
              "#ed7953"
             ],
             [
              0.7777777777777778,
              "#fb9f3a"
             ],
             [
              0.8888888888888888,
              "#fdca26"
             ],
             [
              1,
              "#f0f921"
             ]
            ],
            "type": "heatmapgl"
           }
          ],
          "histogram": [
           {
            "marker": {
             "pattern": {
              "fillmode": "overlay",
              "size": 10,
              "solidity": 0.2
             }
            },
            "type": "histogram"
           }
          ],
          "histogram2d": [
           {
            "colorbar": {
             "outlinewidth": 0,
             "ticks": ""
            },
            "colorscale": [
             [
              0,
              "#0d0887"
             ],
             [
              0.1111111111111111,
              "#46039f"
             ],
             [
              0.2222222222222222,
              "#7201a8"
             ],
             [
              0.3333333333333333,
              "#9c179e"
             ],
             [
              0.4444444444444444,
              "#bd3786"
             ],
             [
              0.5555555555555556,
              "#d8576b"
             ],
             [
              0.6666666666666666,
              "#ed7953"
             ],
             [
              0.7777777777777778,
              "#fb9f3a"
             ],
             [
              0.8888888888888888,
              "#fdca26"
             ],
             [
              1,
              "#f0f921"
             ]
            ],
            "type": "histogram2d"
           }
          ],
          "histogram2dcontour": [
           {
            "colorbar": {
             "outlinewidth": 0,
             "ticks": ""
            },
            "colorscale": [
             [
              0,
              "#0d0887"
             ],
             [
              0.1111111111111111,
              "#46039f"
             ],
             [
              0.2222222222222222,
              "#7201a8"
             ],
             [
              0.3333333333333333,
              "#9c179e"
             ],
             [
              0.4444444444444444,
              "#bd3786"
             ],
             [
              0.5555555555555556,
              "#d8576b"
             ],
             [
              0.6666666666666666,
              "#ed7953"
             ],
             [
              0.7777777777777778,
              "#fb9f3a"
             ],
             [
              0.8888888888888888,
              "#fdca26"
             ],
             [
              1,
              "#f0f921"
             ]
            ],
            "type": "histogram2dcontour"
           }
          ],
          "mesh3d": [
           {
            "colorbar": {
             "outlinewidth": 0,
             "ticks": ""
            },
            "type": "mesh3d"
           }
          ],
          "parcoords": [
           {
            "line": {
             "colorbar": {
              "outlinewidth": 0,
              "ticks": ""
             }
            },
            "type": "parcoords"
           }
          ],
          "pie": [
           {
            "automargin": true,
            "type": "pie"
           }
          ],
          "scatter": [
           {
            "fillpattern": {
             "fillmode": "overlay",
             "size": 10,
             "solidity": 0.2
            },
            "type": "scatter"
           }
          ],
          "scatter3d": [
           {
            "line": {
             "colorbar": {
              "outlinewidth": 0,
              "ticks": ""
             }
            },
            "marker": {
             "colorbar": {
              "outlinewidth": 0,
              "ticks": ""
             }
            },
            "type": "scatter3d"
           }
          ],
          "scattercarpet": [
           {
            "marker": {
             "colorbar": {
              "outlinewidth": 0,
              "ticks": ""
             }
            },
            "type": "scattercarpet"
           }
          ],
          "scattergeo": [
           {
            "marker": {
             "colorbar": {
              "outlinewidth": 0,
              "ticks": ""
             }
            },
            "type": "scattergeo"
           }
          ],
          "scattergl": [
           {
            "marker": {
             "colorbar": {
              "outlinewidth": 0,
              "ticks": ""
             }
            },
            "type": "scattergl"
           }
          ],
          "scattermapbox": [
           {
            "marker": {
             "colorbar": {
              "outlinewidth": 0,
              "ticks": ""
             }
            },
            "type": "scattermapbox"
           }
          ],
          "scatterpolar": [
           {
            "marker": {
             "colorbar": {
              "outlinewidth": 0,
              "ticks": ""
             }
            },
            "type": "scatterpolar"
           }
          ],
          "scatterpolargl": [
           {
            "marker": {
             "colorbar": {
              "outlinewidth": 0,
              "ticks": ""
             }
            },
            "type": "scatterpolargl"
           }
          ],
          "scatterternary": [
           {
            "marker": {
             "colorbar": {
              "outlinewidth": 0,
              "ticks": ""
             }
            },
            "type": "scatterternary"
           }
          ],
          "surface": [
           {
            "colorbar": {
             "outlinewidth": 0,
             "ticks": ""
            },
            "colorscale": [
             [
              0,
              "#0d0887"
             ],
             [
              0.1111111111111111,
              "#46039f"
             ],
             [
              0.2222222222222222,
              "#7201a8"
             ],
             [
              0.3333333333333333,
              "#9c179e"
             ],
             [
              0.4444444444444444,
              "#bd3786"
             ],
             [
              0.5555555555555556,
              "#d8576b"
             ],
             [
              0.6666666666666666,
              "#ed7953"
             ],
             [
              0.7777777777777778,
              "#fb9f3a"
             ],
             [
              0.8888888888888888,
              "#fdca26"
             ],
             [
              1,
              "#f0f921"
             ]
            ],
            "type": "surface"
           }
          ],
          "table": [
           {
            "cells": {
             "fill": {
              "color": "#EBF0F8"
             },
             "line": {
              "color": "white"
             }
            },
            "header": {
             "fill": {
              "color": "#C8D4E3"
             },
             "line": {
              "color": "white"
             }
            },
            "type": "table"
           }
          ]
         },
         "layout": {
          "annotationdefaults": {
           "arrowcolor": "#2a3f5f",
           "arrowhead": 0,
           "arrowwidth": 1
          },
          "autotypenumbers": "strict",
          "coloraxis": {
           "colorbar": {
            "outlinewidth": 0,
            "ticks": ""
           }
          },
          "colorscale": {
           "diverging": [
            [
             0,
             "#8e0152"
            ],
            [
             0.1,
             "#c51b7d"
            ],
            [
             0.2,
             "#de77ae"
            ],
            [
             0.3,
             "#f1b6da"
            ],
            [
             0.4,
             "#fde0ef"
            ],
            [
             0.5,
             "#f7f7f7"
            ],
            [
             0.6,
             "#e6f5d0"
            ],
            [
             0.7,
             "#b8e186"
            ],
            [
             0.8,
             "#7fbc41"
            ],
            [
             0.9,
             "#4d9221"
            ],
            [
             1,
             "#276419"
            ]
           ],
           "sequential": [
            [
             0,
             "#0d0887"
            ],
            [
             0.1111111111111111,
             "#46039f"
            ],
            [
             0.2222222222222222,
             "#7201a8"
            ],
            [
             0.3333333333333333,
             "#9c179e"
            ],
            [
             0.4444444444444444,
             "#bd3786"
            ],
            [
             0.5555555555555556,
             "#d8576b"
            ],
            [
             0.6666666666666666,
             "#ed7953"
            ],
            [
             0.7777777777777778,
             "#fb9f3a"
            ],
            [
             0.8888888888888888,
             "#fdca26"
            ],
            [
             1,
             "#f0f921"
            ]
           ],
           "sequentialminus": [
            [
             0,
             "#0d0887"
            ],
            [
             0.1111111111111111,
             "#46039f"
            ],
            [
             0.2222222222222222,
             "#7201a8"
            ],
            [
             0.3333333333333333,
             "#9c179e"
            ],
            [
             0.4444444444444444,
             "#bd3786"
            ],
            [
             0.5555555555555556,
             "#d8576b"
            ],
            [
             0.6666666666666666,
             "#ed7953"
            ],
            [
             0.7777777777777778,
             "#fb9f3a"
            ],
            [
             0.8888888888888888,
             "#fdca26"
            ],
            [
             1,
             "#f0f921"
            ]
           ]
          },
          "colorway": [
           "#636efa",
           "#EF553B",
           "#00cc96",
           "#ab63fa",
           "#FFA15A",
           "#19d3f3",
           "#FF6692",
           "#B6E880",
           "#FF97FF",
           "#FECB52"
          ],
          "font": {
           "color": "#2a3f5f"
          },
          "geo": {
           "bgcolor": "white",
           "lakecolor": "white",
           "landcolor": "#E5ECF6",
           "showlakes": true,
           "showland": true,
           "subunitcolor": "white"
          },
          "hoverlabel": {
           "align": "left"
          },
          "hovermode": "closest",
          "mapbox": {
           "style": "light"
          },
          "paper_bgcolor": "white",
          "plot_bgcolor": "#E5ECF6",
          "polar": {
           "angularaxis": {
            "gridcolor": "white",
            "linecolor": "white",
            "ticks": ""
           },
           "bgcolor": "#E5ECF6",
           "radialaxis": {
            "gridcolor": "white",
            "linecolor": "white",
            "ticks": ""
           }
          },
          "scene": {
           "xaxis": {
            "backgroundcolor": "#E5ECF6",
            "gridcolor": "white",
            "gridwidth": 2,
            "linecolor": "white",
            "showbackground": true,
            "ticks": "",
            "zerolinecolor": "white"
           },
           "yaxis": {
            "backgroundcolor": "#E5ECF6",
            "gridcolor": "white",
            "gridwidth": 2,
            "linecolor": "white",
            "showbackground": true,
            "ticks": "",
            "zerolinecolor": "white"
           },
           "zaxis": {
            "backgroundcolor": "#E5ECF6",
            "gridcolor": "white",
            "gridwidth": 2,
            "linecolor": "white",
            "showbackground": true,
            "ticks": "",
            "zerolinecolor": "white"
           }
          },
          "shapedefaults": {
           "line": {
            "color": "#2a3f5f"
           }
          },
          "ternary": {
           "aaxis": {
            "gridcolor": "white",
            "linecolor": "white",
            "ticks": ""
           },
           "baxis": {
            "gridcolor": "white",
            "linecolor": "white",
            "ticks": ""
           },
           "bgcolor": "#E5ECF6",
           "caxis": {
            "gridcolor": "white",
            "linecolor": "white",
            "ticks": ""
           }
          },
          "title": {
           "x": 0.05
          },
          "xaxis": {
           "automargin": true,
           "gridcolor": "white",
           "linecolor": "white",
           "ticks": "",
           "title": {
            "standoff": 15
           },
           "zerolinecolor": "white",
           "zerolinewidth": 2
          },
          "yaxis": {
           "automargin": true,
           "gridcolor": "white",
           "linecolor": "white",
           "ticks": "",
           "title": {
            "standoff": 15
           },
           "zerolinecolor": "white",
           "zerolinewidth": 2
          }
         }
        },
        "title": {
         "text": "Mere-exposure effect tussen de twee halve finales uit Eurovision"
        },
        "xaxis": {
         "anchor": "y",
         "domain": [
          0,
          0.49
         ]
        },
        "xaxis2": {
         "anchor": "y2",
         "domain": [
          0.51,
          1
         ],
         "matches": "x"
        },
        "yaxis": {
         "anchor": "x",
         "domain": [
          0,
          1
         ],
         "title": {
          "text": "Percentages"
         }
        },
        "yaxis2": {
         "anchor": "x2",
         "domain": [
          0,
          1
         ],
         "matches": "y",
         "showticklabels": false
        }
       }
      }
     },
     "metadata": {},
     "output_type": "display_data"
    }
   ],
   "source": [
    "details = {'Year': [], 'Punten gegeven <br>door landen uit': [], 'to': [], 'Percentages':[]}\n",
    "\n",
    "for i in range(1975, 2020):\n",
    "    candidates_sf1 = eurovision_points_df[(eurovision_points_df['Year'] == i) & (eurovision_points_df['(semi-) final'] == 'sf1')]['From country']\n",
    "    sf1 = list(set(candidates_sf1))\n",
    "\n",
    "    candidates_sf2 = eurovision_points_df[(eurovision_points_df['Year'] == i) & (eurovision_points_df['(semi-) final'] == 'sf2')]['From country']\n",
    "    sf2 = list(set(candidates_sf2))\n",
    "\n",
    "    sf1_to_sf1 = eurovision_points_df[(eurovision_points_df['From country'].isin(sf1)) & (eurovision_points_df['To country'].isin(sf1)) & (eurovision_points_df['Year'] == i) & (eurovision_points_df['(semi-) final'] == 'f')]['Points']\n",
    "    s11 = sf1_to_sf1.sum()\n",
    "\n",
    "    sf1_to_sf2 = eurovision_points_df[(eurovision_points_df['From country'].isin(sf1)) & (eurovision_points_df['To country'].isin(sf2)) & (eurovision_points_df['Year'] == i) & (eurovision_points_df['(semi-) final'] == 'f')]['Points']\n",
    "    s12 = sf1_to_sf2.sum()\n",
    "\n",
    "    sf2_to_sf2 = eurovision_points_df[(eurovision_points_df['From country'].isin(sf2)) & (eurovision_points_df['To country'].isin(sf2)) & (eurovision_points_df['Year'] == i) & (eurovision_points_df['(semi-) final'] == 'f')]['Points']\n",
    "    s22 = sf2_to_sf2.sum()\n",
    "\n",
    "    sf2_to_sf1 = eurovision_points_df[(eurovision_points_df['From country'].isin(sf2)) & (eurovision_points_df['To country'].isin(sf1)) & (eurovision_points_df['Year'] == i) & (eurovision_points_df['(semi-) final'] == 'f')]['Points']\n",
    "    s21 = sf2_to_sf1.sum()\n",
    "    if (sum([s11,s12,s21,s22])) != 0:\n",
    "        all_points = sum([s11,s12,s21,s22])\n",
    "        percentages = [s11/all_points*100, s12/all_points*100, s21/all_points*100, s22/all_points*100]\n",
    "\n",
    "        details['Year'] += [i, i, i, i]\n",
    "        details['Punten gegeven <br>door landen uit'] += ['T', 'T', 'F', 'F']\n",
    "        details['to'] += ['T', 'F', 'T', 'F']\n",
    "        details['Percentages'] += percentages\n",
    "\n",
    " \n",
    "# creating a Dataframe object\n",
    "df = pd.DataFrame(details)\n",
    "\n",
    "mere_exp_fig = px.box(df, y='Percentages', \n",
    "             color='Punten gegeven <br>door landen uit', \n",
    "             facet_col='to', \n",
    "             facet_col_wrap=2, \n",
    "             title = 'Mere-exposure effect tussen de twee halve finales uit Eurovision')\n",
    "\n",
    "# Update the layout with new subplot titles\n",
    "mere_exp_fig.update_traces(\n",
    "    legendgroup='Punten gegeven door',\n",
    "    name='halve finale 1',\n",
    "    selector=dict(name='T'),\n",
    "    marker=dict(color=color_blind_green)\n",
    ")\n",
    "\n",
    "mere_exp_fig.update_traces(\n",
    "    legendgroup='Punten gegeven door',\n",
    "    name='halve finale 2',\n",
    "    selector=dict(name='F'),\n",
    "    marker=dict(color=color_blind_red)\n",
    ")\n",
    "mere_exp_fig.update_layout(\n",
    "    annotations=[\n",
    "        dict(\n",
    "            x=0.18,\n",
    "            y=1.02,\n",
    "            xref='paper',\n",
    "            yref='paper',\n",
    "            text='Punten voor kandidaten uit de 1e halve finale',\n",
    "            showarrow=False,\n",
    "            font=dict(size=14)\n",
    "        ),\n",
    "        dict(\n",
    "            x=0.68,\n",
    "            y=1.02,\n",
    "            xref='paper',\n",
    "            yref='paper',\n",
    "            text='<br>Punten voor kandidaten uit de 2e halve finale',\n",
    "            showarrow=False,\n",
    "            font=dict(size=14)\n",
    "        )\n",
    "    ]\n",
    ")\n",
    "\n",
    "mere_exp_fig.show()"
   ]
  },
  {
   "attachments": {},
   "cell_type": "markdown",
   "metadata": {},
   "source": [
    "Figuur 6: Boxplot die aantoont hoe de punten procentueel worden onderverdeeld van en naar landen uit de twee halve finales. De mediaan van de totale hoeveelheid punten die landen uit dezelfde halve finale aan elkaar hebben gegeven ligt zichtbaar hoger, wat betekent dat landen vaker stemmen op liedjes uit hun eigen halve finale."
   ]
  },
  {
   "attachments": {},
   "cell_type": "markdown",
   "metadata": {},
   "source": [
    "Figuur 6 toont aan dat landen die aan dezelfde halve finale hebben deelgenomen elkaar meer punten geven. Dit kan onder andere komen door het exposure-effect, een psychologisch fenomeen dat stelt dat mensen een voorkeur ontwikkelen voor dingen die herkenbaarder zijn (Verrier, 2012). De kans is groot dat landen alleen naar hun eigen halve finale kijken (in plaats van allebei) en dus eerder geneigd zijn te stemmen op landen die ze vaker hebben gehoord. Dit blijkt ook uit figuur 6. Deze correlatie toont aan dat bij het stemmen factoren meespelen die noch op de muziek, noch op de cultuur betrekking hebben."
   ]
  },
  {
   "cell_type": "code",
   "execution_count": 9,
   "metadata": {
    "tags": [
     "hide-input"
    ]
   },
   "outputs": [
    {
     "data": {
      "application/vnd.plotly.v1+json": {
       "config": {
        "plotlyServerURL": "https://plot.ly"
       },
       "data": [
        {
         "line": {
          "color": "grey",
          "dash": "dot"
         },
         "marker": {
          "cmax": 9.524590163934427,
          "cmin": 13.413793103448276,
          "color": [
           10.6875,
           13.375,
           12,
           12,
           11.6875,
           11.11111111111111,
           10.8125,
           10.5625,
           10.301587301587302,
           10.328125,
           9.790322580645162,
           9.524590163934427,
           11.466666666666667,
           11.05084745762712,
           11.758620689655173,
           13.413793103448276,
           9.867924528301886,
           10.673469387755102,
           11.285714285714286,
           10.432432432432432,
           12.090909090909092,
           10.40625,
           10.642857142857142,
           10.73913043478261,
           11.235294117647058
          ],
          "colorbar": {
           "title": {
            "text": "Eindplaats in de finale"
           }
          },
          "colorscale": [
           [
            0,
            "rgb(217,30,30)"
           ],
           [
            0.25,
            "rgb(242,143,56)"
           ],
           [
            0.5,
            "rgb(242,211,56)"
           ],
           [
            0.75,
            "rgb(10,136,186)"
           ],
           [
            1,
            "rgb(12,51,131)"
           ]
          ],
          "size": 15
         },
         "mode": "lines+markers",
         "type": "scatter",
         "x": [
          1,
          2,
          3,
          4,
          5,
          6,
          7,
          8,
          9,
          10,
          11,
          12,
          13,
          14,
          15,
          16,
          17,
          18,
          19,
          20,
          21,
          22,
          23,
          24,
          25
         ],
         "y": [
          10.6875,
          13.375,
          12,
          12,
          11.6875,
          11.11111111111111,
          10.8125,
          10.5625,
          10.301587301587302,
          10.328125,
          9.790322580645162,
          9.524590163934427,
          11.466666666666667,
          11.05084745762712,
          11.758620689655173,
          13.413793103448276,
          9.867924528301886,
          10.673469387755102,
          11.285714285714286,
          10.432432432432432,
          12.090909090909092,
          10.40625,
          10.642857142857142,
          10.73913043478261,
          11.235294117647058
         ]
        }
       ],
       "layout": {
        "template": {
         "data": {
          "bar": [
           {
            "error_x": {
             "color": "#2a3f5f"
            },
            "error_y": {
             "color": "#2a3f5f"
            },
            "marker": {
             "line": {
              "color": "#E5ECF6",
              "width": 0.5
             },
             "pattern": {
              "fillmode": "overlay",
              "size": 10,
              "solidity": 0.2
             }
            },
            "type": "bar"
           }
          ],
          "barpolar": [
           {
            "marker": {
             "line": {
              "color": "#E5ECF6",
              "width": 0.5
             },
             "pattern": {
              "fillmode": "overlay",
              "size": 10,
              "solidity": 0.2
             }
            },
            "type": "barpolar"
           }
          ],
          "carpet": [
           {
            "aaxis": {
             "endlinecolor": "#2a3f5f",
             "gridcolor": "white",
             "linecolor": "white",
             "minorgridcolor": "white",
             "startlinecolor": "#2a3f5f"
            },
            "baxis": {
             "endlinecolor": "#2a3f5f",
             "gridcolor": "white",
             "linecolor": "white",
             "minorgridcolor": "white",
             "startlinecolor": "#2a3f5f"
            },
            "type": "carpet"
           }
          ],
          "choropleth": [
           {
            "colorbar": {
             "outlinewidth": 0,
             "ticks": ""
            },
            "type": "choropleth"
           }
          ],
          "contour": [
           {
            "colorbar": {
             "outlinewidth": 0,
             "ticks": ""
            },
            "colorscale": [
             [
              0,
              "#0d0887"
             ],
             [
              0.1111111111111111,
              "#46039f"
             ],
             [
              0.2222222222222222,
              "#7201a8"
             ],
             [
              0.3333333333333333,
              "#9c179e"
             ],
             [
              0.4444444444444444,
              "#bd3786"
             ],
             [
              0.5555555555555556,
              "#d8576b"
             ],
             [
              0.6666666666666666,
              "#ed7953"
             ],
             [
              0.7777777777777778,
              "#fb9f3a"
             ],
             [
              0.8888888888888888,
              "#fdca26"
             ],
             [
              1,
              "#f0f921"
             ]
            ],
            "type": "contour"
           }
          ],
          "contourcarpet": [
           {
            "colorbar": {
             "outlinewidth": 0,
             "ticks": ""
            },
            "type": "contourcarpet"
           }
          ],
          "heatmap": [
           {
            "colorbar": {
             "outlinewidth": 0,
             "ticks": ""
            },
            "colorscale": [
             [
              0,
              "#0d0887"
             ],
             [
              0.1111111111111111,
              "#46039f"
             ],
             [
              0.2222222222222222,
              "#7201a8"
             ],
             [
              0.3333333333333333,
              "#9c179e"
             ],
             [
              0.4444444444444444,
              "#bd3786"
             ],
             [
              0.5555555555555556,
              "#d8576b"
             ],
             [
              0.6666666666666666,
              "#ed7953"
             ],
             [
              0.7777777777777778,
              "#fb9f3a"
             ],
             [
              0.8888888888888888,
              "#fdca26"
             ],
             [
              1,
              "#f0f921"
             ]
            ],
            "type": "heatmap"
           }
          ],
          "heatmapgl": [
           {
            "colorbar": {
             "outlinewidth": 0,
             "ticks": ""
            },
            "colorscale": [
             [
              0,
              "#0d0887"
             ],
             [
              0.1111111111111111,
              "#46039f"
             ],
             [
              0.2222222222222222,
              "#7201a8"
             ],
             [
              0.3333333333333333,
              "#9c179e"
             ],
             [
              0.4444444444444444,
              "#bd3786"
             ],
             [
              0.5555555555555556,
              "#d8576b"
             ],
             [
              0.6666666666666666,
              "#ed7953"
             ],
             [
              0.7777777777777778,
              "#fb9f3a"
             ],
             [
              0.8888888888888888,
              "#fdca26"
             ],
             [
              1,
              "#f0f921"
             ]
            ],
            "type": "heatmapgl"
           }
          ],
          "histogram": [
           {
            "marker": {
             "pattern": {
              "fillmode": "overlay",
              "size": 10,
              "solidity": 0.2
             }
            },
            "type": "histogram"
           }
          ],
          "histogram2d": [
           {
            "colorbar": {
             "outlinewidth": 0,
             "ticks": ""
            },
            "colorscale": [
             [
              0,
              "#0d0887"
             ],
             [
              0.1111111111111111,
              "#46039f"
             ],
             [
              0.2222222222222222,
              "#7201a8"
             ],
             [
              0.3333333333333333,
              "#9c179e"
             ],
             [
              0.4444444444444444,
              "#bd3786"
             ],
             [
              0.5555555555555556,
              "#d8576b"
             ],
             [
              0.6666666666666666,
              "#ed7953"
             ],
             [
              0.7777777777777778,
              "#fb9f3a"
             ],
             [
              0.8888888888888888,
              "#fdca26"
             ],
             [
              1,
              "#f0f921"
             ]
            ],
            "type": "histogram2d"
           }
          ],
          "histogram2dcontour": [
           {
            "colorbar": {
             "outlinewidth": 0,
             "ticks": ""
            },
            "colorscale": [
             [
              0,
              "#0d0887"
             ],
             [
              0.1111111111111111,
              "#46039f"
             ],
             [
              0.2222222222222222,
              "#7201a8"
             ],
             [
              0.3333333333333333,
              "#9c179e"
             ],
             [
              0.4444444444444444,
              "#bd3786"
             ],
             [
              0.5555555555555556,
              "#d8576b"
             ],
             [
              0.6666666666666666,
              "#ed7953"
             ],
             [
              0.7777777777777778,
              "#fb9f3a"
             ],
             [
              0.8888888888888888,
              "#fdca26"
             ],
             [
              1,
              "#f0f921"
             ]
            ],
            "type": "histogram2dcontour"
           }
          ],
          "mesh3d": [
           {
            "colorbar": {
             "outlinewidth": 0,
             "ticks": ""
            },
            "type": "mesh3d"
           }
          ],
          "parcoords": [
           {
            "line": {
             "colorbar": {
              "outlinewidth": 0,
              "ticks": ""
             }
            },
            "type": "parcoords"
           }
          ],
          "pie": [
           {
            "automargin": true,
            "type": "pie"
           }
          ],
          "scatter": [
           {
            "fillpattern": {
             "fillmode": "overlay",
             "size": 10,
             "solidity": 0.2
            },
            "type": "scatter"
           }
          ],
          "scatter3d": [
           {
            "line": {
             "colorbar": {
              "outlinewidth": 0,
              "ticks": ""
             }
            },
            "marker": {
             "colorbar": {
              "outlinewidth": 0,
              "ticks": ""
             }
            },
            "type": "scatter3d"
           }
          ],
          "scattercarpet": [
           {
            "marker": {
             "colorbar": {
              "outlinewidth": 0,
              "ticks": ""
             }
            },
            "type": "scattercarpet"
           }
          ],
          "scattergeo": [
           {
            "marker": {
             "colorbar": {
              "outlinewidth": 0,
              "ticks": ""
             }
            },
            "type": "scattergeo"
           }
          ],
          "scattergl": [
           {
            "marker": {
             "colorbar": {
              "outlinewidth": 0,
              "ticks": ""
             }
            },
            "type": "scattergl"
           }
          ],
          "scattermapbox": [
           {
            "marker": {
             "colorbar": {
              "outlinewidth": 0,
              "ticks": ""
             }
            },
            "type": "scattermapbox"
           }
          ],
          "scatterpolar": [
           {
            "marker": {
             "colorbar": {
              "outlinewidth": 0,
              "ticks": ""
             }
            },
            "type": "scatterpolar"
           }
          ],
          "scatterpolargl": [
           {
            "marker": {
             "colorbar": {
              "outlinewidth": 0,
              "ticks": ""
             }
            },
            "type": "scatterpolargl"
           }
          ],
          "scatterternary": [
           {
            "marker": {
             "colorbar": {
              "outlinewidth": 0,
              "ticks": ""
             }
            },
            "type": "scatterternary"
           }
          ],
          "surface": [
           {
            "colorbar": {
             "outlinewidth": 0,
             "ticks": ""
            },
            "colorscale": [
             [
              0,
              "#0d0887"
             ],
             [
              0.1111111111111111,
              "#46039f"
             ],
             [
              0.2222222222222222,
              "#7201a8"
             ],
             [
              0.3333333333333333,
              "#9c179e"
             ],
             [
              0.4444444444444444,
              "#bd3786"
             ],
             [
              0.5555555555555556,
              "#d8576b"
             ],
             [
              0.6666666666666666,
              "#ed7953"
             ],
             [
              0.7777777777777778,
              "#fb9f3a"
             ],
             [
              0.8888888888888888,
              "#fdca26"
             ],
             [
              1,
              "#f0f921"
             ]
            ],
            "type": "surface"
           }
          ],
          "table": [
           {
            "cells": {
             "fill": {
              "color": "#EBF0F8"
             },
             "line": {
              "color": "white"
             }
            },
            "header": {
             "fill": {
              "color": "#C8D4E3"
             },
             "line": {
              "color": "white"
             }
            },
            "type": "table"
           }
          ]
         },
         "layout": {
          "annotationdefaults": {
           "arrowcolor": "#2a3f5f",
           "arrowhead": 0,
           "arrowwidth": 1
          },
          "autotypenumbers": "strict",
          "coloraxis": {
           "colorbar": {
            "outlinewidth": 0,
            "ticks": ""
           }
          },
          "colorscale": {
           "diverging": [
            [
             0,
             "#8e0152"
            ],
            [
             0.1,
             "#c51b7d"
            ],
            [
             0.2,
             "#de77ae"
            ],
            [
             0.3,
             "#f1b6da"
            ],
            [
             0.4,
             "#fde0ef"
            ],
            [
             0.5,
             "#f7f7f7"
            ],
            [
             0.6,
             "#e6f5d0"
            ],
            [
             0.7,
             "#b8e186"
            ],
            [
             0.8,
             "#7fbc41"
            ],
            [
             0.9,
             "#4d9221"
            ],
            [
             1,
             "#276419"
            ]
           ],
           "sequential": [
            [
             0,
             "#0d0887"
            ],
            [
             0.1111111111111111,
             "#46039f"
            ],
            [
             0.2222222222222222,
             "#7201a8"
            ],
            [
             0.3333333333333333,
             "#9c179e"
            ],
            [
             0.4444444444444444,
             "#bd3786"
            ],
            [
             0.5555555555555556,
             "#d8576b"
            ],
            [
             0.6666666666666666,
             "#ed7953"
            ],
            [
             0.7777777777777778,
             "#fb9f3a"
            ],
            [
             0.8888888888888888,
             "#fdca26"
            ],
            [
             1,
             "#f0f921"
            ]
           ],
           "sequentialminus": [
            [
             0,
             "#0d0887"
            ],
            [
             0.1111111111111111,
             "#46039f"
            ],
            [
             0.2222222222222222,
             "#7201a8"
            ],
            [
             0.3333333333333333,
             "#9c179e"
            ],
            [
             0.4444444444444444,
             "#bd3786"
            ],
            [
             0.5555555555555556,
             "#d8576b"
            ],
            [
             0.6666666666666666,
             "#ed7953"
            ],
            [
             0.7777777777777778,
             "#fb9f3a"
            ],
            [
             0.8888888888888888,
             "#fdca26"
            ],
            [
             1,
             "#f0f921"
            ]
           ]
          },
          "colorway": [
           "#636efa",
           "#EF553B",
           "#00cc96",
           "#ab63fa",
           "#FFA15A",
           "#19d3f3",
           "#FF6692",
           "#B6E880",
           "#FF97FF",
           "#FECB52"
          ],
          "font": {
           "color": "#2a3f5f"
          },
          "geo": {
           "bgcolor": "white",
           "lakecolor": "white",
           "landcolor": "#E5ECF6",
           "showlakes": true,
           "showland": true,
           "subunitcolor": "white"
          },
          "hoverlabel": {
           "align": "left"
          },
          "hovermode": "closest",
          "mapbox": {
           "style": "light"
          },
          "paper_bgcolor": "white",
          "plot_bgcolor": "#E5ECF6",
          "polar": {
           "angularaxis": {
            "gridcolor": "white",
            "linecolor": "white",
            "ticks": ""
           },
           "bgcolor": "#E5ECF6",
           "radialaxis": {
            "gridcolor": "white",
            "linecolor": "white",
            "ticks": ""
           }
          },
          "scene": {
           "xaxis": {
            "backgroundcolor": "#E5ECF6",
            "gridcolor": "white",
            "gridwidth": 2,
            "linecolor": "white",
            "showbackground": true,
            "ticks": "",
            "zerolinecolor": "white"
           },
           "yaxis": {
            "backgroundcolor": "#E5ECF6",
            "gridcolor": "white",
            "gridwidth": 2,
            "linecolor": "white",
            "showbackground": true,
            "ticks": "",
            "zerolinecolor": "white"
           },
           "zaxis": {
            "backgroundcolor": "#E5ECF6",
            "gridcolor": "white",
            "gridwidth": 2,
            "linecolor": "white",
            "showbackground": true,
            "ticks": "",
            "zerolinecolor": "white"
           }
          },
          "shapedefaults": {
           "line": {
            "color": "#2a3f5f"
           }
          },
          "ternary": {
           "aaxis": {
            "gridcolor": "white",
            "linecolor": "white",
            "ticks": ""
           },
           "baxis": {
            "gridcolor": "white",
            "linecolor": "white",
            "ticks": ""
           },
           "bgcolor": "#E5ECF6",
           "caxis": {
            "gridcolor": "white",
            "linecolor": "white",
            "ticks": ""
           }
          },
          "title": {
           "x": 0.05
          },
          "xaxis": {
           "automargin": true,
           "gridcolor": "white",
           "linecolor": "white",
           "ticks": "",
           "title": {
            "standoff": 15
           },
           "zerolinecolor": "white",
           "zerolinewidth": 2
          },
          "yaxis": {
           "automargin": true,
           "gridcolor": "white",
           "linecolor": "white",
           "ticks": "",
           "title": {
            "standoff": 15
           },
           "zerolinecolor": "white",
           "zerolinewidth": 2
          }
         }
        },
        "title": {
         "text": "Gemiddeld eindplaats van de afspeelplaatsen in de finale"
        },
        "xaxis": {
         "title": {
          "text": "Afspeelplaats"
         }
        },
        "yaxis": {
         "autorange": "reversed",
         "title": {
          "text": "Gemiddelde eindplaats"
         }
        }
       }
      }
     },
     "metadata": {},
     "output_type": "display_data"
    }
   ],
   "source": [
    "# Eigenschappen van de marker\n",
    "marker = dict(\n",
    "        color = running_place_points_df.values,\n",
    "        colorscale = 'Portland_r',\n",
    "        cmin = running_place_points_df.max(),\n",
    "        cmax = running_place_points_df.min(),\n",
    "        colorbar = dict(title='Eindplaats in de finale'),\n",
    "        size = 15\n",
    "    )\n",
    "\n",
    "# Eigenschappen van de lijn\n",
    "line = dict(\n",
    "    color = 'grey',\n",
    "    dash = 'dot'\n",
    "   \n",
    ")\n",
    "\n",
    "# Maak een scattter plot van het gemiddeld aantal punten per afspeelplaats\n",
    "afspeelplaats = go.Figure(data=go.Scatter(\n",
    "    x = running_place_points_df.index,\n",
    "    y = running_place_points_df.values,\n",
    "    mode = 'lines + markers',\n",
    "    marker = marker,\n",
    "    line = line\n",
    "))\n",
    "\n",
    "# Plot het figuur met titel en labels\n",
    "afspeelplaats.update_layout(title = 'Gemiddelde eindplaats van de afspeelplaatsen in de finale', \n",
    "                  xaxis_title='Afspeelplaats', \n",
    "                  yaxis_title='Gemiddelde eindplaats',\n",
    "                  yaxis=dict(autorange='reversed'))\n",
    "\n",
    "afspeelplaats.show()"
   ]
  },
  {
   "attachments": {},
   "cell_type": "markdown",
   "metadata": {},
   "source": [
    "Figuur 7: Lijngrafiek die aantoont waar de zangers gemiddeld eindigen per afspeelplaats in de finale. In de grafiek is er een opvallende dip bij de act en de acts na de pauze. "
   ]
  },
  {
   "attachments": {},
   "cell_type": "markdown",
   "metadata": {},
   "source": [
    "Figuur 7 laat zien dat er grote verschillen zijn tussen de posities waarin nummers gemiddeld eindigen, afhankelijk van hun plek in het programma. Opvallend is dat nummers na de eerste twee posities steeds beter presteren. In het midden van het programma scoren landen opeens een stuk minder goed, maar dat herstelt zich snel. Richting het einde van het programma verslechtert de gemiddelde positie weer. \n",
    "\n",
    "Een mogelijke verklaring voor de stijging in de eerste helft is dat latere optredens beter worden onthouden, en die dus meer stemmen krijgen. De slechte resultaten in het midden kunnen komen doordat er meestal een pauze is tussen de twaalfde en de dertiende act en mensen later pas weer aansluiten om te kijken. De daling aan het einde kan komen door een afnemende interesse in het programma. De beste tijden om op te treden zijn in ieder geval vlak voor de pauze of een paar optredens na de pauze.\n"
   ]
  },
  {
   "attachments": {},
   "cell_type": "markdown",
   "metadata": {},
   "source": [
    "# Conclusie\n",
    "Welk land de meeste kans heeft om het Eurovisie Songfestival te winnen, is dus afhankelijk van veel meer dan alleen de ingediende nummers. Aan de ene kant hebben de vaste factoren taal en naburigheid invloed. Landen kunnen aan deze factoren niets veranderen, maar deze wellicht wel benutten door erop in te spelen. Het kan bijvoorbeeld helpen om een nummer in de meest gesproken officiële taal van het land te schrijven, of in verschillende talen. Aan de andere kant spelen er factoren mee die elk jaar weer kunnen veranderen, zoals indeling van de semifinals, de programmering en de gender en seksualiteit van de artiesten. Landen hebben geen invloed op de programmering of de indeling van de semifinals en kunnen die factoren dus niet optimaliseren. Wel kunnen ze queer artiesten sturen, omdat die een grotere winkans hebben. "
   ]
  }
 ],
 "metadata": {
  "celltoolbar": "Tags",
  "kernelspec": {
   "display_name": "Python 3 (ipykernel)",
   "language": "python",
   "name": "python3"
  },
  "language_info": {
   "codemirror_mode": {
    "name": "ipython",
    "version": 3
   },
   "file_extension": ".py",
   "mimetype": "text/x-python",
   "name": "python",
   "nbconvert_exporter": "python",
   "pygments_lexer": "ipython3",
   "version": "3.10.6"
  }
 },
 "nbformat": 4,
 "nbformat_minor": 2
}
