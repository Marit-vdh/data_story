{
 "cells": [
  {
   "attachments": {},
   "cell_type": "markdown",
   "metadata": {},
   "source": [
    "# Referenties\n",
    "\n",
    "Bligh, D. A. (1985). What’s the use of lectures? Journal of Geography in Higher Education, 9(1), 105–106. https://doi.org/10.1080/03098268508708932\n",
    "\n",
    "Mayer, T. & Zignago, S. (2011), Notes on CEPII’s distances measures : the GeoDist Database, CEPII Working Paper 2011-2 http://www.cepii.fr/CEPII/en/bdd_modele/bdd_modele_item.asp?id=6 \n",
    "\n",
    "\n",
    "Spijkervet. (2020). Contestants [Dataset]. In Eurovision. https://github.com/Spijkervet/eurovision-dataset/releases\n",
    "\n",
    "Spijkervet. (2020). Votes [Dataset]. In Eurovision. https://github.com/Spijkervet/eurovision-dataset/releases\n"
   ]
  }
 ],
 "metadata": {
  "language_info": {
   "name": "python"
  },
  "orig_nbformat": 4
 },
 "nbformat": 4,
 "nbformat_minor": 2
}
