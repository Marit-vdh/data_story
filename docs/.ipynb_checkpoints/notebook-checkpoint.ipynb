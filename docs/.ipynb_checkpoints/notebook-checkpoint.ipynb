{
 "cells": [
  {
   "cell_type": "markdown",
   "metadata": {},
   "source": [
    "## Stemmen voor alles behalve de stem\n",
    "### Een visuele analyse van het stemgedrag bij het Eurovisie Songfestival\n",
    "\n",
    "Ieder jaar, zo halverwege mei, verbindt het Eurovisie Songfestival de muziekliefhebbers over heel Europa. Het festival werd voor het eerst gehouden in 1956 met slechts zeven landen. Vandaag de dag doen er rond de veertig landen mee. Ieder land treedt op met een zelfgeschreven nummer, waarna er via stemming van een jury en televoting een winnaar wordt bepaald. Ieder land reikt punten uit waarbij 50 procent via televoting en 50 procent via een jury bepaald worden. Tot 2016 gaf een land 1 tot en met 8, 10 en 12 punten aan andere landen. Vanaf 2016 werden dit twee sets, één namens de jury en één namens televoting. Onderstaand figuur geeft de punten weer die de landen gehaald hebben over de jaren "
   ]
  },
  {
   "cell_type": "code",
   "execution_count": 1,
   "metadata": {
    "tags": [
     "hide-input"
    ]
   },
   "outputs": [
    {
     "ename": "ModuleNotFoundError",
     "evalue": "No module named 'plotly'",
     "output_type": "error",
     "traceback": [
      "\u001b[0;31m---------------------------------------------------------------------------\u001b[0m",
      "\u001b[0;31mModuleNotFoundError\u001b[0m                       Traceback (most recent call last)",
      "Cell \u001b[0;32mIn[1], line 2\u001b[0m\n\u001b[1;32m      1\u001b[0m \u001b[38;5;28;01mimport\u001b[39;00m \u001b[38;5;21;01mpandas\u001b[39;00m \u001b[38;5;28;01mas\u001b[39;00m \u001b[38;5;21;01mpd\u001b[39;00m\n\u001b[0;32m----> 2\u001b[0m \u001b[38;5;28;01mimport\u001b[39;00m \u001b[38;5;21;01mplotly\u001b[39;00m\u001b[38;5;21;01m.\u001b[39;00m\u001b[38;5;21;01mexpress\u001b[39;00m \u001b[38;5;28;01mas\u001b[39;00m \u001b[38;5;21;01mpx\u001b[39;00m\n\u001b[1;32m      3\u001b[0m \u001b[38;5;28;01mimport\u001b[39;00m \u001b[38;5;21;01mplotly\u001b[39;00m\u001b[38;5;21;01m.\u001b[39;00m\u001b[38;5;21;01mgraph_objects\u001b[39;00m \u001b[38;5;28;01mas\u001b[39;00m \u001b[38;5;21;01mgo\u001b[39;00m\n\u001b[1;32m      4\u001b[0m \u001b[38;5;28;01mimport\u001b[39;00m \u001b[38;5;21;01mmatplotlib\u001b[39;00m\u001b[38;5;21;01m.\u001b[39;00m\u001b[38;5;21;01mpyplot\u001b[39;00m \u001b[38;5;28;01mas\u001b[39;00m \u001b[38;5;21;01mplt\u001b[39;00m\n",
      "\u001b[0;31mModuleNotFoundError\u001b[0m: No module named 'plotly'"
     ]
    }
   ],
   "source": [
    "import pandas as pd\n",
    "import plotly.express as px\n",
    "import plotly.graph_objects as go\n",
    "import matplotlib.pyplot as plt\n",
    "import csv\n",
    "\n",
    "color_blind_red, color_blind_green, color_blind_blue = '#d95f02', '#1b9e77', '#7570b3'"
   ]
  },
  {
   "cell_type": "code",
   "execution_count": null,
   "metadata": {
    "tags": [
     "hide-input"
    ]
   },
   "outputs": [],
   "source": [
    "# Importeer het dataframe met de punten die gegeven zijn per songfestival\n",
    "euro_df = pd.read_csv('eurovision_song_contest_1975_2019.csv')\n",
    "euro_df.columns=[column.strip() for column in euro_df.columns]\n"
   ]
  },
  {
   "cell_type": "code",
   "execution_count": null,
   "metadata": {
    "tags": [
     "hide-input"
    ]
   },
   "outputs": [],
   "source": [
    "def total_points(dataframe):\n",
    "    \"\"\"\n",
    "    Itereert door het eurovisie dataframe en maakt een dictionary met daarin alle landen\n",
    "    als key en de punten die de landen hebben gehaald in de vorm van een lijst als value.\n",
    "    Vervolgens berekent de functie het gemiddelde van de totale punten. \n",
    "    Er wordt een pandas dataframe met de landen als kolom en de gemiddelde punten teruggegeven.\n",
    "    \"\"\"\n",
    "    # Maak een lege dictionary aan\n",
    "    points = {}\n",
    "\n",
    "    # Itereer over de dataframe\n",
    "    for index, row in dataframe.iterrows():\n",
    "\n",
    "        # Controleer of het om een finale gaat\n",
    "        # Zo niet, ga dan naar het volgende item in de dataframe\n",
    "        if row[1] == 'f':\n",
    "\n",
    "            # Als het land al in de dictionary staat, moeten de punten worden\n",
    "            # toegevoegd aan de lijst\n",
    "            if row[5] in points:\n",
    "                points[row[5]].append(row[6])\n",
    "\n",
    "            # Als het land nog niet in de dictionary staat moet deze worden\n",
    "            # toegevoegd met de punten\n",
    "            else:\n",
    "                points.update({row[5]:[row[6]]})\n",
    "    \n",
    "    # Maak een nieuwe dictionary om de gemiddelde punten per land in te kunnen doen\n",
    "    totals = {}\n",
    "\n",
    "    # Itereer over de points dictionary\n",
    "    # Bereken de gemiddeldes van de lijst met punten\n",
    "    for country in points:\n",
    "        totals.update({country:sum(points[country])/len(points[country])})\n",
    "\n",
    "    # Return een dataframe op basis van de totals dictionary\n",
    "    return pd.DataFrame([{\"Country\":country, \"Points\":points} for country, points in totals.items()])\n",
    "\n",
    "average_points = total_points(euro_df)\n"
   ]
  },
  {
   "cell_type": "code",
   "execution_count": null,
   "metadata": {
    "tags": [
     "remove-output",
     "hide-input"
    ]
   },
   "outputs": [],
   "source": [
    "# Maak een figuur van de wereldkaart met de gemiddelde punten die landen gehaald hebben in\n",
    "# de finales van het songfestival\n",
    "average_points_fig = px.choropleth(average_points,\n",
    "                    locationmode='country names', \n",
    "                    locations='Country', \n",
    "                    color='Points',\n",
    "                    title='Gemiddelde aantal punten dat landen hebben gekregen in de finale',\n",
    "                    height=600,\n",
    "                    color_continuous_scale=['#1E88E5', '#FFC107', '#FF005D']\n",
    "                    )\n",
    "\n",
    "# Laat het figuur zien\n",
    "# average_points_fig.show()"
   ]
  },
  {
   "cell_type": "code",
   "execution_count": null,
   "metadata": {
    "tags": [
     "hide-input"
    ]
   },
   "outputs": [],
   "source": [
    "def total_per_year(dataframe):\n",
    "    total_year = {}\n",
    "    \n",
    "    for index, row in dataframe.iterrows():\n",
    "        if row[1] == 'f':\n",
    "            if row[5] in total_year:\n",
    "                if row[0] in total_year[row[5]]:\n",
    "                    total_year[row[5]][row[0]] += row[6]\n",
    "                else:\n",
    "                    total_year[row[5]].update({row[0]: row[6]})\n",
    "            else:\n",
    "                total_year.update({row[5]: {row[0]:row[6]}})\n",
    "    print(total_year)\n",
    "    total_per_year_df = pd.DataFrame({'Country':[], 'Year':[], 'Points':[]})\n",
    "\n",
    "    for country, euro_df in total_year.items():\n",
    "        for year, score in euro_df.items():\n",
    "            total_per_year_df.loc[len(total_per_year_df)] = [country, year, score]\n",
    "\n",
    "    return total_per_year_df\n",
    "\n",
    "points_per_year = total_per_year(euro_df)\n",
    "points_per_year.head()\n"
   ]
  },
  {
   "cell_type": "code",
   "execution_count": null,
   "metadata": {
    "scrolled": false,
    "tags": [
     "hide-input"
    ]
   },
   "outputs": [],
   "source": [
    "# points_per_year['Year'] = pd.Categorical(points_per_year['Year'], ordered=True)\n",
    "# year_order = [year for year in range(1975, 2019)]\n",
    "\n",
    "# fig_per_year = px.choropleth(points_per_year, \n",
    "#                     locationmode='country names', \n",
    "#                     locations='Country', \n",
    "#                     color='Points',\n",
    "#                     animation_frame='Year',\n",
    "#                     category_orders={'Year':year_order},\n",
    "#                     title='Totale aantal punten dat een land in de finale heeft gekregen per jaar',\n",
    "#                     height=700,\n",
    "#                     color_continuous_scale=['#1E88E5', '#FFC107', '#FF005D'])\n",
    "# fig_per_year.show()"
   ]
  },
  {
   "cell_type": "code",
   "execution_count": null,
   "metadata": {
    "tags": [
     "hide-input"
    ]
   },
   "outputs": [],
   "source": [
    "# Kaart van de ontwikkeling van het gemiddelde van de punten in de finale per land\n",
    "def total_per_year(dataframe):\n",
    "    \"\"\"\n",
    "    Berekent de totale hoeveelheid punten die een land per jaar in de finale van het eurovisie\n",
    "    van de vakjury heeft gekregen.\n",
    "    \"\"\"\n",
    "\n",
    "    # Maak een lege dictionary aan voor het opslaan van de data\n",
    "    total_year = {}\n",
    "    \n",
    "    # Itereer over de dataframe met gegeven punten\n",
    "    for index, row in dataframe.iterrows():\n",
    "\n",
    "        # Controleer of er een finale gezongen werd en of de punten gegeven zijn door\n",
    "        # de vakjury\n",
    "        if row[1] == 'f' and row[3] == 'J':\n",
    "\n",
    "            # Controleer of het land al in het dictionary staat\n",
    "            if row[5] in total_year:\n",
    "\n",
    "                # Controleer of het jaar al bij het land staat\n",
    "                if row[0] in total_year[row[5]]:\n",
    "\n",
    "                    # Als het jaar al aanwezig is bij het land, worden de punten opgeteld\n",
    "                    total_year[row[5]][row[0]] += row[6]\n",
    "\n",
    "                # Als het jaar nog niet aanwezig is wordt het jaar toegevoegd aan het dictionary\n",
    "                # van het land\n",
    "                else:\n",
    "                    total_year[row[5]].update({row[0]: row[6]})\n",
    "\n",
    "            # Als het land nog niet in het dictionary staat, wordt een nieuwe key aangemaakt met\n",
    "            # daarin weer een dictionary van het jaar en het aantal punten dat behaald is\n",
    "            else:\n",
    "                total_year.update({row[5]: {row[0]:row[6]}})\n",
    "\n",
    "    # Maak een dataframe om het dictionary in te kunnen zetten\n",
    "    total_per_year_df = pd.DataFrame({'Country':[], 'Year':[], 'Points':[]})\n",
    "\n",
    "    # Voeg alle elementen van het dictionary per land toe aan het dataframe\n",
    "    for country, euro_df in total_year.items():\n",
    "        for year, score in euro_df.items():\n",
    "            total_per_year_df.loc[len(total_per_year_df)] = [country, year, score]\n",
    "\n",
    "    return total_per_year_df\n",
    "\n",
    "def development_of_mean(dataframe):\n",
    "    \"\"\"\n",
    "    Berekent de verandering van het gemiddelde totale aantal punten dat een land per jaar heeft gekregen.\n",
    "    Elk jaar wordt dus het gemiddelde geupdate naar het nieuwe aantal punten dat is behaald, tenzij\n",
    "    er niet is deelgenomen aan de finale. In dat geval wordt hetzelfde gemiddelde nog eens toegevoegd\n",
    "    om gaten in de uiteindelijke grafiek te voorkomen. De functie vult ook de waardes aan tot het jaar\n",
    "    2019, zodat de grafiek bij het eindpunt van de animatie alle uiteindelijke gemiddeldes bevat.\n",
    "    \"\"\"\n",
    "\n",
    "    # Creëer een dataframe met de totale aantal punten per land per jaar\n",
    "    total_per_year_df = total_per_year(dataframe)\n",
    "\n",
    "    # Maak een dictionary met het eerste land, jaar en punten \n",
    "    mean_per_year = {total_per_year_df.iloc[0,0] : {total_per_year_df.iloc[0,1]: total_per_year_df.iloc[0,2]}}\n",
    "\n",
    "    # Maak counters om de gemiddelden mee te kunnen berekenen\n",
    "    total_years = 0\n",
    "    total_points = total_per_year_df.iloc[0,2]\n",
    "\n",
    "    # Loop over het dataframe met totale aantal punten, sla de eerste rij over\n",
    "    for index, row in total_per_year_df[1:].iterrows():\n",
    "\n",
    "        # Controleer of het land hetzelfde is als in de rij ervoor\n",
    "        if row[0] == total_per_year_df.iloc[index - 1, 0]:\n",
    "\n",
    "            # Als het land hetzelfde is, controleer of het jaar maar één verschilt\n",
    "            # Zo niet, vul dan de missende jaren aan met het bestaande gemmiddelde\n",
    "            if row[1] != (total_per_year_df.iloc[index - 1, 1] + 1):\n",
    "                for year in range(total_per_year_df.iloc[index - 1, 1] + 1, row[1]):\n",
    "                    mean_per_year[row[0]].update({year : (total_points / total_years)})\n",
    "\n",
    "            # Vul het dict aan met het jaar en het nieuwe gemiddelde\n",
    "            total_points += row[2]\n",
    "            total_years += 1\n",
    "            mean_per_year[row[0]].update({row[1] : (total_points / total_years)})        \n",
    "\n",
    "\n",
    "        else:\n",
    "\n",
    "            # Als het land niet hetzelfde is als de rij ervoor, controleer of het laatst aangevulde jaar 2019 is\n",
    "            # Zo niet, vul dan het dict aan met hetzelfde gemiddelde tot 2019\n",
    "            if total_per_year_df.iloc[index - 1, 1] != 2019:\n",
    "                for year in range(total_per_year_df.iloc[index - 1, 1] + 1, 2020):\n",
    "                    mean_per_year[total_per_year_df.iloc[index - 1, 0]].update({year : (total_points / total_years)})\n",
    "\n",
    "            # Update het dict met het nieuwe land, jaar en aantal punten\n",
    "            mean_per_year.update({row[0]: {row[1] : row[2]}})\n",
    "\n",
    "            # Zet het totale aantal punten naar het ereste aantal punten en zet het aantal jaren op 1\n",
    "            total_points = row[2]\n",
    "            total_years = 1\n",
    "\n",
    "    # Maak een dataframe om het dictionary in te kunnen zetten\n",
    "    mean_per_year_df = pd.DataFrame({'Country':[], 'Year':[], 'Points':[]})\n",
    "\n",
    "    # Itereer over het dictionary om de waardes in het dataframe te zetten\n",
    "    for country, euro in mean_per_year.items():\n",
    "        for year, score in euro.items():\n",
    "            mean_per_year_df.loc[len(mean_per_year_df)] = [country, year, score]\n",
    "\n",
    "    return mean_per_year_df\n",
    "\n",
    "# Creëer een dataframe met het gemiddelde aantal punten per jaar\n",
    "mean_per_year = development_of_mean(euro_df)\n",
    "\n",
    "# Creëer een figuur met een wereldkaart waar per jaar de gemiddelde punten op worden laten zien\n",
    "fig_per_year = px.choropleth(mean_per_year, \n",
    "                    locationmode='country names', \n",
    "                    locations='Country', \n",
    "                    color='Points',\n",
    "                    animation_frame='Year',\n",
    "                    category_orders={'Year':year_order},\n",
    "                    title='Verandering van het totale aantal punten dat een land gemiddeld haalt in de finale',\n",
    "                    height=700,\n",
    "                    color_continuous_scale=['#1E88E5', '#FFC107', '#FF005D'],\n",
    "                    labels={'Country': 'Land', 'Year': 'Jaar', 'Points': 'Gemiddeld aantal punten'})\n",
    "\n",
    "# Laat het figuur zien\n",
    "fig_per_year.show()\n",
    "            "
   ]
  },
  {
   "cell_type": "markdown",
   "metadata": {},
   "source": [
    "### Culturele factoren\n",
    "Door sommigen wordt gesteld dat het Eurovisie Songfestival meer weg heeft van een politiek dan van een muzikaal evenement. Er is bijvoorbeeld opgemerkt dat er 'voting blocks' zijn. Dat zijn clusters van landen die elk jaar weer veel op elkaar stemmen. Veel mensen geven echter ook aan dat zij stemmen op het nummer dat ze het best vinden. Hiertoe onderzoeken wij in hoeverre het stemgedrag van landen wordt beïnvloed door culturele gelijkenis. Hierbij wordt de kwaliteit van de muziek volledig buiten beschouwing gelaten. "
   ]
  },
  {
   "cell_type": "code",
   "execution_count": null,
   "metadata": {
    "tags": [
     "hide-input"
    ]
   },
   "outputs": [],
   "source": [
    "\n",
    "# Bereken het gemiddelde aantal punten dat landen aan elkaar hebben gegeven\n",
    "average_points = euro_df.groupby(['From country', 'To country'])['Points'].mean().reset_index()\n",
    "\n",
    "# Sorteer de assen zo dat hoge waarden zo veel mogelijk bij elkaar liggen\n",
    "pivot_table = average_points.pivot(index='From country', columns='To country', values='Points')\n",
    "country_sums = pivot_table.sum(axis=1)\n",
    "sorted_countries = country_sums.sort_values(ascending=False).index.tolist()\n",
    "pivot_table = pivot_table.reindex(index=sorted_countries, columns=sorted_countries)\n",
    "\n",
    "# Maak een heatmap van het gemiddeld aantal gegeven en ontvangen punten\n",
    "hittekaart_punten = go.Figure(data=go.Heatmap(\n",
    "    x=pivot_table.columns,\n",
    "    y=pivot_table.index,\n",
    "    z=pivot_table.values,\n",
    "    colorscale='YlGnBu'\n",
    "))\n",
    "\n",
    "# Plot het figuur met titel en labels\n",
    "hittekaart_punten.update_layout(\n",
    "    width=1200,\n",
    "    height=1200,\n",
    "    title='Gemiddeld aantal punten per land',\n",
    "    xaxis_title = 'Uitdelende land',\n",
    "    yaxis_title = 'Ontvangende land'\n",
    ")\n",
    "\n",
    "hittekaart_punten.show()"
   ]
  },
  {
   "cell_type": "markdown",
   "metadata": {},
   "source": [
    "Om aan te tonen dat het stemgedrag van landen beïnvloed wordt door culturele gelijkenissen kijken we naar drie belangrijke culturele aspecten. Gelijkenis van de taal, gelijkenis van de geografische locatie en gelijkenis van de politieke geschiedenis. "
   ]
  },
  {
   "cell_type": "code",
   "execution_count": null,
   "metadata": {
    "tags": [
     "hide-input"
    ]
   },
   "outputs": [],
   "source": [
    "# vervang landcodes met landnamen via csv file \n",
    "df = pd.read_csv('dist_cepii.csv', sep=';')\n",
    "csv_file = 'cc3_cn.csv'\n",
    "\n",
    "# Create an empty dictionary\n",
    "cc3_cn = {}\n",
    "\n",
    "# Read the CSV file and populate the dictionary\n",
    "with open(csv_file, 'r', newline='') as csvfile:\n",
    "    reader = csv.reader(csvfile)\n",
    "    next(reader)  # Skip the header row\n",
    "    for row in reader:\n",
    "        code, country = row\n",
    "        cc3_cn[code] = country\n",
    "\n",
    "df = df.replace({\"iso_o\": cc3_cn} | {\"iso_d\": cc3_cn})\n",
    "\n",
    "# lijst met landen die ooit meededen importeren\n",
    "with open('landen_die_ooit_meededen.txt') as landen_file:\n",
    "    landen = landen_file.readlines()\n",
    "    landen = [land.strip('\\n') for land in landen]\n",
    "    landen = [land.strip('\\ufeff') for land in landen]\n",
    "\n",
    "# filteren op landen die ooit meededen met het songfestival\n",
    "land_relatie_df = df[df['iso_o'].isin(landen)]\n",
    "land_relatie_df = land_relatie_df[land_relatie_df['iso_d'].isin(landen)]\n",
    "\n",
    "# dataframe met data over de onderlinge stemmen opschonen\n",
    "votes_df = pd.read_csv('votes.csv', sep=';')\n",
    "cleaned_votes_df = votes_df.drop(columns=['(semi-) final', 'Edition', 'Duplicate']) # kolommmen verwijderen\n",
    "cleaned_votes_df.replace({'The Netherands': 'The Netherlands', 'F.Y.R. Macedonia':'North Macedonia', 'Macedonia':'North Macedonia'}, inplace=True) #land namen hetzelfde maken\n",
    "tele_votes_df = cleaned_votes_df[cleaned_votes_df['Jury or Televoting'].isin(['J'])] # alle jury votes verwijderen\n",
    "\n",
    "# alle kolommen niet relevante kolommen verwijderen. \n",
    "land_taal_df = land_relatie_df.drop(columns=['colony', 'comcol', 'curcol', 'col45', 'smctry', 'distcap', 'distw', 'distwces'])\n",
    "land_taal_df['dist'] = land_taal_df['dist'].str.replace(',', '.')\n",
    "\n",
    "# voeg de dataframes samen gebaseerd op de kolommen die de landen aangeven\n",
    "taal_en_votes_df = pd.merge(tele_votes_df, land_taal_df, left_on=['From country', 'To country'], right_on=['iso_o', 'iso_d'])\n",
    "taal_votes_televoting_df = taal_en_votes_df.drop(columns=['iso_o', 'iso_d', 'Jury or Televoting'])"
   ]
  },
  {
   "cell_type": "code",
   "execution_count": null,
   "metadata": {
    "tags": [
     "hide-input"
    ]
   },
   "outputs": [],
   "source": [
    "fig = go.Figure()\n",
    "\n",
    "# waarde van de punten voor zelfde taal en niet zelfde taal ophalen\n",
    "same_language_values = taal_votes_televoting_df[taal_votes_televoting_df['comlang_off']==1]['Points      ']\n",
    "different_language_values = taal_votes_televoting_df[taal_votes_televoting_df['comlang_off']==0]['Points      ']\n",
    "\n",
    "# plotten\n",
    "fig.add_trace(go.Box(y=same_language_values, name='Zelfde taal', marker=dict(color=color_blind_green)))\n",
    "fig.add_trace(go.Box(y=different_language_values, name='Andere taal', marker=dict(color=color_blind_red)))\n",
    "fig.update_layout(title='Stemmen gebaseerd op overeenkomende taal', width=500, margin=dict(l=10, r=10, t=50, b=10), yaxis=dict(title='Gemiddeld aantal gegeven punten'))\n",
    "\n",
    "fig.show()"
   ]
  },
  {
   "cell_type": "markdown",
   "metadata": {},
   "source": [
    "Bovenstaand figuur toont aan dat landen die eenzelfde officiële taal delen, elkaar ongeveer twee keer zo veel punten toekennen.Aangezien taal een cultureel goed is toont deze correlatie aan dat culturele gelijkenis een positieve invloed heeft op het aantal toegekende punten tussen landen onderling. "
   ]
  },
  {
   "cell_type": "code",
   "execution_count": null,
   "metadata": {
    "tags": [
     "hide-input"
    ]
   },
   "outputs": [],
   "source": [
    "fig1 = go.Figure()\n",
    "\n",
    "# waarde van \n",
    "neighboring_values = taal_votes_televoting_df[taal_votes_televoting_df['contig']==1]['Points      ']\n",
    "not_neighboring_values = taal_votes_televoting_df[taal_votes_televoting_df['contig']==0]['Points      ']\n",
    "\n",
    "fig1.add_trace(go.Box(y=neighboring_values, name='Aanliggend', marker=dict(color=color_blind_green)))\n",
    "fig1.add_trace(go.Box(y=not_neighboring_values, name='Niet aanliggend', marker=dict(color=color_blind_red)))\n",
    "fig1.update_layout(title='Stemmen gebaseerd op naburigheid', width=500, margin=dict(l=10, r=10, t=50, b=10),  yaxis=dict(title='Gemiddeld aantal gegeven punten'))\n",
    "\n",
    "fig1.show()"
   ]
  },
  {
   "cell_type": "markdown",
   "metadata": {},
   "source": [
    "Uit figuur 4 blijkt dat naburige landen meer op elkaar stemmen dan op niet-aangrenzende landen. Naburigheid is een indicatie van een culturele overeenkomst. Deze correlatie geeft aan dat culturele gelijkenis een positief effect heeft op het toekennen van punten. "
   ]
  },
  {
   "cell_type": "code",
   "execution_count": null,
   "metadata": {
    "tags": [
     "hide-input"
    ]
   },
   "outputs": [],
   "source": [
    "df_oostblok = pd.read_csv(\"oostblok.csv\")\n",
    "df_eurovision = pd.read_csv(\"eurovision_song_contest_1975_2019.csv\")\n",
    "df_eurovision.columns = [column.strip() for column in df_eurovision.columns]\n",
    "\n",
    "# search oostblok country votes\n",
    "df_eurovision = pd.merge(left=df_eurovision, right=df_oostblok, how=\"left\", left_on=\"From country\", right_on=\"Land\")\n",
    "df_eurovision = df_eurovision.rename(columns={\"Oostblok\" : \"from-oostblok\"})\n",
    "\n",
    "# search oostblok country voting receivers\n",
    "df_eurovision = pd.merge(left=df_eurovision, right=df_oostblok, how=\"left\", left_on=\"To country\", right_on=\"Land\")\n",
    "df_eurovision = df_eurovision.rename(columns={\"Oostblok\" : \"to-oostblok\"})\n",
    "\n",
    "# remove the land columns\n",
    "df_eurovision = df_eurovision.drop(columns=[\"Land_x\", \"Land_y\"])\n",
    "\n",
    "nob_nob_points_list = []\n",
    "nob_ob_points_list = []\n",
    "ob_ob_points_list = []\n",
    "ob_nob_points_list = []\n",
    "\n",
    "for i in range(1975, 2019):   \n",
    "    nob_to_nob = df_eurovision[(df_eurovision['from-oostblok'] == 'Nee') & (df_eurovision['to-oostblok'] =='Nee') & (df_eurovision[\"Edition\"] =='{i}f'.format(i=i))][\"Points\"]\n",
    "    nob_nob_points = nob_to_nob.sum()\n",
    "\n",
    "    nob_to_ob = df_eurovision[(df_eurovision['from-oostblok'] == 'Nee') & (df_eurovision['to-oostblok'] =='Ja') & (df_eurovision[\"Edition\"] =='{i}f'.format(i=i))][\"Points\"]\n",
    "    nob_ob_points = nob_to_ob.sum()\n",
    "\n",
    "    ob_to_ob = df_eurovision[(df_eurovision['from-oostblok'] == 'Ja') & (df_eurovision['to-oostblok'] =='Ja') & (df_eurovision[\"Edition\"] =='{i}f'.format(i=i))][\"Points\"]\n",
    "    ob_ob_points = ob_to_ob.sum()\n",
    "\n",
    "    ob_to_nob = df_eurovision[(df_eurovision['from-oostblok'] == 'Ja') & (df_eurovision['to-oostblok'] =='Nee') & (df_eurovision[\"Edition\"] =='{i}f'.format(i=i))][\"Points\"]\n",
    "    ob_nob_points = ob_to_nob.sum()\n",
    "\n",
    "    nob_nob_points_list.append(nob_nob_points)\n",
    "    nob_ob_points_list.append(nob_ob_points)\n",
    "    ob_ob_points_list.append(ob_ob_points)\n",
    "    ob_nob_points_list.append(ob_nob_points)\n",
    "\n",
    "trace1 = go.Scatter(x=list(range(1975, 2019)), y=nob_nob_points_list, mode='lines', name='Nob to Nob', line=dict(color='blue'))\n",
    "trace2 = go.Scatter(x=list(range(1975, 2019)), y=nob_ob_points_list, mode='lines', name='Nob to Ob', line=dict(color='blue', dash='10'))\n",
    "trace3 = go.Scatter(x=list(range(1975, 2019)), y=ob_ob_points_list, mode='lines', name='Ob to Ob', line=dict(color='red', dash='10'))\n",
    "trace4 = go.Scatter(x=list(range(1975, 2019)), y=ob_nob_points_list, mode='lines', name='Ob to Nob', line=dict(color='red'))\n",
    "\n",
    "# Create the data list\n",
    "data = [trace1, trace2, trace3, trace4]\n",
    "\n",
    "# Create the layout\n",
    "layout = go.Layout(title='Points Comparison', xaxis=dict(title='Year'), yaxis=dict(title='Points'))\n",
    "\n",
    "# Create the figure\n",
    "fig = go.Figure(data=data, layout=layout)\n",
    "\n",
    "# Display the figure\n",
    "fig.show()\n"
   ]
  },
  {
   "cell_type": "markdown",
   "metadata": {},
   "source": [
    "Om de gelijkheid van politieke geschiedenis te kunnen toetsen als variabele hebben we gekeken naar het oostblok. Landen die onderdeel zijn geweest van het oostblok hebben een gelijke politieke geschiedenis gehad, of in ieder geval dezelfde politieke invloed. Figuur 5 toont aan dat het niet uitmaakt of er sprake is van een gemeenschappelijke politieke geschiedenis. Deze culturele variabele heeft dus geen impact op het stemgedrag van landen. "
   ]
  },
  {
   "cell_type": "markdown",
   "metadata": {},
   "source": [
    "### Conclusie\n",
    "Culturele aspecten als taal en naburigheid hebben dus impact op het stemgedrag van landen. Een gemeenschappelijke geschiedeinis zoals de Oostblok landen hebben lijkst geen invloed te hebben."
   ]
  },
  {
   "cell_type": "markdown",
   "metadata": {},
   "source": [
    "### Niet-culturele factoren\n",
    "Overige factoren die niets met muziek te maken hebben zijn onder andere queerness van de artiest, of landen in dezelfde semi-final hebben gezeten en X."
   ]
  },
  {
   "cell_type": "code",
   "execution_count": null,
   "metadata": {
    "tags": [
     "hide-input"
    ]
   },
   "outputs": [],
   "source": [
    "# Hier komt de queerness grafiek"
   ]
  },
  {
   "cell_type": "markdown",
   "metadata": {},
   "source": [
    "Bovenstaand figuur toont aan dat er meer punten toegekend worden aan landen met queer artiesten. Zes procent van alle deelnemers is openlijk queer, maar van alle winnaars is dit zestig procent. Hieruit blijkt dat er een positieve correlatie is tussen queerness van een artiest en het aantal stemmen dat dat land krijgt. De stemming wordt dus beïnvloedt door overige, niet culturele factoren. "
   ]
  },
  {
   "cell_type": "code",
   "execution_count": null,
   "metadata": {
    "tags": [
     "hide-input"
    ]
   },
   "outputs": [],
   "source": [
    "for i in range(2016, 2020):\n",
    "    candidates_sf1 = euro_df[(euro_df.Edition == '{i}sf1'.format(i=i)) & (euro_df['Jury or Televoting'] == 'T')]['From country']\n",
    "    sf1 = list(set(candidates_sf1))\n",
    "\n",
    "    candidates_sf2 = euro_df[(euro_df.Edition== '{i}sf2'.format(i=i)) & (euro_df['Jury or Televoting'] == 'T')]['From country']\n",
    "    sf2 = list(set(candidates_sf2))\n",
    "\n",
    "\n",
    "    sf1_to_sf1 = euro_df[(euro_df['From country'].isin(sf1)) & (euro_df.Edition =='{i}f'.format(i=i)) & (euro_df['To country'].isin(sf1))]['Points']\n",
    "    s11 = sf1_to_sf1.sum()\n",
    "\n",
    "    sf1_to_sf2 = euro_df[(euro_df['From country'].isin(sf1)) & (euro_df['To country'].isin(sf2)) & (euro_df.Edition=='{i}f'.format(i=i))]['Points']\n",
    "    s12 = sf1_to_sf2.sum()\n",
    "\n",
    "    sf2_to_sf2 = euro_df[(euro_df['From country'].isin(sf2)) & (euro_df['To country'].isin(sf2)) & (euro_df.Edition=='{i}f'.format(i=i))]['Points']\n",
    "    s22 = sf2_to_sf2.sum()\n",
    "\n",
    "    sf2_to_sf1 = euro_df[(euro_df['From country'].isin(sf2)) & (euro_df['To country'].isin(sf1)) & (euro_df.Edition=='{i}f'.format(i=i))]['Points']\n",
    "    s21 = sf2_to_sf1.sum()\n",
    "   \n",
    "    all_points = sum([s11,s12,s21,s22])\n",
    "    percentages = [s11/all_points*100, s12/all_points*100, s21/all_points*100, s22/all_points*100]\n",
    "\n",
    "details = {\n",
    "    'Year' : ['2016','2016','2016','2016', '2017', '2017', '2017', '2017', '2018', '2018', '2018', '2018', '2019', '2019', '2019', '2019'],\n",
    "    'from': ['T', 'T', 'F', 'F','T', 'T', 'F', 'F','T', 'T', 'F', 'F','T', 'T', 'F', 'F'],\n",
    "    'to': ['T', 'F', 'T', 'F','T', 'F','T', 'F','T', 'F','T', 'F','T', 'F','T', 'F'],\n",
    "    'Percentages' : [27.66830870279146, 22.33169129720854, 18.041871921182263, 31.958128078817733, 32.55336617405583, 17.446633825944172, 26.354679802955665, 23.645320197044335, 30.64449917898194, 21.736453201970445, 23.37848932676519, 24.24055829228243, 17.857142857142858, 30.94525235243798, 12.681779298545765, 38.51582549187339]\n",
    "}\n",
    " \n",
    "# creating a Dataframe object\n",
    "df = pd.DataFrame(details)\n",
    "fig = px.box(df, y='Percentages', color='from', facet_col='to', facet_col_wrap=2, title = 'Analysis of mere-exposure effect')\n",
    "# Update the layout with new subplot titles\n",
    "fig.update_traces(\n",
    "    legendgroup='from',\n",
    "    name='Votes from Semifinal 1 candidates',\n",
    "    selector=dict(name='T')\n",
    ")\n",
    "\n",
    "fig.update_traces(\n",
    "    legendgroup='from',\n",
    "    name='Votes from Semifinal 2 candidates',\n",
    "    selector=dict(name='F')\n",
    ")\n",
    "fig.update_layout(\n",
    "    title='Analysis of mere-exposure effect',\n",
    "    annotations=[\n",
    "        dict(\n",
    "            x=0.18,\n",
    "            y=1.02,\n",
    "            xref='paper',\n",
    "            yref='paper',\n",
    "            text='Votes for Semifinal 1 candidates',\n",
    "            showarrow=False,\n",
    "            font=dict(size=14)\n",
    "        ),\n",
    "        dict(\n",
    "            x=0.82,\n",
    "            y=1.02,\n",
    "            xref='paper',\n",
    "            yref='paper',\n",
    "            text='Votes for Semifinal 2 candidates',\n",
    "            showarrow=False,\n",
    "            font=dict(size=14)\n",
    "        )\n",
    "    ]\n",
    ")\n",
    "fig.show()"
   ]
  },
  {
   "cell_type": "markdown",
   "metadata": {},
   "source": [
    "Figuur 7 toont aan dat landen die aan dezelfde halve finale hebben deelgenomen elkaar meer punten geven. Dit kan onder andere komen door het exposure-effect, een psychologisch fenomeen dat stelt dat mensen een voorkeur ontwikkelen voor dingen die herkenbaarder zijn. De kans is groot dat landen alleen naar hun eigen finale kijken en dus eerder geneigd zijn te stemmen op landen die ze vaker hebben gehoord. Dit blijkt ook uit figuur 7. Deze correlatie toont aan dat bij het stemmen factoren meespelen die noch op de muziek, noch op de cultuur betrekking hebben."
   ]
  },
  {
   "cell_type": "code",
   "execution_count": null,
   "metadata": {
    "tags": [
     "hide-input"
    ]
   },
   "outputs": [],
   "source": [
    "data1 = pd.read_csv('contestants.csv')\n",
    "\n",
    "# Bereken het gemiddeld aantal puntne voor plek 1 tot en met 25 in de finale\n",
    "filtered_data = data1[data1['running_final'] < 26]\n",
    "average_points = filtered_data.groupby('running_final')['place_final'].mean()\n",
    "\n",
    "# Eigenschappen van de marker\n",
    "marker = dict(\n",
    "        color = average_points.values,\n",
    "        colorscale = 'Portland_r',\n",
    "        cmin = average_points.max(),\n",
    "        cmax = average_points.min(),\n",
    "        colorbar = dict(title='Gemiddeld aantal punten'),\n",
    "        size = 15\n",
    "    )\n",
    "\n",
    "# Eigenschappen van de lijn\n",
    "line = dict(\n",
    "    color = 'grey',\n",
    "    dash = 'dot'\n",
    "   \n",
    ")\n",
    "\n",
    "# Maak een scattter plot van het gemiddeld aantal punten per afspeelplaats\n",
    "fig = go.Figure(data=go.Scatter(\n",
    "    x = average_points.index,\n",
    "    y = average_points.values,\n",
    "    mode = 'lines + markers',\n",
    "    marker = marker,\n",
    "    line = line\n",
    "))\n",
    "\n",
    "# Plot het figuur met titel en labels\n",
    "fig.update_layout(title = 'Verband tussen afspeelplaats en punten', xaxis_title='Afspeelplaats in de finale', yaxis_title='Gemiddeld aantal punten')\n",
    "\n",
    "fig.show()"
   ]
  },
  {
   "cell_type": "markdown",
   "metadata": {},
   "source": [
    "# Conclusie\n",
    "Aangrezende landen stemmen meer op elkaar dan op andere landen. Verder blijkt dat:\n",
    "\n",
    "Landen die aan dezelfde halve finale hebben deelgenomen, stemmen meer op elkaar dan landen die niet aan dezelfde halve finale hebben deelgenomen.\n",
    "\n",
    "De indeling van de halve finales is willekeurig.\n",
    "\n",
    "Dit doet vermoeden dat landen vaak alleen naar hun eigen halve finale kijken, en dus eerder geneigd zijn om te stemmen op landen die ze vaker hebben gehoord.\n",
    "\n",
    "Naburigheid is een indicatie van culturele overeenkomst.\n",
    "\n",
    "Culturele overeenkomst tussen twee landen heeft dus een positief effect op het aantal punten dat zij elkaar toekennen.\n"
   ]
  },
  {
   "cell_type": "code",
   "execution_count": null,
   "metadata": {},
   "outputs": [],
   "source": []
  }
 ],
 "metadata": {
  "celltoolbar": "Tags",
  "kernelspec": {
   "display_name": "Python 3 (ipykernel)",
   "language": "python",
   "name": "python3"
  },
  "language_info": {
   "codemirror_mode": {
    "name": "ipython",
    "version": 3
   },
   "file_extension": ".py",
   "mimetype": "text/x-python",
   "name": "python",
   "nbconvert_exporter": "python",
   "pygments_lexer": "ipython3",
   "version": "3.10.6"
  }
 },
 "nbformat": 4,
 "nbformat_minor": 2
}
