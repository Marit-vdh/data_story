{
 "cells": [
  {
   "attachments": {},
   "cell_type": "markdown",
   "metadata": {},
   "source": [
    "# Databases\n",
    "\n",
    "Voor de verkenning zijn vier bestaande datasets gebruikt. De eerste bevat het aantal punten dat elk land aan de andere landen heeft toegekend, zowel via de jury als via televoting. De dataset bevat informatie van 1975 tot 2019, van zowel de finale als de halve finale (Spijkervet, 2020). De tweede dataset bevat de afstanden tussen alle verschillende landen van de wereld. De afstand is op vier verschillende manieren uitgedrukt: de afstand tussen de hoofdsteden, de afstand tussen de meest bevolkte steden, en twee gewogen afstanden die rekening houden met de populatieverdeling. Daarnaast geeft de dataset onder andere aan of twee landen aangrenzend zijn, eenzelfde taal delen of een koloniale relatie hebben (Mayer & Zignago, 2011). De derde dataset bevat alle inzendingen van [jaartal tot jaartal], met naam, artiesten en enkele kenmerken van de artiesten, zoals geslacht en aantal artiesten (Spijkervet, 2020). De vierde dataset bevat eveneens informatie over de inzendingen van [jaartal tot jaartal], en bijbehorende artiesten [bron]. \n",
    "Daarnaast zijn er op basis van informatie op het internet nog twee datasets zelf gemaakt. De eerste daarvan bevat de namen van alle artiesten die hebben aangegeven queer te zijn, en hun seksualiteit en/of genderexpressie. De tweede bevat de namen van alle landen die ooit hebben deelgenomen aan het Eurovisie Songfestival, en of zij voormalig Oostbloklanden zijn.\n",
    "In sommige datasets waren landen aangegeven met een drie letterige landcode, terwijl die in andere werden aangegeven met hun volledige naam. Om de datasets te kunnen combineren, zijn de landcodes vervangen door namen. Daarvoor is een tabel gebruikt die van elk land de bijbehorende lettercode bevat [bron].  Vervolgens zijn de zes datasets gecombineerd, zodat er slechts twee datasets gebruikt hoefden te worden. De eerste geeft voor elke editie, voor elk land, aan hoe veel punten dat land heeft gegeven aan alle andere landen. Daarnaast geeft het aan of die landen naburig zijn of dezelfde taal spreken. Ook geeft het van beide landen aan of ze wel of niet tot het Oostblok hebben behoord en van het land dat punten ontvangt, wat de gender en seksualiteit van de artiest(en) waren."
   ]
  }
 ],
 "metadata": {
  "language_info": {
   "codemirror_mode": {
    "name": "ipython",
    "version": 3
   },
   "file_extension": ".py",
   "mimetype": "text/x-python",
   "name": "python",
   "nbconvert_exporter": "python",
   "pygments_lexer": "ipython3",
   "version": "3.11.3"
  }
 },
 "nbformat": 4,
 "nbformat_minor": 2
}