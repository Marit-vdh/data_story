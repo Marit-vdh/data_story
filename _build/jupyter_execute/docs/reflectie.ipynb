{
 "cells": [
  {
   "attachments": {},
   "cell_type": "markdown",
   "metadata": {},
   "source": [
    "# Reflectie\n",
    "\n",
    "Uit de feedback die we kregen van onze TA, Rachel, bleek dat er wat slordigheden waren in de visualisaties, en we wat verplichte secties over het hoofd hadden gezien. Ook bleek dat de plot waarbij de landen tegenover elkaar stonden niet een duidelijk overzicht gaf. \n",
    "Allereerst zijn we gaan werken aan de netheid van de visualisaties, zo hebben ze allemaal een betekenisvolle titel gekregen en een duidelijke caption. Alle afkortingen die gebruikt werden zijn uitgeschreven en de kleuren van de visualisaties zijn aangepast. Vervolgens hebben we de “Data and preprocessing” section geschreven en toegevoegd, dit ontbrak nog uit onze draft. Tot slot hebben we de plot van landen tegenover elkaar aangepast, nu kan de kijker landen selecteren en ontstaat er een plot over de geselecteerde landen. \n",
    "De feedback, en aanpassingen die daaruit volgden, hebben ervoor gezorgd dat de data story overzichtelijker is geworden, duidelijker de data weergeeft en er netter uitziet. \n"
   ]
  }
 ],
 "metadata": {
  "language_info": {
   "codemirror_mode": {
    "name": "ipython",
    "version": 3
   },
   "file_extension": ".py",
   "mimetype": "text/x-python",
   "name": "python",
   "nbconvert_exporter": "python",
   "pygments_lexer": "ipython3",
   "version": "3.11.3"
  }
 },
 "nbformat": 4,
 "nbformat_minor": 2
}