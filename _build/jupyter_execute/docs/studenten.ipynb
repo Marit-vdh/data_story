{
 "cells": [
  {
   "cell_type": "markdown",
   "metadata": {},
   "source": [
    "# De Studenten\n",
    "\n",
    "Dit data story is gemaakt door de volgende studenten (Groep L1):\n",
    "\n",
    "\n",
    "### Hugo Eskes\n",
    "14023164\n",
    "\n",
    "### Marit van den Helder\n",
    "13970097\n",
    "\n",
    "### Fédérique Lalieu\n",
    "14115905\n",
    "\n",
    "### Emma Schuurman\n",
    "13223372"
   ]
  }
 ],
 "metadata": {
  "kernelspec": {
   "display_name": "Python 3 (ipykernel)",
   "language": "python",
   "name": "python3"
  },
  "language_info": {
   "codemirror_mode": {
    "name": "ipython",
    "version": 3
   },
   "file_extension": ".py",
   "mimetype": "text/x-python",
   "name": "python",
   "nbconvert_exporter": "python",
   "pygments_lexer": "ipython3",
   "version": "3.11.3"
  }
 },
 "nbformat": 4,
 "nbformat_minor": 2
}