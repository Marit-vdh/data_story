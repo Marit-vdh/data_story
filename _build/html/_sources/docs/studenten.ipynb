{
 "cells": [
  {
   "attachments": {},
   "cell_type": "markdown",
   "metadata": {},
   "source": [
    "# De Studenten\n",
    "\n",
    "Dit data story is gemaakt door de volgende studenten (Groep L1):\n",
    "\n",
    "### Emma Schuurman\n",
    "13223372\n",
    "\n",
    "### Hugo Eskes\n",
    "14023164\n",
    "\n",
    "### Fédérique Lalieu\n",
    "14115905\n",
    "\n",
    "### Marit van den Helder\n",
    "13970097"
   ]
  }
 ],
 "metadata": {
  "language_info": {
   "name": "python"
  },
  "orig_nbformat": 4
 },
 "nbformat": 4,
 "nbformat_minor": 2
}
