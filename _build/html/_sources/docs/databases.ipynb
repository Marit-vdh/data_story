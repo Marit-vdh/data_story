{
 "cells": [
  {
   "attachments": {},
   "cell_type": "markdown",
   "metadata": {},
   "source": [
    "# Databases\n",
    "\n",
    "Dit is de verantwoording van de datasets en preprocessing.\n",
    "\n",
    "Voor de verkenning zijn vier bestaande datasets gebruikt. De eerste bevat het aantal punten dat elk land aan de andere landen heeft toegekend, zowel via de jury als via televoting. De dataset bevat informatie van 1975 tot 2019, van zowel de finale als de halve finale (Spijkervet, 2020). De tweede dataset bevat de afstanden tussen alle verschillende landen van de wereld. De afstand is op vier verschillende manieren uitgedrukt: de afstand tussen de hoofdsteden, de afstand tussen de meest bevolkte steden, en twee gewogen afstanden die rekening houden met de populatieverdeling. Daarnaast geeft de dataset onder andere aan of twee landen aangrenzend zijn, eenzelfde taal delen of een koloniale relatie hebben (Mayer & Zignago, 2011). De derde dataset bevat alle inzendingen van 1956 tot 2022 met naam, positie in het programma, artiesten en enkele kenmerken van de artiesten, zoals geslacht en aantal artiesten (Spijkervet, 2020). De vierde dataset bevat eveneens informatie over de inzendingen van 2009 tot 2022, en bijbehorende artiesten (ODI6s, 2023). \n",
    "Daarnaast zijn er op basis van informatie op het internet nog twee datasets zelf gemaakt. De eerste daarvan bevat de namen van alle artiesten die hebben aangegeven queer te zijn, en hun seksualiteit en/of genderexpressie. De tweede bevat de namen van alle landen die ooit hebben deelgenomen aan het Eurovisie Songfestival, en of zij voormalig Oostbloklanden zijn.\n",
    "In sommige datasets waren landen aangegeven met een drie letterige landcode, terwijl die in andere werden aangegeven met hun volledige naam. Om de datasets te kunnen combineren, zijn de landcodes vervangen door namen. Daarvoor is een tabel gebruikt die van elk land de bijbehorende lettercode bevat (List of Country Codes by Alpha-2, Alpha-3 Code (ISO 3166), n.d.). Vervolgens zijn de zes datasets gecombineerd, zodat er slechts twee datasets gebruikt hoefden te worden. De eerste geeft voor elke editie, voor elk land, aan hoe veel punten dat land heeft gegeven aan alle andere landen. Daarnaast geeft het aan of die landen naburig zijn of dezelfde taal spreken. Ook geeft het van beide landen aan of ze wel of niet tot het Oostblok hebben behoord en van het land dat punten ontvangt, wat de gender en seksualiteit van de artiest(en) waren."
   ]
  }
 ],
 "metadata": {
  "language_info": {
   "name": "python"
  },
  "orig_nbformat": 4
 },
 "nbformat": 4,
 "nbformat_minor": 2
}
